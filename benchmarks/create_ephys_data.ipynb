{
 "cells": [
  {
   "cell_type": "markdown",
   "metadata": {},
   "source": [
    "First, create a new environment and install:\n",
    "> `pip install mearec`\n",
    "\n",
    "\n",
    "Sidenote, if you get an error while creating templates.. you may need to compile some stuff by going `~/.config/mearec/1.9.0/cell_models/bbp/mods` and running `nrnivmodl`. See note [here](https://github.com/SpikeInterface/MEArec/issues/166#issuecomment-1901578766)."
   ]
  },
  {
   "cell_type": "code",
   "execution_count": 1,
   "metadata": {},
   "outputs": [],
   "source": [
    "import MEArec as mr"
   ]
  },
  {
   "cell_type": "markdown",
   "metadata": {},
   "source": [
    "## Generate waveform templates"
   ]
  },
  {
   "cell_type": "code",
   "execution_count": 2,
   "metadata": {},
   "outputs": [],
   "source": [
    "\n",
    "templates_params = mr.get_default_templates_params()\n",
    "cell_models_folder = mr.get_default_cell_models_folder()"
   ]
  },
  {
   "cell_type": "code",
   "execution_count": null,
   "metadata": {},
   "outputs": [],
   "source": [
    "# takes a few minutes\n",
    "\n",
    "templates_params['probe'] = 'Neuropixels-384'\n",
    "templates_params['n'] = 300\n",
    "\n",
    "tempgen = mr.gen_templates(cell_models_folder=cell_models_folder, params=templates_params, verbose=True, n_jobs=1)"
   ]
  },
  {
   "cell_type": "code",
   "execution_count": null,
   "metadata": {},
   "outputs": [],
   "source": [
    "# save templates\n",
    "templates_filename = 'data/templates_300_neuropixels.h5'\n",
    "mr.save_template_generator(tempgen=tempgen, filename=templates_filename)"
   ]
  },
  {
   "cell_type": "markdown",
   "metadata": {},
   "source": [
    "## Generate timeseries recordings"
   ]
  },
  {
   "cell_type": "code",
   "execution_count": null,
   "metadata": {},
   "outputs": [],
   "source": [
    "# load templates\n",
    "tempgen = mr.load_templates(templates_filename)"
   ]
  },
  {
   "cell_type": "code",
   "execution_count": null,
   "metadata": {},
   "outputs": [],
   "source": [
    "recording_params = mr.get_default_recordings_params()\n",
    "# pprint(recording_params)"
   ]
  },
  {
   "cell_type": "code",
   "execution_count": null,
   "metadata": {},
   "outputs": [],
   "source": [
    "# Set parameters\n",
    "recording_params['spiketrains']['n_exc'] = 200\n",
    "recording_params['spiketrains']['n_inh'] = 50\n",
    "recording_params['spiketrains']['seed'] = 0\n",
    "\n",
    "recording_params['templates']['min_amp'] = 40\n",
    "recording_params['templates']['max_amp'] = 300\n",
    "recording_params['templates']['seed'] = 0\n",
    "\n",
    "recording_params['recordings']['modulation'] = 'electrode'\n",
    "recording_params['recordings']['noise_mode'] = 'distance-correlated' #'uncorrelated'\n",
    "recording_params['recordings']['noise_half_distance'] = 500\n",
    "recording_params['recordings']['fs'] = 25000\n",
    "recording_params['recordings']['bursting'] = True\n",
    "recording_params['recordings']['n_bursting'] = 20\n",
    "# recording_params['recordings']['f_inf'] = 25\n",
    "# recording_params['recordings']['st_inf'] = 5\n",
    "recording_params['recordings']['noise_color'] = True\n",
    "recording_params['recordings']['color_peak'] = 60\n",
    "recording_params['recordings']['noise_level'] = 15\n",
    "recording_params['recordings']['filter_cutoff'] = [300, 6000]\n",
    "\n",
    "# use chunk options\n",
    "recording_params['recordings']['chunk_conv_duration'] = 10\n",
    "recording_params['recordings']['chunk_noise_duration'] = 10\n",
    "recording_params['recordings']['chunk_filter_duration'] = 10\n",
    "recording_params['recordings']['seed'] = 0"
   ]
  },
  {
   "cell_type": "code",
   "execution_count": null,
   "metadata": {},
   "outputs": [],
   "source": [
    "%%time\n",
    "\n",
    "durations = [10, 100, 200]\n",
    "\n",
    "for dur in durations:\n",
    "    recording_params['spiketrains']['duration'] = dur\n",
    "    recgen = mr.gen_recordings(templates=templates_filename, params=recording_params, verbose=True)\n",
    "    print('Recording shape', recgen.recordings.shape)\n",
    "    mr.save_recording_generator(recgen, f'data/ephys_sim_neuropixels_{dur}s_384ch.h5')"
   ]
  },
  {
   "cell_type": "markdown",
   "metadata": {},
   "source": [
    "## Add channel names object"
   ]
  },
  {
   "cell_type": "code",
   "execution_count": 16,
   "metadata": {},
   "outputs": [
    {
     "name": "stdout",
     "output_type": "stream",
     "text": [
      "/Users/droumis/data/ephys_sim_neuropixels/ephys_sim_neuropixels_1s_384ch.h5 num_channels: 384\n",
      "channels object already present.\n",
      "/Users/droumis/data/ephys_sim_neuropixels/ephys_sim_neuropixels_10s_384ch.h5 num_channels: 384\n",
      "channels object already present.\n",
      "/Users/droumis/data/ephys_sim_neuropixels/ephys_sim_neuropixels_100s_384ch.h5 num_channels: 384\n",
      "channels object added successfully.\n",
      "channels object already present.\n",
      "/Users/droumis/data/ephys_sim_neuropixels/ephys_sim_neuropixels_200s_384ch.h5 num_channels: 384\n",
      "channels object added successfully.\n",
      "channels object already present.\n"
     ]
    }
   ],
   "source": [
    "import h5py\n",
    "from pathlib import Path\n",
    "\n",
    "durations = [1, 10, 100, 200]\n",
    "\n",
    "for dur in durations:\n",
    "    # Open the existing HDF5 file in append mode\n",
    "    H5_PATH = Path(f'~/data/ephys_sim_neuropixels/ephys_sim_neuropixels_{dur}s_384ch.h5').expanduser()\n",
    "    with h5py.File(H5_PATH, 'a') as f:\n",
    "        num_channels = f['channel_positions'].shape[0]\n",
    "        print(H5_PATH, 'num_channels:', num_channels)\n",
    "        # skip if 'channels' object already exists\n",
    "        if 'channels' in f:\n",
    "            print(\"channels object already present.\")\n",
    "        else:\n",
    "            f.create_dataset('channels', data=list(range(384)))\n",
    "            print(\"channels object added successfully.\") \n",
    "    "
   ]
  },
  {
   "cell_type": "code",
   "execution_count": 9,
   "metadata": {},
   "outputs": [
    {
     "data": {
      "text/plain": [
       "PosixPath('/Users/droumis/data/ephys_sim_neuropixels_10s_384ch.h5')"
      ]
     },
     "execution_count": 9,
     "metadata": {},
     "output_type": "execute_result"
    }
   ],
   "source": [
    "H5_PATH"
   ]
  },
  {
   "cell_type": "code",
   "execution_count": null,
   "metadata": {},
   "outputs": [],
   "source": []
  }
 ],
 "metadata": {
  "kernelspec": {
   "display_name": "Python 3 (ipykernel)",
   "language": "python",
   "name": "python3"
  },
  "language_info": {
   "codemirror_mode": {
    "name": "ipython",
    "version": 3
   },
   "file_extension": ".py",
   "mimetype": "text/x-python",
   "name": "python",
   "nbconvert_exporter": "python",
   "pygments_lexer": "ipython3",
   "version": "3.11.8"
  }
 },
 "nbformat": 4,
 "nbformat_minor": 4
}
