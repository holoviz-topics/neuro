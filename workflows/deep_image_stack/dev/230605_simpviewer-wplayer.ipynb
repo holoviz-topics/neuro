{
 "cells": [
  {
   "cell_type": "code",
   "execution_count": null,
   "id": "4985b274-9286-4b48-85ca-542650fd23e7",
   "metadata": {},
   "outputs": [],
   "source": []
  },
  {
   "cell_type": "code",
   "execution_count": null,
   "id": "2128f887-0483-40b8-8d7b-2643f34a48bc",
   "metadata": {},
   "outputs": [],
   "source": [
    "from neurodatagen.imaging import simulate_miniscope_data\n",
    "import panel as pn; pn.extension()\n",
    "import hvplot.xarray"
   ]
  },
  {
   "cell_type": "code",
   "execution_count": null,
   "id": "24a8db58-d9ba-4f10-b777-8042ac177746",
   "metadata": {},
   "outputs": [],
   "source": [
    "ncell = 15\n",
    "dims = {'height': 256, 'width': 256, 'frame': 300}\n",
    "\n",
    "data = simulate_miniscope_data(ncell=ncell, dims=dims).compute()"
   ]
  },
  {
   "cell_type": "code",
   "execution_count": null,
   "id": "b3f38c90-dbea-41f2-807d-13e651e78b83",
   "metadata": {
    "tags": []
   },
   "outputs": [],
   "source": [
    "data"
   ]
  },
  {
   "cell_type": "markdown",
   "id": "a62c6959-8260-404d-a916-f2259f9375ab",
   "metadata": {},
   "source": [
    "### Version 1: Simple viewer, hvplot with default slider"
   ]
  },
  {
   "cell_type": "code",
   "execution_count": null,
   "id": "8eb6e09b-2b39-4a85-b83d-50ffd4d8a9d2",
   "metadata": {},
   "outputs": [],
   "source": [
    "data_computed.hvplot.image(\n",
    "    groupby=\"frame\",\n",
    "    cmap=\"Viridis\",\n",
    "    frame_height=400,\n",
    "    frame_width=400,\n",
    "    colorbar=False,\n",
    ")"
   ]
  },
  {
   "cell_type": "markdown",
   "id": "267ea814-45ab-4fb5-8114-6e6123574667",
   "metadata": {},
   "source": [
    "### Version 2: Simple viewer, hvPlot with Player Widget"
   ]
  },
  {
   "cell_type": "code",
   "execution_count": null,
   "id": "204fa8bb-d658-4d35-a4a1-142a74987ea3",
   "metadata": {
    "tags": []
   },
   "outputs": [],
   "source": [
    "fs = 30 # frames per second\n",
    "\n",
    "video_player = pn.widgets.Player(\n",
    "    length=len(data.coords[\"frame\"]),\n",
    "    interval=1000//fs, # ms per frame\n",
    "    value=int(frames.min()),\n",
    "    max_width=600,\n",
    "    max_height=90,\n",
    "    loop_policy=\"loop\",\n",
    "    sizing_mode=\"stretch_width\",\n",
    ")\n",
    "\n",
    "data.hvplot.image(\n",
    "    groupby=\"frame\",\n",
    "    cmap=\"Viridis\",\n",
    "    frame_height=400,\n",
    "    frame_width=400,\n",
    "    colorbar=False,\n",
    "    widgets={\"frame\": video_player},\n",
    "    widget_layout=pn.Column,\n",
    "    widget_location=\"top\",\n",
    ")\n"
   ]
  }
 ],
 "metadata": {
  "kernelspec": {
   "display_name": "Python 3 (ipykernel)",
   "language": "python",
   "name": "python3"
  },
  "language_info": {
   "codemirror_mode": {
    "name": "ipython",
    "version": 3
   },
   "file_extension": ".py",
   "mimetype": "text/x-python",
   "name": "python",
   "nbconvert_exporter": "python",
   "pygments_lexer": "ipython3",
   "version": "3.9.16"
  }
 },
 "nbformat": 4,
 "nbformat_minor": 5
}
