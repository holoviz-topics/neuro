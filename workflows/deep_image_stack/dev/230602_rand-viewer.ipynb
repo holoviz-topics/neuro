{
 "cells": [
  {
   "cell_type": "code",
   "execution_count": null,
   "id": "c3c9b1b5-f890-4c7f-8ec0-6cf325b205b5",
   "metadata": {
    "tags": []
   },
   "outputs": [],
   "source": [
    "import numpy as np\n",
    "import xarray as xr\n",
    "import hvplot.xarray\n",
    "import param\n",
    "import holoviews as hv; hv.extension('bokeh')\n",
    "from holoviews.streams import Stream\n",
    "import panel as pn; pn.extension()"
   ]
  },
  {
   "cell_type": "code",
   "execution_count": null,
   "id": "05ec961c-64a3-45fb-a89f-224af583d5e8",
   "metadata": {
    "tags": []
   },
   "outputs": [],
   "source": [
    "n_frames = 300\n",
    "height = 256\n",
    "width = 256\n",
    "\n",
    "# Create random float values between 0 and 1, then scale to between 0 and 255\n",
    "noise = np.random.rand(n_frames, height, width) * 256\n",
    "\n",
    "# Convert to unsigned 8-bit integer (this rounds down so max is 255)\n",
    "noise = noise.astype(np.uint8)\n",
    "\n",
    "data = xr.DataArray(\n",
    "    noise,\n",
    "    coords={\"frame\": range(n_frames), \"height\": range(height), \"width\": range(width)},\n",
    "    dims=[\"frame\", \"height\", \"width\"],\n",
    ")"
   ]
  },
  {
   "cell_type": "code",
   "execution_count": null,
   "id": "cec8d9a1-cefb-4c35-8b62-233d5a2f2a5a",
   "metadata": {
    "tags": []
   },
   "outputs": [],
   "source": [
    "data"
   ]
  },
  {
   "cell_type": "markdown",
   "id": "77d3229c-4acb-4f4c-9a32-bebda30925e3",
   "metadata": {},
   "source": [
    "## Viewer with default slider"
   ]
  },
  {
   "cell_type": "code",
   "execution_count": null,
   "id": "f411e036-947b-4a74-9edb-ff0ec33c7c33",
   "metadata": {
    "tags": []
   },
   "outputs": [],
   "source": [
    "data.hvplot.image(groupby=\"frame\", cmap=\"Viridis\", frame_height=400, frame_width=400, colorbar=False) "
   ]
  },
  {
   "cell_type": "markdown",
   "id": "3c0c9fdb-b599-46bf-986a-54afe71e32f6",
   "metadata": {},
   "source": [
    "## Viewer with Player widget\n",
    "- Task: is there a simpler or more performant implementation of this?"
   ]
  },
  {
   "cell_type": "code",
   "execution_count": null,
   "id": "ab72ec6a-d222-45f0-91a8-54ade9d2f3a7",
   "metadata": {
    "tags": []
   },
   "outputs": [],
   "source": [
    "frames = data.coords[\"frame\"].values\n",
    "f_min = int(frames.min())\n",
    "f_max = int(frames.max())\n",
    "height = data.sizes[\"height\"]\n",
    "width = data.sizes[\"width\"]\n",
    "\n",
    "# Generate Image object for a given frame\n",
    "def generate_image(frame, data):  \n",
    "    return hv.Image(\n",
    "        data.sel(frame=frame).compute(), kdims=[\"width\", \"height\"]\n",
    "    )\n",
    "\n",
    "# Setup frame stream\n",
    "frame_param = param.Integer(default=f_min, bounds=(f_min, f_max))\n",
    "FrameStream = Stream.define(\"FrameStream\", frame=frame_param)\n",
    "frame_stream = FrameStream()\n",
    "\n",
    "# Dynamic map of image via frame stream\n",
    "image_generator = pn.bind(generate_image, data=data)\n",
    "image_map = hv.DynamicMap(image_generator, streams=[frame_stream]).opts(\n",
    "    frame_width=400, aspect=width / height, cmap=\"Viridis\"\n",
    ")\n",
    "\n",
    "# Create a video player widget\n",
    "video_player = pn.widgets.Player(\n",
    "    length=len(frames), interval=10, value=f_min, width=600, height=90\n",
    ")\n",
    "\n",
    "# update the frame stream when a new event occurs on the widget\n",
    "def update_frame_stream(event):\n",
    "    frame_stream.event(frame=int(frames[event.new]))\n",
    "\n",
    "# Link player widget to the frame stream update function\n",
    "video_player.param.watch(update_frame_stream, \"value\")\n",
    "\n",
    "layout = pn.layout.Column(video_player, image_map)\n",
    "layout"
   ]
  },
  {
   "cell_type": "code",
   "execution_count": null,
   "id": "3a0b2ea0-22d9-445b-8673-3645d27d787a",
   "metadata": {},
   "outputs": [],
   "source": []
  }
 ],
 "metadata": {
  "kernelspec": {
   "display_name": "Python 3 (ipykernel)",
   "language": "python",
   "name": "python3"
  },
  "language_info": {
   "codemirror_mode": {
    "name": "ipython",
    "version": 3
   },
   "file_extension": ".py",
   "mimetype": "text/x-python",
   "name": "python",
   "nbconvert_exporter": "python",
   "pygments_lexer": "ipython3",
   "version": "3.9.16"
  }
 },
 "nbformat": 4,
 "nbformat_minor": 5
}
