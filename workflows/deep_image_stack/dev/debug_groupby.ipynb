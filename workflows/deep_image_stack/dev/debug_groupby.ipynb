{
 "cells": [
  {
   "cell_type": "code",
   "execution_count": null,
   "id": "aebd4432-a940-4852-91d0-fa93c1f60d90",
   "metadata": {},
   "outputs": [],
   "source": [
    "# ensure there is no .db in the cwd\n",
    "\n",
    "from holonote.annotate import Annotator\n",
    "from holonote.app import PanelWidgets\n",
    "import panel as pn; pn.extension()\n",
    "import holoviews as hv; hv.extension('bokeh')\n",
    "from holonote.annotate.connector import SQLiteDB\n",
    "\n",
    "annotator = Annotator({\"height\": float, \"width\": float}, fields=[\"type\"],\n",
    "                      connector=SQLiteDB(filename=':memory:'))\n",
    "annotator.groupby = \"type\"\n",
    "annotator_widgets = PanelWidgets(annotator)\n",
    "\n",
    "def if_event(event):\n",
    "    print('wtf')\n",
    "    # if not isinstance(event, bool):\n",
    "    print(event.fields[annotator.groupby])\n",
    "    # else:\n",
    "        # print('bool event')\n",
    "    print(annotator.df[annotator.groupby].unique())\n",
    "\n",
    "pn.bind(if_event, annotator, watch=True)\n",
    "\n",
    "pn.Column(annotator_widgets, annotator * hv.Image([], ['width', 'height'])).servable()"
   ]
  }
 ],
 "metadata": {
  "kernelspec": {
   "display_name": "Python 3 (ipykernel)",
   "language": "python",
   "name": "python3"
  },
  "language_info": {
   "codemirror_mode": {
    "name": "ipython",
    "version": 3
   },
   "file_extension": ".py",
   "mimetype": "text/x-python",
   "name": "python",
   "nbconvert_exporter": "python",
   "pygments_lexer": "ipython3",
   "version": "3.12.4"
  }
 },
 "nbformat": 4,
 "nbformat_minor": 5
}
