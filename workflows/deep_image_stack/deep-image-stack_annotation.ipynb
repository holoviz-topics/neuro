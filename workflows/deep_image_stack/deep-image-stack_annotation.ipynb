{
 "cells": [
  {
   "cell_type": "markdown",
   "id": "9ce2d846-79a9-473d-9133-e7211c0132df",
   "metadata": {},
   "source": [
    "# Deep Image Stack Annotation\n",
    "\n",
    "![](assets/20240723_deep_image_stack_annotation.png)\n"
   ]
  },
  {
   "cell_type": "markdown",
   "id": "b04507d9-011c-4f56-9611-beb7ab712a6c",
   "metadata": {},
   "source": [
    "## Overview\n",
    "\n",
    "This workflow is an exension of the primary [deep image stack workflow](./workflow_deep-image-stack.ipynb) that adds annotation capabilities.\n",
    "\n",
    "### Key Software\n",
    "Alongside [HoloViz](https://github.com/holoviz), [Bokeh](https://holoviz.org/), and several other foundational packages, we make extensive use of key open source libraries to implement our solution, such as:\n",
    "\n",
    "- **[HoloNote](https://github.com/pydata/xarray):** Provides for annotation capabilities on HoloViews elements."
   ]
  },
  {
   "cell_type": "markdown",
   "id": "960fbe91-aadd-4e4f-bc9d-7a20abff60fa",
   "metadata": {},
   "source": [
    "## Prerequisites and Resources\n",
    "\n",
    "| Topic | Type | Notes |\n",
    "| --- | --- | --- |\n",
    "| [Deep Image Stack Workflow](./workflow_deep-image-stack.ipynb) | Prerequisite | Primary workflow |"
   ]
  },
  {
   "cell_type": "markdown",
   "id": "87971440-1789-44ca-943d-500f6bfc3ddc",
   "metadata": {},
   "source": [
    "## Imports and Configuration"
   ]
  },
  {
   "cell_type": "code",
   "execution_count": null,
   "id": "b8d0189b-3fa2-4dac-849f-078f76fe6a51",
   "metadata": {},
   "outputs": [],
   "source": [
    "from pathlib import Path\n",
    "import numpy as np\n",
    "import xarray as xr\n",
    "import holoviews as hv\n",
    "import panel as pn\n",
    "\n",
    "pn.extension()\n",
    "hv.extension('bokeh')"
   ]
  },
  {
   "cell_type": "markdown",
   "id": "eb74bbf8-2ed7-4427-8d87-ba6b62c2bae7",
   "metadata": {},
   "source": [
    "## Loading and Inspecting the Data"
   ]
  },
  {
   "cell_type": "code",
   "execution_count": null,
   "id": "67cfed10-37a5-42bd-9857-12a2cc1608d3",
   "metadata": {},
   "outputs": [],
   "source": [
    "DATA_PATH = \"data/real_miniscope_uint8.zarr\"\n",
    "\n",
    "ds = xr.open_dataset(\n",
    "    DATA_PATH,\n",
    "    engine = 'zarr',\n",
    "    chunks = {'frame': 400, 'height':-1, 'width':-1},  # chunk by sets of complete frames\n",
    ")\n",
    "da = ds['varr_ref']\n",
    "da"
   ]
  },
  {
   "cell_type": "markdown",
   "id": "5991ca20-eaa0-401a-9b05-6cc22eaa3bcc",
   "metadata": {},
   "source": [
    "## Data Visualization"
   ]
  },
  {
   "cell_type": "markdown",
   "id": "63a0ec8b-f219-479f-87ae-bc70e6c85428",
   "metadata": {},
   "source": [
    "Let's start with our simple HoloViews based app that is complementary to the other approches in the primary workflow. We will want to customize the positioning of the Here, for a straightforward way get a handle on the slider widget that controls the active frame, we'll use a DynamicMap that calls plot_image every time the slider value change."
   ]
  },
  {
   "cell_type": "code",
   "execution_count": null,
   "id": "25684582-529e-4986-89b6-47701a6b16ed",
   "metadata": {},
   "outputs": [],
   "source": [
    "# Link function to create image from player widget frame value\n",
    "def plot_image(value):\n",
    "    return hv.Image(da.sel(frame=value), kdims=[\"width\", \"height\"]).opts(\n",
    "        title=f'frame = {value}',\n",
    "        frame_height=da.sizes['height'],\n",
    "        frame_width=da.sizes['width'],\n",
    "        cmap = \"Viridis\",\n",
    "        clim=(0,20),\n",
    "        colorbar = True,\n",
    "        tools=['hover', 'crosshair'],\n",
    "        toolbar='right',\n",
    "        scalebar=True,\n",
    "        scalebar_unit=(\"µm\", \"m\"), # each data bin is about 1 µm\n",
    "        apply_hard_bounds=True,\n",
    "        scalebar_opts={\n",
    "        'background_fill_alpha': 0.5,\n",
    "        'border_line_color': None,\n",
    "        'bar_length': 0.10,\n",
    "        }\n",
    "    )\n",
    "\n",
    "video_player = pn.widgets.Player(\n",
    "    length =len(da.coords[\"frame\"]),\n",
    "    interval = 100,  # ms\n",
    "    value = 250, # start frame\n",
    "    height=90,\n",
    "    loop_policy=\"loop\",\n",
    "    align='center',\n",
    ")\n",
    "\n",
    "main_view = hv.DynamicMap(pn.bind(plot_image, video_player.param.value_throttled))\n",
    "\n",
    "# Frame Number Indicator\n",
    "frame_reactive = pn.bind(lambda value: f'### frame: {value}', video_player.param.value)\n",
    "frame_markdown = pn.pane.Markdown(object=frame_reactive)\n",
    "\n",
    "# Max Over Time Overlay\n",
    "max_proj_time = da.max('frame').compute().astype(np.float32)\n",
    "img_max_proj_time = hv.Image(\n",
    "    max_proj_time, ['width', 'height'], label='Max Over Time').opts(\n",
    "    frame_height=da.sizes['height'],\n",
    "    frame_width=da.sizes['width'],\n",
    "    cmap='magma',\n",
    ")\n",
    "alpha_slider = pn.widgets.FloatSlider(start=0, end=1, step=.1, value=0.3, name='Alpha of Max Over Time', align='center')\n",
    "alpha_slider.jslink(img_max_proj_time, value='glyph.global_alpha')\n",
    "\n",
    "player_layout = pn.WidgetBox('## Playback', video_player, frame_markdown, horizontal=True, align='start')\n",
    "alpha_slider_layout = pn.WidgetBox('## Max Overlay', alpha_slider, horizontal=True, align='start')"
   ]
  },
  {
   "cell_type": "markdown",
   "id": "c19c9726-0f80-44aa-ab82-4c640ea0f080",
   "metadata": {},
   "source": [
    "### Spatial Ranges Annotation Extension\n",
    "\n",
    "We will now construct an annotator object that enables direct annotation of regions of spatial regions interest within the visual interface utilizing the HoloNote package."
   ]
  },
  {
   "cell_type": "code",
   "execution_count": null,
   "id": "8391972e-3d05-4821-af68-788c5fdde687",
   "metadata": {},
   "outputs": [],
   "source": [
    "from holonote.annotate import Annotator\n",
    "from holonote.app import PanelWidgets\n",
    "from holonote.app.tabulator import AnnotatorTable\n",
    "\n",
    "annotator = Annotator({\"height\": float, \"width\": float}, fields=[\"type\"], groupby=\"type\")\n",
    "color_dim = hv.dim(\"type\").categorize(\n",
    "    categories={\"A\": \"red\", \"B\": \"orange\", \"C\": \"cyan\"}, default=\"grey\"\n",
    ")\n",
    "annotator.style.color = color_dim\n",
    "annotator.style.alpha=.5\n",
    "panel_widgets = PanelWidgets(annotator)\n",
    "table_widget = AnnotatorTable(annotator)\n",
    "annotator_widgets = pn.WidgetBox('## Annotator', panel_widgets, table_widget, horizontal=True, align='start', scroll=True)"
   ]
  },
  {
   "cell_type": "markdown",
   "id": "f26a6e65-3bca-422e-86bb-64c08a505994",
   "metadata": {},
   "source": [
    "#### Link Annotations to Timeseries\n",
    "\n",
    "Finally, we will display the mean timeseries of all the data in the annotated spatial regions."
   ]
  },
  {
   "cell_type": "code",
   "execution_count": null,
   "id": "7b84a0d7-1baa-4df6-b50f-93a878f8655b",
   "metadata": {},
   "outputs": [],
   "source": [
    "da.coords[\"frame\"].values[0]"
   ]
  },
  {
   "cell_type": "code",
   "execution_count": null,
   "id": "f5819516-208c-4a69-9765-1a3025edee24",
   "metadata": {},
   "outputs": [],
   "source": [
    "# Initialize the empty time series plot\n",
    "curve_opts = dict(\n",
    "    responsive=True,\n",
    "    frame_height=da.sizes['height'],\n",
    "    min_width=300,\n",
    "    show_legend=False,\n",
    "    xlabel='frame',\n",
    "    tools=['hover'],\n",
    "    line_alpha=.6,\n",
    "    framewise=True,\n",
    "    axiswise=True,\n",
    ")\n",
    "\n",
    "def plot_ts(event):\n",
    "    curves = {}\n",
    "    df = annotator.df\n",
    "    for i,row in df.iterrows():\n",
    "        h1, h2, w1, w2 = row[[\"start[height]\", \"end[height]\", \"start[width]\", \"end[width]\"]]\n",
    "        ds_sel = da.sel(height=slice(h1, h2), width=slice(w1, w2))\n",
    "        curve = hv.Curve(ds_sel.mean([\"height\", \"width\"]), group=row['type'], label=f'{i[:6]}')\n",
    "        curve = curve.opts(subcoordinate_y=True, color=panel_widgets.colormap[row['type']], **curve_opts)\n",
    "        curves[f\"{row['type']} {i[:6]}\"] = curve\n",
    "    time_series.object = (vline * hv.Overlay(curves, kdims=['curve'])).opts(title='Annotated Mean Timeseries', xlim = (frames[0], frames[-1]))\n",
    "\n",
    "annotator.on_event(plot_ts)\n",
    "\n",
    "def plot_frame_indicator_line(value):\n",
    "    if value:\n",
    "        return hv.VSpans((value, value)).opts(axiswise=True, framewise=True)\n",
    "\n",
    "line_opts = dict(color=\"grey\", line_width=5, fill_alpha=.5)\n",
    "vline = hv.DynamicMap(pn.bind(plot_frame_indicator_line, video_player)).opts(**line_opts)\n",
    "\n",
    "frames = da.coords[\"frame\"].values\n",
    "time_series = pn.pane.HoloViews(vline * hv.Curve([]).opts(xlim = (frames[0], frames[-1]),\n",
    "    title='Create an annotation in the image', **curve_opts))\n",
    "\n",
    "# WIP\n",
    "# def highlight_selected(indices):\n",
    "#     print(indices)\n",
    "#     if indices:\n",
    "#         # reset all to original alpha\n",
    "#         for c in time_series.object:\n",
    "#             c = c.opts(line_alpha=.6)\n",
    "        \n",
    "#         # find and change alpha of selected curve\n",
    "#         i = indices[0]\n",
    "#         row = annotator.df.loc[i]\n",
    "#         time_series.object[f\"{row['type']} {i[:6]}\"] = time_series.object[f\"{row['type']} {i[:6]}\"].opts(line_color='black')\n",
    "\n",
    "# pn.bind(highlight_selected, annotator.param.selected_indices, watch=True) # not triggering in notebook?\n",
    "\n",
    "main_view_overlay = main_view * img_max_proj_time * annotator\n",
    "widgets = pn.WidgetBox(annotator_widgets, alpha_slider_layout, player_layout, align='center')\n",
    "\n",
    "img_stack_app_annot = pn.Column(\n",
    "    widgets,\n",
    "    pn.Row(main_view_overlay, time_series)\n",
    ")\n",
    "\n",
    "img_stack_app_annot"
   ]
  },
  {
   "cell_type": "code",
   "execution_count": null,
   "id": "1cb7d4db-0768-447f-8012-b2f4ddb38c2d",
   "metadata": {},
   "outputs": [],
   "source": []
  },
  {
   "cell_type": "markdown",
   "id": "642e0d9c-91a8-40bc-8fa0-9b3fa2b854d3",
   "metadata": {},
   "source": [
    "### Future work: \n",
    "- add annotation selection highlighting to the timeseries\n",
    "- freehanddraw polygon to box annotation, with polygon saved as a displayable field"
   ]
  },
  {
   "cell_type": "code",
   "execution_count": null,
   "id": "6b4be8a6-6c2f-4b3c-b235-39058af017e8",
   "metadata": {},
   "outputs": [],
   "source": [
    "from holonote.annotate import Annotator\n",
    "from holonote.app import PanelWidgets\n",
    "from holonote.app.tabulator import AnnotatorTable\n",
    "\n",
    "annotator = Annotator({\"time\": float}, fields=[\"type\"], groupby=\"type\")\n",
    "color_dim = hv.dim(\"type\").categorize(\n",
    "    categories={\"A\": \"red\", \"B\": \"orange\", \"C\": \"cyan\"}, default=\"grey\"\n",
    ")\n",
    "# annotator.style.color = color_dim\n",
    "# annotator.style.alpha=.5\n",
    "panel_widgets = PanelWidgets(annotator)\n",
    "# table_widget = AnnotatorTable(annotator)\n",
    "# annotator_widgets = pn.WidgetBox('## Annotator', panel_widgets, table_widget, horizontal=True, align='start', scroll=True)\n",
    "\n",
    "curves = {}\n",
    "for i in range(4):\n",
    "    curves[f'{i}'] = hv.Curve(np.random.random(10), 'time', 'val', label=f'{i}').opts(subcoordinate_y=True, alpha=.5)\n",
    "\n",
    "o = hv.Overlay(curves, kdims=['time', 'curve'])\n",
    "ts = pn.pane.HoloViews(annotator * o)\n",
    "\n",
    "def highlight_selected(indices):\n",
    "    print(annotator.selected_indices)\n",
    "    ts.object.data = hv.Curve([])\n",
    "    print(indices)\n",
    "    ts.object.data\n",
    "    # if indices:\n",
    "    #     print(indices[0])\n",
    "        \n",
    "    #     # reset all to original alpha\n",
    "    #     time_series.object.data.opts(line_alpha=.6)\n",
    "        \n",
    "    #     # find and change alpha of selected curve\n",
    "    #     row = annotator.df.loc[indices[0]]\n",
    "    #     time_series.object.data[f\"{row['type']} {i[:6]}\"] = time_series.object.data[f\"{row['type']} {i[:6]}\"].opts(line_alpha=1)\n",
    "\n",
    "annotator.param.selected_indices.rx.watch(highlight_selected)\n",
    "\n",
    "# a = pn.bind(highlight_selected, , watch=True)\n",
    "\n",
    "pn.Column(panel_widgets, ts).show()"
   ]
  },
  {
   "cell_type": "code",
   "execution_count": null,
   "id": "04e2d898-9b0d-4555-87d2-f7a929256a4b",
   "metadata": {},
   "outputs": [],
   "source": [
    "# from holonote.annotate import Annotator\n",
    "# from holonote.app import PanelWidgets\n",
    "# import xarray as xr\n",
    "# import panel as pn\n",
    "# import holoviews as hv\n",
    "\n",
    "# hv.extension(\"bokeh\")\n",
    "\n",
    "# ds = xr.tutorial.open_dataset(\"air_temperature\")\n",
    "\n",
    "\n",
    "# def plot_image(time):\n",
    "#     image = hv.Image(ds.sel(time=time), [\"lon\", \"lat\"], [\"air\"]).opts(\n",
    "#         cmap=\"RdBu_r\", title=time, colorbar=True, clim=(220, 340), width=500, height=300\n",
    "#     )\n",
    "#     return image\n",
    "\n",
    "\n",
    "# def plot_timeseries_by_select(indices):\n",
    "#     if indices:\n",
    "#         row = annotator.df.loc[indices[0]]\n",
    "#         lon1 = row[\"start[lon]\"]\n",
    "#         lon2 = row[\"end[lon]\"]\n",
    "#         lat1 = row[\"start[lat]\"]\n",
    "#         lat2 = row[\"end[lat]\"]\n",
    "#         ds_sel = ds.sel(lon=slice(lon1, lon2), lat=slice(lat2, lat1)).mean(\n",
    "#             [\"lat\", \"lon\"]\n",
    "#         )\n",
    "#         time_series.object = hv.Curve(ds_sel[\"air\"]).opts(\n",
    "#             title=f\"Time Series {lon1:.2f} {lat1:.2f} {lon2:.2f} {lat2:.2f}\", width=500\n",
    "#         )\n",
    "\n",
    "\n",
    "# def plot_timeseries_by_stream(bounds):\n",
    "#     if not bounds:\n",
    "#         lon1, lat1, lon2, lat2 = ds.lon.min(), ds.lat.min(), ds.lon.max(), ds.lat.max()\n",
    "#         ds_sel = ds\n",
    "#     else:\n",
    "#         lon1, lat1, lon2, lat2 = bounds\n",
    "#         ds_sel = ds.sel(lon=slice(lon1, lon2), lat=slice(lat2, lat1))\n",
    "#     time_series.object = hv.Curve(ds_sel[\"air\"].mean([\"lat\", \"lon\"])).opts(\n",
    "#         title=f\"Time Series {lon1:.2f} {lat1:.2f} {lon2:.2f} {lat2:.2f}\", width=500\n",
    "#     )\n",
    "\n",
    "\n",
    "# times = ds.time.dt.strftime(\"%Y-%m-%d %H:%M\").values.tolist()\n",
    "\n",
    "# # start annotation\n",
    "# annotator = Annotator({\"lon\": float, \"lat\": float}, fields=[\"Description\", \"Time\", \"Z\"])\n",
    "# annotator_widgets = PanelWidgets(\n",
    "#     annotator, field_values={\"Time\": times, \"Z\": 100}, as_popup=True\n",
    "# )\n",
    "\n",
    "# # make image dependent on the selected time\n",
    "# time_input = annotator_widgets.fields_widgets[1]\n",
    "# time_input.value = times[0]\n",
    "# image = hv.DynamicMap(pn.bind(plot_image, time_input))\n",
    "\n",
    "# time_series = pn.pane.HoloViews()\n",
    "\n",
    "# # update plot time when a new box is SELECTED\n",
    "# pn.bind(plot_timeseries_by_select, annotator.param.selected_indices, watch=True)\n",
    "\n",
    "# # update plot time when a new box is CREATED\n",
    "# display = annotator.get_display(\"lat\", \"lon\")\n",
    "# box_stream = display._edit_streams[0]  # to make public later\n",
    "# box_stream.source = image\n",
    "# pn.bind(plot_timeseries_by_stream, box_stream.param.bounds, watch=True)\n",
    "\n",
    "# # layout\n",
    "# pn.Row(annotator_widgets, pn.Column(annotator * image, time_series)).show()\n"
   ]
  },
  {
   "cell_type": "code",
   "execution_count": null,
   "id": "cb6a95a1-4b13-476b-89ae-7ce18e7d411e",
   "metadata": {},
   "outputs": [],
   "source": [
    "annotator.selected_indices"
   ]
  },
  {
   "cell_type": "code",
   "execution_count": null,
   "id": "16a237d2-ce24-4401-872b-b037a1860dc8",
   "metadata": {},
   "outputs": [],
   "source": [
    "curves"
   ]
  },
  {
   "cell_type": "code",
   "execution_count": null,
   "id": "d93f8861-1e2a-40ec-9285-b6583eadcb4b",
   "metadata": {},
   "outputs": [],
   "source": [
    "o"
   ]
  },
  {
   "cell_type": "code",
   "execution_count": null,
   "id": "d5baa0e3-9368-4d32-a188-f1e8d0ec9d5e",
   "metadata": {},
   "outputs": [],
   "source": []
  },
  {
   "cell_type": "code",
   "execution_count": null,
   "id": "0731c753-3af8-46d7-a7c3-66e49bd84e35",
   "metadata": {},
   "outputs": [],
   "source": [
    "ts.object.data[(0,)] = ts.object.data[(0,)].opts(line_alpha=.5)\n",
    "ts"
   ]
  },
  {
   "cell_type": "code",
   "execution_count": null,
   "id": "890269dc-f2cc-49b0-9f0d-77ba95024f3c",
   "metadata": {},
   "outputs": [],
   "source": []
  },
  {
   "cell_type": "code",
   "execution_count": null,
   "id": "7202f62a-c38b-4ce4-9098-e12a42785c01",
   "metadata": {},
   "outputs": [],
   "source": []
  }
 ],
 "metadata": {
  "kernelspec": {
   "display_name": "Python 3 (ipykernel)",
   "language": "python",
   "name": "python3"
  },
  "language_info": {
   "codemirror_mode": {
    "name": "ipython",
    "version": 3
   },
   "file_extension": ".py",
   "mimetype": "text/x-python",
   "name": "python",
   "nbconvert_exporter": "python",
   "pygments_lexer": "ipython3",
   "version": "3.12.4"
  }
 },
 "nbformat": 4,
 "nbformat_minor": 5
}
