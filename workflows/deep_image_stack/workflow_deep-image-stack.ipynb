{
 "cells": [
  {
   "cell_type": "markdown",
   "id": "10eed101",
   "metadata": {},
   "source": [
    "# Deep Image Stack\n",
    "\n",
    "![](./assets/2024-06-27_DeepImageStack.png)"
   ]
  },
  {
   "cell_type": "markdown",
   "id": "8d49711b-97f2-4b8c-97d1-5d59f00029fb",
   "metadata": {},
   "source": [
    "## Overview\n",
    "\n",
    "This workflow is designed for processing and analyzing deep image stacks, which are sequences of images typically used in neuroscience for visualizing a two-dimensional slice of neural tissue over time. Each frame in the stack usually corresponds to a concurrent time sample, capturing dynamic processes. For example, a dynamic process of interest could be [neural action potentials](https://en.wikipedia.org/wiki/Action_potential), and the data might come from a [miniature microscope](http://miniscope.org/) that is capturing the change in fluouresence of special proteins caused by electrochemical fluctuations that are indicative of neuronal activity. This workflow provides a scalable solution for handling large and intricate datasets, enabling efficient navigation and analysis.\n",
    "\n",
    "### What Defines a **'Deep Image Stack'**?\n",
    "In this context, a deep image stack is a collection of images that represent different slices of a specimen at various time points, like a video (although this concept can be extended apply to image slices at different depths in a three-dimensional structure). These movie-datasets often contain many more frames in the 'Time' dimension compared to the number of pixels in the height or width of each individual image, necessitating specific handling techniques and motivating the 'Deep' moniker.\n",
    "\n",
    "### Managing **'Large'** Deep Image Stacks\n",
    "Although we will use a smaller dataset, we will demonstrate an approach that can be applied to larger stacks that exceed available memory or browser ability. Our scalable strategy involves dynamic loading of chunks of frames using the key software below.\n",
    "\n",
    "### Key Software\n",
    "Alongside [HoloViz](https://github.com/holoviz), [Bokeh](https://holoviz.org/), and [Numpy](https://numpy.org/), we make extensive use of several open source libraries to implement our solution:\n",
    "\n",
    "- **[Xarray](https://github.com/pydata/xarray):** Manages labeled multi-dimensional data, facilitating complex data operations and enabling partial data loading for out-of-core computation.\n",
    "- **[Dask](https://github.com/dask/dask):** Adds parallel computing capabilities, managing tasks that exceed memory limits.\n",
    "- **[Zarr](https://github.com/zarr-developers/zarr-python):** Used behind the scenes for storing the large arrays of the data pyramid on disk in a compressed, chunked, and memory-mappable format, which is crucial for efficient data retrieval.\n"
   ]
  },
  {
   "cell_type": "markdown",
   "id": "df7440dc",
   "metadata": {},
   "source": [
    "## Prerequisites and Resources\n",
    "\n",
    "| Topic | Type | Notes |\n",
    "| --- | --- | --- |\n",
    "| [Xarray Tutorial](https://tutorial.xarray.dev/overview/xarray-in-45-min) | Prerequisite | Essential introduction to working with xarray data |\n",
    "| [Minian Repository](https://github.com/denisecailab/minian?tab=readme-ov-file) | Resource | Analysis pipeline and visualization tool for Miniscope data |\n",
    "| [Miniscope Wiki](http://miniscope.org/index.php/Main_Page) | Resource | Further context for the demo application |"
   ]
  },
  {
   "cell_type": "markdown",
   "id": "67cc5e2e",
   "metadata": {},
   "source": [
    "## Imports and Configuration"
   ]
  },
  {
   "cell_type": "code",
   "execution_count": null,
   "id": "4c797384-ab66-4c34-9c62-63776baecbf8",
   "metadata": {},
   "outputs": [],
   "source": [
    "from pathlib import Path\n",
    "import numpy as np\n",
    "import xarray as xr\n",
    "import holoviews as hv\n",
    "from holoviews.streams import Stream\n",
    "from holoviews.operation.datashader import rasterize\n",
    "from hvplot import xarray\n",
    "import panel as pn\n",
    "import warnings\n",
    "import re\n",
    "\n",
    "pn.extension()\n",
    "hv.extension('bokeh')"
   ]
  },
  {
   "cell_type": "markdown",
   "id": "36009870-4f51-4594-9a38-f41d61e7abe9",
   "metadata": {},
   "source": [
    "## Loading and Inspecting the Data\n",
    "\n",
    "Let's read the data in chunks, emulating a situation where a dataset is too large to fit into memory. Utilizing the `chunks` parameter in `xr.open_dataset` is crucial for efficient data handling with large datasets, as it enables Dask to process the data in manageable portions."
   ]
  },
  {
   "cell_type": "code",
   "execution_count": null,
   "id": "e87c66ae-b91b-4ec9-842f-0bed68b27f1d",
   "metadata": {},
   "outputs": [],
   "source": [
    "DATA_PATH = \"data/real_miniscope_uint8.zarr\"\n",
    "\n",
    "ds = xr.open_dataset(\n",
    "    DATA_PATH,\n",
    "    engine = 'zarr',\n",
    "    chunks = {'frame': 400, 'height':-1, 'width':-1},  # chunk by sets of complete frames\n",
    ")\n",
    "da = ds['varr_ref']\n",
    "da"
   ]
  },
  {
   "cell_type": "markdown",
   "id": "c12f479a-75db-4445-a37d-15f63354cdd5",
   "metadata": {},
   "source": [
    "## Data Visualization\n",
    "\n",
    "Visualizing calcium imaging data effectively is key to extracting meaningful insights. We introduce various visualization approaches to cater to different analysis needs.\n",
    "\n",
    "We will start with one-liner viewer and then proceed to a more advanced application with enhanced interactive features and exposed controls, at the expense of code complexity."
   ]
  },
  {
   "cell_type": "markdown",
   "id": "97fb3180-824a-4cd3-a14a-361e8970eda5",
   "metadata": {},
   "source": [
    "### One-line hvPlot Application\n",
    "\n",
    "We can use one line with `hvPlot` for a quick inspection of the deep image stack."
   ]
  },
  {
   "cell_type": "code",
   "execution_count": null,
   "id": "176ea0ca-79c9-4396-b75d-2eedb7e45614",
   "metadata": {},
   "outputs": [],
   "source": [
    "hvPlot_app = da.hvplot.image(groupby=\"frame\", title='hvPlot App', cmap='viridis', clim=(0,20), aspect=da.sizes['width'] / da.sizes['height'])\n",
    "hvPlot_app"
   ]
  },
  {
   "cell_type": "markdown",
   "id": "e20d923e-e435-4708-905d-55a47362ba34",
   "metadata": {},
   "source": [
    "To easily enrich and extend this one-line app, we do things like add a maximum-projection image so we can see the maximum fluorescence per pixel and visually locate the potential neurons in two-dimensions."
   ]
  },
  {
   "cell_type": "code",
   "execution_count": null,
   "id": "2ff2c21b-55b9-46b6-ad03-e0ebaaa0b0b4",
   "metadata": {},
   "outputs": [],
   "source": [
    "max_proj = da.max('frame').compute().astype(np.float32)\n",
    "img_max_proj = max_proj.hvplot.image(title='Max Over Time', cmap=\"magma\", clim=(0,20), aspect=da.sizes['width'] / da.sizes['height'])\n",
    "\n",
    "img_max_proj + hvPlot_app"
   ]
  },
  {
   "cell_type": "markdown",
   "id": "c809d2a8-09d1-495b-bfdd-89c24f82b3ce",
   "metadata": {},
   "source": [
    "This was a quick way to see one frame at a time! But it looks like there are a lot of fluorescent blobs (candidate neurons) in the left image and now we want a quick way to visually locate and navigate to the relevant frames in the image stack."
   ]
  },
  {
   "cell_type": "markdown",
   "id": "5d4d2b1c-4051-4b87-ad20-f2272a564d7e",
   "metadata": {},
   "source": [
    "### Enhanced HoloViews and Panel App\n",
    "\n",
    "As our data array is a three-dimensional volume, let's create a more advanced application using `HoloViews` in place of `hvPlot` to handle the added complexity, and `Panel` for more control over the layout and interactive links.\n",
    "\n",
    "This more advanced app builds on the previous one with added functionality, such as.\n",
    "\n",
    "1. **Side Views**: Aggregated side views for display over 'deep' time dimension.\n",
    "2. **Synchronized Frame Indicators**: Frame markers on the Side Views synchronized with the playback and x,y range of the main image stack view.\n",
    "4. **Slider Overlay Alpha**: Slider widget to adjust transparency of max-over-time overlay for direct comparison and a tighter layout.\n",
    "5. **Scale Bar**: A dynamic and customizable visual reference for spatial scale.\n",
    "3. **Continuous Playback**: Player widget for continuous playback, along with controls for step-by-step examination of the image stack."
   ]
  },
  {
   "cell_type": "markdown",
   "id": "8206e85d-1fbc-4b13-bfd1-a23b6cdc07f0",
   "metadata": {
    "tags": []
   },
   "source": [
    "#### Main View"
   ]
  },
  {
   "cell_type": "markdown",
   "id": "f0936177-253d-4516-a4cb-9e27dbd6daf3",
   "metadata": {},
   "source": [
    "First, we define a function to create the main frame-wise view (height by width). Just as a demo, we'll call the function with a frame value. Here we'll also enable and configure a [dynamic scalebar](https://holoviews.org/reference/features/bokeh/Scalebar.html)."
   ]
  },
  {
   "cell_type": "code",
   "execution_count": null,
   "id": "b575494c-a553-4e66-afbd-1f74c0968011",
   "metadata": {
    "tags": []
   },
   "outputs": [],
   "source": [
    "def plot_image(value):\n",
    "    return hv.Image(da.sel(frame=value), kdims=[\"width\", \"height\"]).opts(\n",
    "        frame_height=da.sizes['height'],\n",
    "        frame_width=da.sizes['width'],\n",
    "        cmap = \"Viridis\",\n",
    "        clim=(0,20),\n",
    "        colorbar = True,\n",
    "        tools=['hover', 'crosshair'],\n",
    "        toolbar='right',\n",
    "        scalebar=True,\n",
    "        scalebar_unit=(\"µm\", \"m\"), # each data bin is about 1 µm\n",
    "        apply_hard_bounds=True,\n",
    "        scalebar_opts={\n",
    "        'background_fill_alpha': 0.5,\n",
    "        'border_line_color': None,\n",
    "        'bar_length': 0.10,\n",
    "        }\n",
    "    )\n",
    "plot_image(250)"
   ]
  },
  {
   "cell_type": "markdown",
   "id": "056545a7-1f55-4556-9d05-6ce948f36f0a",
   "metadata": {},
   "source": [
    "#### Frame Player Widget\n",
    "\n",
    "Next, we'll create a player widget to control the playback of our image stack:"
   ]
  },
  {
   "cell_type": "code",
   "execution_count": null,
   "id": "d8493d1b-5626-4cff-a054-ce25e0395845",
   "metadata": {
    "tags": []
   },
   "outputs": [],
   "source": [
    "video_player = pn.widgets.Player(\n",
    "    length =len(da.coords[\"frame\"]),\n",
    "    interval = 100,  # ms\n",
    "    value = 250, # start frame\n",
    "    # width=da.sizes['width'],\n",
    "    height=90,\n",
    "    loop_policy=\"loop\",\n",
    "    align='center',\n",
    ")"
   ]
  },
  {
   "cell_type": "markdown",
   "id": "f29e7d03-53d3-413c-b7a7-4c8294007ec4",
   "metadata": {
    "tags": []
   },
   "source": [
    "We will `bind` (see [relevant Panel docs](https://panel.holoviz.org/explanation/api/reactivity.html)) the main frame-wise view to the player widget. Using [`DynamicMap`](https://holoviews.org/reference/containers/bokeh/DynamicMap.html), we ensure that only the plot contents are updated, maintaining the zoom level and other plot settings across updates. Additionally, by binding to [`value_throttled`](https://panel.holoviz.org/explanation/components/components_overview.html#throttling), we update the frame only when the user releases the slider, which improves performance by avoiding unnecessary updates:"
   ]
  },
  {
   "cell_type": "code",
   "execution_count": null,
   "id": "b1f198b0-e2df-43ec-b2c6-86c52a481a7b",
   "metadata": {
    "tags": []
   },
   "outputs": [],
   "source": [
    "main_view = hv.DynamicMap(pn.bind(plot_image, video_player.param.value_throttled))"
   ]
  },
  {
   "cell_type": "markdown",
   "id": "acc7d37c-c8e4-46ed-a37e-be1d5dabb3d2",
   "metadata": {},
   "source": [
    "We'll also add a simple textual frame indicator that will be responsive to the player widget's value."
   ]
  },
  {
   "cell_type": "code",
   "execution_count": null,
   "id": "775a5f9b-2c71-430d-a0de-7dd63cfabfce",
   "metadata": {},
   "outputs": [],
   "source": [
    "frame_reactive = pn.bind(lambda value: f'# frame: {value}', video_player.param.value)\n",
    "frame_markdown = pn.pane.Markdown(object=frame_reactive)"
   ]
  },
  {
   "attachments": {},
   "cell_type": "markdown",
   "id": "486c97bc-d75a-47df-849a-7b830f86ecbd",
   "metadata": {},
   "source": [
    "#### Max Over Time Overlay on the Main View\n",
    "\n",
    "We now create a max time-projected image and a slider widget to adjust the transparency of this overlay. As before, the max projection helps in identifying areas of interest by showing the maximum value over time for each pixel. We'll use a fast [`jslink`](https://panel.holoviz.org/how_to/links/jslinks.html) approach to link to the slider to the opacity parameter of the image since this is a simple visual property update."
   ]
  },
  {
   "cell_type": "code",
   "execution_count": null,
   "id": "12b2ed7d-1074-4fd1-a5b3-aeda93c91ead",
   "metadata": {
    "tags": []
   },
   "outputs": [],
   "source": [
    "max_proj_time = da.max('frame').compute().astype(np.float32)\n",
    "img_max_proj_time = hv.Image(\n",
    "    max_proj_time, ['width', 'height'], label='Max Over Time').opts(\n",
    "    frame_height=da.sizes['height'],\n",
    "    frame_width=da.sizes['width'],\n",
    "    cmap='magma',\n",
    ")\n",
    "alpha_slider = pn.widgets.FloatSlider(start=0, end=1, step=.001, value=0.1, name='Alpha of Max Over Time', align='center')\n",
    "alpha_slider.jslink(img_max_proj_time, value='glyph.global_alpha')\n",
    "\n",
    "pn.Column(img_max_proj_time, alpha_slider)"
   ]
  },
  {
   "attachments": {},
   "cell_type": "markdown",
   "id": "ab8e8104-a64f-4ddd-b24a-476a54257d18",
   "metadata": {},
   "source": [
    "#### Side Views\n",
    "\n",
    "We also need to create rasterized side views. The right-side view (as if looking at our 3D volume from the right side) will be a frame-by-height view, and the top-side view will be a width-by-frame view. Using `.persist()` (see [relevant Xarray docs](https://docs.xarray.dev/en/stable/user-guide/dask.html#using-dask-with-xarray) allows us to cache the results of the mean calculations, reducing recomputation and improving performance. `Rasterizing` these views helps to limit the amount of data sent to the browser, ensuring efficient rendering (see [relevant HoloView's docs](https://holoviews.org/user_guide/Large_Data.html)):"
   ]
  },
  {
   "cell_type": "code",
   "execution_count": null,
   "id": "c804c6a8-8c68-4567-8bfa-6fb8ff1a40c7",
   "metadata": {
    "tags": []
   },
   "outputs": [],
   "source": [
    "side_view_opts = dict(\n",
    "    cmap = \"Viridis\",\n",
    "    tools=['crosshair', 'hover'],\n",
    "    axiswise=True,\n",
    "    apply_hard_bounds=True,\n",
    "    colorbar=False,\n",
    "    toolbar=None,\n",
    ")\n",
    "\n",
    "top_data = da.mean([\"height\"]).persist()\n",
    "top_view = rasterize(\n",
    "    hv.Image(top_data, kdims=[\"width\", \"frame\"]).opts(\n",
    "        frame_height=175,\n",
    "        frame_width=da.sizes['width'],\n",
    "        title= \"Top Side View\",\n",
    "        xaxis='top',\n",
    "        **side_view_opts\n",
    "    )\n",
    ")\n",
    "\n",
    "right_data = da.mean([\"width\"]).persist()\n",
    "right_view = rasterize(\n",
    "    hv.Image(right_data, kdims=[\"frame\", \"height\"]).opts(\n",
    "        frame_height=da.sizes['height'],\n",
    "        title=\"Right Side View\",\n",
    "        yaxis='right',\n",
    "        **side_view_opts\n",
    "    )\n",
    ")\n",
    "top_view + right_view"
   ]
  },
  {
   "cell_type": "markdown",
   "id": "7667ddf3-93e6-4529-91a3-8383c661d6af",
   "metadata": {},
   "source": [
    "### Add Interactivity to the Side Views"
   ]
  },
  {
   "cell_type": "markdown",
   "id": "cce838b6-7bc2-4f67-a34d-d2db7a2e47ca",
   "metadata": {},
   "source": [
    "We also add frame indicator lines on the side view plots that are synchronized with the main view in two ways. First, the position of these lines indicates the current frame and is linked to the video_player value. Instead of using throttled updates for the frame indicator lines, we `bind` directly to the unthrottled value of the video player since this is a computationally inexpensive operation. This decision ensures that the frame indicators follow the slider in real-time, providing a smooth and responsive user experience as the user scrubs through the frames. Second, the extents of the indicator lines adjust dynamically as the user interacts with the range (zoom, pan) in the main plot. To achieve this, we use a `streams.RangeXY` from HoloViews, which allows us to subscribe the indicator line extents to the range of the main view plot."
   ]
  },
  {
   "cell_type": "code",
   "execution_count": null,
   "id": "08bb8a31-80c0-413d-9dcd-a8a585e2d0bc",
   "metadata": {},
   "outputs": [],
   "source": [
    "def plot_hline(value, x_range, y_range):\n",
    "    if x_range == None:\n",
    "        x_range = [int(da.width[0].values), int(da.width[-1].values)]\n",
    "    return hv.Segments((x_range[0], value, x_range[1], value)).opts(axiswise=True)\n",
    "\n",
    "def plot_vline(value, x_range, y_range):\n",
    "    if y_range == None:\n",
    "        y_range = [int(da.height[0].values), int(da.height[-1].values)]\n",
    "    return hv.Segments((value, y_range[0], value, y_range[1])).opts(axiswise=True)\n",
    "\n",
    "line_opts = dict(color=\"red\", line_width=5, line_alpha=.5, line_dash='dashed', line_cap='round')\n",
    "xyrange_stream = hv.streams.RangeXY(source=main_view)\n",
    "dmap_hline = hv.DynamicMap(pn.bind(plot_hline, video_player), streams=[xyrange_stream]).opts(**line_opts, **side_view_opts)\n",
    "dmap_vline = hv.DynamicMap(pn.bind(plot_vline, video_player), streams=[xyrange_stream]).opts(**line_opts, **side_view_opts)"
   ]
  },
  {
   "cell_type": "markdown",
   "id": "282117cd-5997-4ba0-8d4e-53ca800914a2",
   "metadata": {},
   "source": [
    "#### Layout\n",
    "Finally, we lay out the components to create the complete application. This layout includes the top view, main view with overlay, side view, and control widgets. We set `axiswise=True` to prevent the side views from adjusting to the range of the main view, as we want them to be stable references of the full range on their respective axes."
   ]
  },
  {
   "cell_type": "code",
   "execution_count": null,
   "id": "f5f240d8-5679-48e8-82d2-a99d752f90a5",
   "metadata": {
    "tags": []
   },
   "outputs": [],
   "source": [
    "top_view_overlay = (top_view * dmap_hline).opts(axiswise=True)\n",
    "right_view_overlay = (right_view * dmap_vline).opts(axiswise=True)\n",
    "main_view_overlay = main_view * img_max_proj_time\n",
    "main_and_right_layout = pn.Row(main_view_overlay, right_view_overlay)\n",
    "player_layout = pn.Row(video_player, frame_markdown, align='center')\n",
    "\n",
    "img_stack_app = pn.Column(\n",
    "    top_view_overlay,\n",
    "    main_and_right_layout,\n",
    "    alpha_slider,\n",
    "    player_layout,\n",
    ")\n",
    "\n",
    "# img_stack_app.servable()"
   ]
  },
  {
   "cell_type": "markdown",
   "id": "0ce99cd7-c841-4ed5-8a65-1a65be3741a4",
   "metadata": {},
   "source": [
    "### Advanced Extended: HoloViews App with Annotations Linked to Timeseries \n",
    "\n",
    " Further, we will also construct an annotator to be able to select a two-dimensional region and see its aggregated timeseries fluctuations over time.\n",
    " \n",
    "1. WIP: **Interactive Annotations** Enables direct annotation of regions of interest within the visual interface utilizing the HoloNote package.\n",
    "2. WIP: **Timeseries of Annotations** Annotations are synchronized to an adjacent stacked timeseries plot."
   ]
  },
  {
   "cell_type": "code",
   "execution_count": null,
   "id": "b365cacb-c588-473b-98cf-e36e0eb4395d",
   "metadata": {},
   "outputs": [],
   "source": [
    "from holonote.annotate import Annotator\n",
    "from holonote.app import PanelWidgets\n",
    "from holonote.app.tabulator import AnnotatorTable\n",
    "\n",
    "annotator = Annotator({\"height\": float, \"width\": float}, fields=[\"type\"], groupby=\"type\")\n",
    "color_dim = hv.dim(\"type\").categorize(\n",
    "    categories={\"A\": \"red\", \"B\": \"orange\"}, default=\"grey\"\n",
    ")\n",
    "annotator.style.color = color_dim\n",
    "annotator.style.alpha=.6\n",
    "panel_widgets = PanelWidgets(annotator)\n",
    "table_widget = AnnotatorTable(annotator)\n",
    "annotator_widgets = pn.Column(panel_widgets,table_widget)\n",
    "\n",
    "time_series = pn.pane.HoloViews(hv.Curve([]).opts(title='Annotated Mean Timeseries', responsive=True, frame_height=da.sizes['height']))\n",
    "\n",
    "img_stack_app_annotator = pn.Row(annotator_widgets,\n",
    "                                 pn.Column(annotator * main_view,\n",
    "                                           player_layout,\n",
    "                                          ),\n",
    "                                 time_series,)\n",
    "\n",
    "def plot_ts(event):\n",
    "    print(event)\n",
    "    curves = {}\n",
    "    df = annotator.df\n",
    "    for i,row in df.iterrows():\n",
    "        print(panel_widgets.colormap[row['type']])\n",
    "        # panel_widgets.\n",
    "        h1, h2, w1, w2 = row[[\"start[height]\", \"end[height]\", \"start[width]\", \"end[width]\"]]\n",
    "        ds_sel = da.sel(height=slice(h1, h2), width=slice(w1, w2))\n",
    "        curves[f\"{row['type']} {i[:6]}\"] = hv.Curve(ds_sel.mean([\"height\", \"width\"]), group=row['type']).opts(subcoordinate_y=True, color=panel_widgets.colormap[row['type']])\n",
    "    time_series.object = hv.NdOverlay(curves, ['curve']).opts(responsive=True, frame_height=da.sizes['height'], show_legend=False, title='Annotated Mean Timeseries')\n",
    "\n",
    "annotator.on_event(plot_ts)\n",
    "\n",
    "img_stack_app_annotator"
   ]
  },
  {
   "cell_type": "markdown",
   "id": "917e8b44-8462-4674-900d-e356b0a79e7a",
   "metadata": {},
   "source": [
    "# Scratch"
   ]
  },
  {
   "cell_type": "code",
   "execution_count": null,
   "id": "f67357d1-c18b-448a-8b04-f5dfd50ab2a8",
   "metadata": {},
   "outputs": [],
   "source": [
    "from holonote.annotate import Annotator\n",
    "from holonote.app import PanelWidgets\n",
    "# from holonote.app.tabulator import AnnotatorTabulator\n",
    "from holonote.app.tabulator import AnnotatorTable\n",
    "\n",
    "\n",
    "# TODO: Create a secondary subcoordinate_y plot that is synced with the holonote table of annotations\n",
    "\n",
    "# # Update plot based on annotation selection\n",
    "# def plot_timeseries_by_select(indices):\n",
    "#     if indices:\n",
    "#         h1, h2, w1, w2 = indices[0][\"start[height]\"], indices[0][\"end[height]\"], indices[0][\"start[width]\"], indices[0][\"end[width]\"]\n",
    "#         ds_sel = da.sel(height=slice(h1, h2), width=slice(w1, w2)).mean(\n",
    "#             [\"height\", \"width\"]\n",
    "#         )\n",
    "#         time_series.object = hv.Curve(ds_sel)\n",
    "\n",
    "# # Update plot based on annotation creation\n",
    "# def plot_timeseries_by_stream(bounds):\n",
    "#     if bounds:\n",
    "#         h1, h2, w1, w2 = bounds\n",
    "#         ds_sel = da.sel(height=slice(h1, h2), width=slice(w1, w2))\n",
    "#         time_series.object = hv.Curve(ds_sel.mean([\"height\", \"width\"])).opts(\n",
    "#         )\n",
    "\n",
    "# Annotation setup\n",
    "annotator = Annotator({\"height\": float, \"width\": float}, fields=[\"type\"], groupby=\"type\")\n",
    "annotator_widgets = pn.Column(PanelWidgets(annotator), AnnotatorTable(annotator))\n",
    "\n",
    "time_series = pn.pane.HoloViews()\n",
    "\n",
    "# # Update timeseries plot on annotation selection\n",
    "# pn.bind(plot_timeseries_by_select, annotator.param.selected_indices, watch=True)\n",
    "\n",
    "# # Update timeseries plot on annotation creation\n",
    "# display = annotator.get_display(\"height\", \"width\")\n",
    "# box_stream = display._edit_streams[0]\n",
    "# box_stream.source = main_view\n",
    "# pn.bind(plot_timeseries_by_stream, box_stream.param.bounds, watch=True)\n",
    "\n",
    "img_stack_app_annotator = pn.Row(\n",
    "    pn.Column(annotator_widgets,\n",
    "              annotator * main_view,\n",
    "              player_layout,\n",
    "             ),\n",
    "    time_series)\n",
    "\n",
    "def print_event(event):\n",
    "    print(event)\n",
    "    curves = {}\n",
    "    df = annotator.df\n",
    "    for i,row in df.iterrows():\n",
    "        h1, h2, w1, w2 = row[[\"start[height]\", \"end[height]\", \"start[width]\", \"end[width]\"]]\n",
    "        ds_sel = da.sel(height=slice(h1, h2), width=slice(w1, w2))\n",
    "        curves[f\"{row['type']} {i[:6]}\"] = hv.Curve(ds_sel.mean([\"height\", \"width\"]), group=row['type']).opts(subcoordinate_y=True)\n",
    "    time_series.object = hv.NdOverlay(curves, ['curve']).opts(width=800, show_legend=False)\n",
    "\n",
    "annotator.on_event(print_event)\n",
    "\n",
    "# img_stack_app_annotator"
   ]
  },
  {
   "cell_type": "code",
   "execution_count": null,
   "id": "c2369e87-cc67-44ae-a416-4b515329af97",
   "metadata": {},
   "outputs": [],
   "source": []
  },
  {
   "cell_type": "code",
   "execution_count": null,
   "id": "af8183c1-ded6-49e4-8fed-c24885c6a158",
   "metadata": {},
   "outputs": [],
   "source": []
  },
  {
   "cell_type": "markdown",
   "id": "d1a89daf-0ec9-4451-8887-36f8db7bac8f",
   "metadata": {},
   "source": [
    "### using pn.bind"
   ]
  },
  {
   "cell_type": "code",
   "execution_count": null,
   "id": "c041601d-5815-437e-866d-7c56abb4ca14",
   "metadata": {},
   "outputs": [],
   "source": [
    "def curve_plot(value):\n",
    "    curves = {}\n",
    "    for i,row in df.iterrows():\n",
    "        h1, h2, w1, w2 = row[[\"start[height]\", \"end[height]\", \"start[width]\", \"end[width]\"]]\n",
    "        ds_sel = da.sel(height=slice(h1, h2), width=slice(w1, w2))\n",
    "        for n in range(value):\n",
    "            curves[f\"{n} {row['type']} {i[:6]}\"] = hv.Curve(ds_sel.mean([\"height\", \"width\"]), group=row['type']).opts(subcoordinate_y=True)\n",
    "    return hv.NdOverlay(curves, ['curve']).opts(width=800, show_legend=False)\n",
    "\n",
    "slider = pn.widgets.IntSlider(start=1, value=2, end=3)\n",
    "plot = pn.bind(curve_plot, slider)\n",
    "\n",
    "pn.Column(slider, plot)"
   ]
  },
  {
   "cell_type": "code",
   "execution_count": null,
   "id": "242742c9-8d9b-475e-872b-af5015b3b4b3",
   "metadata": {},
   "outputs": [],
   "source": []
  },
  {
   "cell_type": "code",
   "execution_count": null,
   "id": "5653ef30-0443-40a4-8388-3117061f06f8",
   "metadata": {},
   "outputs": [],
   "source": []
  },
  {
   "cell_type": "code",
   "execution_count": null,
   "id": "90fb1a96-c5f7-470f-99b1-44df9e2795a1",
   "metadata": {},
   "outputs": [],
   "source": []
  },
  {
   "cell_type": "code",
   "execution_count": null,
   "id": "4250d807-6049-4357-a468-93095a67c687",
   "metadata": {},
   "outputs": [],
   "source": []
  },
  {
   "cell_type": "markdown",
   "id": "32a8835d-b138-41ed-9a41-a348a59e70f3",
   "metadata": {},
   "source": [
    "### using dmap"
   ]
  },
  {
   "cell_type": "code",
   "execution_count": null,
   "id": "d1f5aa35-3d2c-4de7-aeb7-1ea088855fc7",
   "metadata": {},
   "outputs": [],
   "source": [
    "def curve_plot(value):\n",
    "    curves = {}\n",
    "    for i,row in df.iterrows():\n",
    "        h1, h2, w1, w2 = row[[\"start[height]\", \"end[height]\", \"start[width]\", \"end[width]\"]]\n",
    "        ds_sel = da.sel(height=slice(h1, h2), width=slice(w1, w2))\n",
    "        for n in range(value):\n",
    "            curves[f\"{n} {row['type']} {i[:6]}\"] = hv.Curve(ds_sel.mean([\"height\", \"width\"]), group=row['type']).opts(subcoordinate_y=True)\n",
    "    return hv.NdOverlay(curves, ['curve']).opts(width=800, show_legend=False)\n",
    "\n",
    "slider = pn.widgets.IntSlider(start=1, value=10, end=10)\n",
    "plot = hv.DynamicMap(pn.bind(curve_plot, slider))\n",
    "\n",
    "pn.Column(slider, plot)"
   ]
  },
  {
   "cell_type": "code",
   "execution_count": null,
   "id": "ba64236c-36bb-4587-8361-f8f53aefcb02",
   "metadata": {},
   "outputs": [],
   "source": []
  },
  {
   "cell_type": "code",
   "execution_count": null,
   "id": "b0206626-81fb-4dfe-92e8-f5d0cca750c4",
   "metadata": {},
   "outputs": [],
   "source": []
  },
  {
   "cell_type": "code",
   "execution_count": null,
   "id": "d67c38b4-5951-49c8-a32e-bb87b96291ec",
   "metadata": {},
   "outputs": [],
   "source": []
  },
  {
   "cell_type": "code",
   "execution_count": null,
   "id": "1ceb16ee-7ea3-4522-8b8e-e7fbac850ad1",
   "metadata": {},
   "outputs": [],
   "source": [
    "# h1 = 191.124141421\n",
    "# h2 = 226\n",
    "# w1 = 297\n",
    "# w2 = 371\n",
    "\n",
    "# ds_sel = da.sel(height=slice(h1, h2), width=slice(w1, w2))\n",
    "# hv.Curve(ds_sel.mean([\"height\", \"width\"]))"
   ]
  },
  {
   "cell_type": "code",
   "execution_count": null,
   "id": "eb0b4750-5c57-4f62-a208-11f5eb9393d9",
   "metadata": {},
   "outputs": [],
   "source": []
  },
  {
   "cell_type": "code",
   "execution_count": null,
   "id": "f31857bd-7467-49d5-ab95-c1b08ad2cb49",
   "metadata": {},
   "outputs": [],
   "source": []
  },
  {
   "cell_type": "markdown",
   "id": "7cebb581-7dcc-4f27-b270-32c142af0a60",
   "metadata": {},
   "source": [
    "# super simple example"
   ]
  },
  {
   "cell_type": "code",
   "execution_count": null,
   "id": "f23eb533-5347-451b-b9bb-05ce2da598ff",
   "metadata": {},
   "outputs": [],
   "source": [
    "# ensure there is no .db in the cwd\n",
    "from holonote.annotate import Annotator\n",
    "from holonote.app.tabulator import AnnotatorTable\n",
    "from holonote.app import PanelWidgets\n",
    "import panel as pn; pn.extension()\n",
    "import holoviews as hv; hv.extension('bokeh')\n",
    "from holonote.annotate.connector import SQLiteDB\n",
    "\n",
    "annotator = Annotator({\"height\": float, \"width\": float}, fields=[\"type\"],\n",
    "                      connector=SQLiteDB(filename=':memory:'), groupby=\"type\")\n",
    "\n",
    "color_dim = hv.dim(\"type\").categorize(\n",
    "    categories={\"A\": \"purple\", \"B\": \"orange\", \"C\": \"green\"}, default=\"grey\"\n",
    ")\n",
    "annotator.style.color = color_dim\n",
    "\n",
    "annotator_widgets = pn.Column(PanelWidgets(annotator), AnnotatorTable(annotator))\n",
    "\n",
    "pn.Column(annotator_widgets, annotator * hv.Curve([], ['width'], ['height']))"
   ]
  },
  {
   "cell_type": "markdown",
   "id": "766d1666-d24f-42c9-a54b-3f329035e340",
   "metadata": {},
   "source": [
    "TODO:\n",
    "- check the visible field or groupby field in event, if not yet in options, update it.\n",
    "- the if_event def should check the type of event, compare existing to the potentially new set of options"
   ]
  },
  {
   "cell_type": "code",
   "execution_count": null,
   "id": "0ec8e301-1d08-49d5-ad56-e1675ae6b052",
   "metadata": {},
   "outputs": [],
   "source": [
    "# from holonote.annotate import Annotator\n",
    "# from holonote.app import PanelWidgets\n",
    "\n",
    "# def tmp_plot_image(value):\n",
    "#     return hv.Image(da.sel(frame=1), kdims=[\"width\", \"height\"]).opts(\n",
    "#         frame_height=100,\n",
    "#         frame_width=150,\n",
    "#         cmap = \"Viridis\",\n",
    "#         tools=['hover', 'crosshair'],\n",
    "#         toolbar='right',\n",
    "# )\n",
    "\n",
    "# # Create a player widget\n",
    "# video_player = pn.widgets.Player(\n",
    "#     length = 100,\n",
    "#     interval = 250,  # ms\n",
    "#     value = 950, # start frame\n",
    "# )\n",
    "\n",
    "# dy_img = hv.DynamicMap(pn.bind(tmp_plot_image, video_player))\n",
    "\n",
    "# annotator = Annotator({\"height\": float, \"width\": float}, fields=[\"type\"])\n",
    "# annotator_widgets = PanelWidgets(annotator)\n",
    "\n",
    "# pn.Column(annotator_widgets, annotator * dy_img, video_player)"
   ]
  },
  {
   "cell_type": "code",
   "execution_count": null,
   "id": "5141d67c-d591-4c95-835c-3edc492eec32",
   "metadata": {},
   "outputs": [],
   "source": [
    "annotator.add_annotation(type='A')"
   ]
  },
  {
   "cell_type": "markdown",
   "id": "69c8f5be-2e26-4cb8-9343-70dee5f58cbb",
   "metadata": {},
   "source": [
    "Issues:\n",
    "- ~~Creating an annotation: AssertionError: DynamicMap must only contain one type of object, not both Overlay and NdOverlay.~~\n",
    "- Visibility GUI not updating\n",
    "- add linked timeseries plot\n",
    "- ~~Side View not showing annotation on correct axis~~\n",
    "- ~~multiple toolbars with swipe (causing frame misalignment)~~\n",
    "- ~~how to show multiple colorbars with swipe?~~\n",
    "- freehanddraw polygon to box annotation, with polygon saved as a displayable field?"
   ]
  },
  {
   "cell_type": "code",
   "execution_count": null,
   "id": "01b2f74f-5df8-44f5-8ad5-c5d79162e3c6",
   "metadata": {},
   "outputs": [],
   "source": []
  }
 ],
 "metadata": {
  "kernelspec": {
   "display_name": "Python 3 (ipykernel)",
   "language": "python",
   "name": "python3"
  },
  "language_info": {
   "codemirror_mode": {
    "name": "ipython",
    "version": 3
   },
   "file_extension": ".py",
   "mimetype": "text/x-python",
   "name": "python",
   "nbconvert_exporter": "python",
   "pygments_lexer": "ipython3",
   "version": "3.12.4"
  }
 },
 "nbformat": 4,
 "nbformat_minor": 5
}
