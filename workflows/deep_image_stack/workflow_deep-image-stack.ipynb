{
 "cells": [
  {
   "cell_type": "markdown",
   "id": "10eed101",
   "metadata": {},
   "source": [
    "# Deep Image Stack\n",
    "\n",
    "![](./assets/2024-06-24_DeepImageStack.png)"
   ]
  },
  {
   "cell_type": "markdown",
   "id": "8d49711b-97f2-4b8c-97d1-5d59f00029fb",
   "metadata": {},
   "source": [
    "## Overview (WIP)\n",
    "This workflow covers navigating a deep image stack. Often each subsequent frame corresponds to a concurrent time sample, such as the case in neuroscience when conducting calcium imaging with a microscope.\n",
    "\n"
   ]
  },
  {
   "cell_type": "markdown",
   "id": "df7440dc",
   "metadata": {},
   "source": [
    "## Prerequisites and Resources (WIP)\n",
    "\n",
    "| Topic | Type | Notes |\n",
    "| --- | --- | --- |"
   ]
  },
  {
   "cell_type": "markdown",
   "id": "67cc5e2e",
   "metadata": {},
   "source": [
    "## Imports and Configuration"
   ]
  },
  {
   "cell_type": "code",
   "execution_count": null,
   "id": "4c797384-ab66-4c34-9c62-63776baecbf8",
   "metadata": {},
   "outputs": [],
   "source": [
    "from pathlib import Path\n",
    "import numpy as np\n",
    "import xarray as xr\n",
    "import holoviews as hv\n",
    "from holoviews.streams import Stream\n",
    "from holoviews.operation.datashader import rasterize\n",
    "from hvplot import xarray\n",
    "import panel as pn\n",
    "from panel.layout.gridstack import GridStack\n",
    "\n",
    "# pn.extension('gridstack')\n",
    "\n",
    "pn.extension('gridstack', throttled=True)\n",
    "hv.extension('bokeh')"
   ]
  },
  {
   "cell_type": "markdown",
   "id": "36009870-4f51-4594-9a38-f41d61e7abe9",
   "metadata": {},
   "source": [
    "## Loading and Inspecting the Data\n",
    "\n",
    "Let's read the data in chunks, emulating a situation where a dataset is too large to fit into memory. Utilizing the `chunks` parameter in `xr.open_dataset` is crucial for efficient data handling with large datasets, as it enables Dask to process the data in manageable portions."
   ]
  },
  {
   "cell_type": "code",
   "execution_count": null,
   "id": "e87c66ae-b91b-4ec9-842f-0bed68b27f1d",
   "metadata": {},
   "outputs": [],
   "source": [
    "DATA_PATH = \"data/real_miniscope.zarr\"\n",
    "\n",
    "# Open the dataset from the Zarr storage\n",
    "ds = xr.open_dataset(\n",
    "    DATA_PATH,\n",
    "    engine = 'zarr',\n",
    "    chunks = {'frame': 'auto', 'height':-1, 'width':-1},  # chunk by sets of complete frames\n",
    ")\n",
    "ds"
   ]
  },
  {
   "cell_type": "markdown",
   "id": "8ce87072-41ef-4021-a131-5b25ca913264",
   "metadata": {},
   "source": [
    "From the output above, we can see that the actual DataArray that we are looking for is called '`varr_ref` - let's go ahead and get a handle on that."
   ]
  },
  {
   "cell_type": "code",
   "execution_count": null,
   "id": "61441b7f",
   "metadata": {},
   "outputs": [],
   "source": [
    "da = ds['varr_ref']\n",
    "da"
   ]
  },
  {
   "cell_type": "markdown",
   "id": "c12f479a-75db-4445-a37d-15f63354cdd5",
   "metadata": {},
   "source": [
    "## Data Visualization\n",
    "\n",
    "Visualizing calcium imaging data effectively is key to extracting meaningful insights. We introduce various visualization approaches to cater to different analysis needs.\n",
    "\n",
    "We will start with one-liner viewer and then proceed to a more advanced application with enhanced interactive features and exposed controls, at the expense of code complexity."
   ]
  },
  {
   "cell_type": "markdown",
   "id": "97fb3180-824a-4cd3-a14a-361e8970eda5",
   "metadata": {},
   "source": [
    "### Basic: Quick App with Time-Projected Image\n",
    "\n",
    "We can use one line with hvPlot for a quick inspection of the deep image stack. To the left of this, we'll also put a max-projection of the image stack frame over time as a reference of all potential neurons that fluorescence at some point in the movie. Max projecting over time just means keeping the maximum value from the time-stack in each position of the width/height coordinates."
   ]
  },
  {
   "cell_type": "code",
   "execution_count": null,
   "id": "2ff2c21b-55b9-46b6-ad03-e0ebaaa0b0b4",
   "metadata": {},
   "outputs": [],
   "source": [
    "# Create the max time-projected image\n",
    "max_proj_time = da.max('frame').compute().astype(np.float32)\n",
    "img_max_proj_time = max_proj_time.hvplot.image(x='width', y='height', title='Max Over Time', cmap = \"magma\", aspect = da.sizes['width'] / da.sizes['height'],)\n",
    "\n",
    "# Create the Deep Image Stack App (this line is sufficient to create a basic app)\n",
    "img_stack_viewer = da.hvplot.image(groupby=\"frame\", title='Deep Image Stack', cmap = \"viridis\", aspect = da.sizes['width'] / da.sizes['height'])\n",
    "\n",
    "basic_img_stack_app = img_max_proj_time + img_stack_viewer\n",
    "basic_img_stack_app"
   ]
  },
  {
   "cell_type": "markdown",
   "id": "c809d2a8-09d1-495b-bfdd-89c24f82b3ce",
   "metadata": {},
   "source": [
    "This was a quick way to see one frame at a time! But it looks like there are a lot of fluorescing neurons in the left `'Max Over Time'` image that came from somewhere in the data. How do we visually locate which frames in the `'Deep Image Stack'` (right) a neuron is flourescing in?\n",
    "\n",
    "Well, our data array is a three-dimensional volume, so if we also had **side-view** of the volume, we might be able to locate the frames where a particular region is fluorescing."
   ]
  },
  {
   "cell_type": "markdown",
   "id": "5d4d2b1c-4051-4b87-ad20-f2272a564d7e",
   "metadata": {},
   "source": [
    "### Advanced App with Side-Views, Swipe Overlay, and Annotations Linked to Timeseries View\n",
    "\n",
    "The Side-View App builds on the Basic App with added functionality:\n",
    "\n",
    "1. **Continuous Playback:** Player widget for continuous playback, along with controls for step-by-step examination of the image stack.\n",
    "2. **Side Views** Aggregated side views for display over 'deep' dimension.\n",
    "3. **Synchronized Frame Indicators** Frame markers synchronized with the playback and x,y range of the main image stack view.\n",
    "4. **Swipe Overlay** Draggable swipe interaction on the main plot to display additional overlay view and direct comparison.\n",
    "5. TODO: **Interactive Annotations** Enables direct annotation of regions of interest within the visual interface utilizing the HoloNote package.\n",
    "6. TODO: **Timeseries of Annotations** Annotations are synchronized to an adjacent stacked timeseries plot."
   ]
  },
  {
   "cell_type": "code",
   "execution_count": null,
   "id": "2f2d90e6-383b-4652-950e-4b0b733a141a",
   "metadata": {},
   "outputs": [],
   "source": [
    "def plot_image(value):\n",
    "    return hv.Image(da.sel(frame=value), kdims=[\"width\", \"height\"]).opts(\n",
    "        frame_height=da.sizes['height'],\n",
    "        frame_width=da.sizes['width'],\n",
    "        cmap = \"Viridis\",\n",
    "        title = \"⬅️ Deep Image Stack || Max Over Time ➡️\",\n",
    "        tools=['hover', 'crosshair'],\n",
    "        toolbar='left',\n",
    "    )\n",
    "\n",
    "# Create a player widget\n",
    "video_player = pn.widgets.Player(\n",
    "    length =len(da.coords[\"frame\"]),\n",
    "    interval = 250,  # ms\n",
    "    value = 950, # start frame\n",
    "    width=da.sizes['width'],\n",
    "    height=90,\n",
    "    loop_policy=\"loop\",\n",
    ")\n",
    "\n",
    "# Create the main frame-wise view (height by width)\n",
    "main_view = hv.DynamicMap(pn.bind(plot_image, video_player))\n",
    "\n",
    "# right-side view: frame by height\n",
    "right_data = da.mean([\"width\"]).persist()\n",
    "right_view = rasterize(\n",
    "    hv.Image(right_data, kdims=[\"frame\", \"height\"]).opts(\n",
    "        frame_height=da.sizes['height'],\n",
    "        frame_width=175,\n",
    "        colorbar=False,\n",
    "        title=\"Side View\",\n",
    "        toolbar=None,\n",
    "        cmap = \"Viridis\",\n",
    "        tools=['hover', 'crosshair'],\n",
    "        yaxis='right',\n",
    "        xlabel='frame',\n",
    "        ylabel='height',\n",
    "    ).redim(frame='_frame', height = '_height') # redim to unlink with main\n",
    ")\n",
    "\n",
    "\n",
    "# top-side view: width by frame \n",
    "top_data = da.mean([\"height\"]).persist()\n",
    "top_view = rasterize(\n",
    "    hv.Image(top_data, kdims=[\"width\", \"frame\"]).opts(\n",
    "        frame_height=175,\n",
    "        frame_width=da.sizes['width'],\n",
    "        colorbar=False,\n",
    "        toolbar=None,\n",
    "        cmap = \"Viridis\",\n",
    "        title= \"Top View\",\n",
    "        tools=['hover', 'crosshair'],\n",
    "        xaxis='top',\n",
    "        xlabel='width',\n",
    "        ylabel='frame',\n",
    "    ).redim(frame='_frame', width = '_width') # redim to unlink with main\n",
    ")\n",
    "\n",
    "# frame-indicator lines on side view plots\n",
    "line_opts = dict(color=\"red\", line_width=7, line_alpha=.4)\n",
    "\n",
    "xyrange_stream = hv.streams.RangeXY(source=main_view)\n",
    "\n",
    "def plot_hline(value, x_range, y_range):\n",
    "    if x_range == None:\n",
    "        x_range = [int(da.width[0].values), int(da.width[-1].values)]\n",
    "    return hv.Segments((x_range[0], value, x_range[1], value))\n",
    "\n",
    "def plot_vline(value, x_range, y_range):\n",
    "    if y_range == None:\n",
    "        y_range = [int(da.height[0].values), int(da.height[-1].values)]\n",
    "    return hv.Segments((value, y_range[0], value, y_range[1]))\n",
    "\n",
    "dmap_hline = hv.DynamicMap(pn.bind(plot_hline, video_player), streams=[xyrange_stream]).opts(\n",
    "    **line_opts\n",
    ")\n",
    "\n",
    "dmap_vline = hv.DynamicMap(pn.bind(plot_vline, video_player), streams=[xyrange_stream]).opts(\n",
    "    **line_opts\n",
    ")\n",
    "\n",
    "# Create the max time-projected image\n",
    "max_proj_time = da.max('frame').compute().astype(np.float32)\n",
    "img_max_proj_time = hv.Image(\n",
    "    max_proj_time, ['width', 'height'], label='Max Over Time').opts(\n",
    "    frame_height=da.sizes['height'],\n",
    "    frame_width=da.sizes['width'],\n",
    "    cmap='magma',\n",
    "    tools=['hover', 'crosshair'],\n",
    "    toolbar='right',\n",
    ")\n",
    "\n",
    "# Bind the player widget's value directly to the markdown pane's object parameter\n",
    "frame_markdown = pn.pane.Markdown()\n",
    "frame_markdown.object = pn.bind(lambda value: f'# frame: {value}', video_player.param.value)\n",
    "\n",
    "# Lay out the app views\n",
    "video_player.margin = (20, 20, 20, 70)  # center widget over main\n",
    "img_stack_app = pn.Column(\n",
    "    top_view * dmap_hline,\n",
    "    pn.Row(pn.Swipe(main_view, img_max_proj_time, value=55, slider_color='grey'), # TODO: file bug about Swipe causing frame_width issue\n",
    "           right_view * dmap_vline), \n",
    "    pn.Row(video_player, frame_markdown)\n",
    ")\n",
    "\n",
    "img_stack_app.servable()\n"
   ]
  },
  {
   "cell_type": "markdown",
   "id": "0ce99cd7-c841-4ed5-8a65-1a65be3741a4",
   "metadata": {},
   "source": [
    "# With Annotations (WIP)"
   ]
  },
  {
   "cell_type": "code",
   "execution_count": null,
   "id": "f67357d1-c18b-448a-8b04-f5dfd50ab2a8",
   "metadata": {},
   "outputs": [],
   "source": [
    "from holonote.annotate import Annotator\n",
    "from holonote.app import PanelWidgets\n",
    "from holonote.app.tabulator import AnnotatorTabulator\n",
    "\n",
    "\n",
    "# TODO: Create a secondary subcoordinate_y plot that is synced with the holonote table of annotations\n",
    "\n",
    "\n",
    "# # Update plot based on annotation selection\n",
    "# def plot_timeseries_by_select(indices):\n",
    "#     if indices:\n",
    "#         h1, h2, w1, w2 = indices[0][\"start[height]\"], indices[0][\"end[height]\"], indices[0][\"start[width]\"], indices[0][\"end[width]\"]\n",
    "#         ds_sel = da.sel(height=slice(h1, h2), width=slice(w1, w2)).mean(\n",
    "#             [\"height\", \"width\"]\n",
    "#         )\n",
    "#         time_series.object = hv.Curve(ds_sel)\n",
    "#         )\n",
    "\n",
    "# Update plot based on annotation creation\n",
    "def plot_timeseries_by_stream(bounds):\n",
    "    if bounds:\n",
    "        h1, h2, w1, w2 = bounds\n",
    "        ds_sel = da.sel(height=slice(h1, h2), width=slice(w1, w2))\n",
    "        time_series.object = hv.Curve(ds_sel.mean([\"height\", \"width\"])).opts(\n",
    "        )\n",
    "\n",
    "# Annotation setup\n",
    "annotator = Annotator({\"height\": float, \"width\": float}, fields=[\"type\"])\n",
    "annotator.groupby = \"type\"\n",
    "annotator_widgets = pn.Column(PanelWidgets(annotator, as_popup=False), AnnotatorTabulator(annotator))\n",
    "\n",
    "time_series = pn.pane.HoloViews()\n",
    "\n",
    "# # Update timeseries plot on annotation selection\n",
    "# pn.bind(plot_timeseries_by_select, annotator.param.selected_indices, watch=True)\n",
    "\n",
    "# Update timeseries plot on annotation creation\n",
    "display = annotator.get_display(\"height\", \"width\")\n",
    "box_stream = display._edit_streams[0]\n",
    "box_stream.source = main_view\n",
    "pn.bind(plot_timeseries_by_stream, box_stream.param.bounds, watch=True)\n",
    "\n",
    "img_stack_app_annotator = pn.Column(annotator_widgets,\n",
    "    top_view * dmap_hline,\n",
    "    pn.Row(pn.Swipe(main_view * annotator, img_max_proj_time * annotator, value=55, slider_color='grey'), # TODO: file bug about Swipe causing frame_width issue\n",
    "           right_view * dmap_vline,\n",
    "          ), \n",
    "    pn.Row(video_player, frame_markdown),\n",
    "    # time_series\n",
    ")\n",
    "\n",
    "# img_stack_app_annotator.servable()"
   ]
  },
  {
   "cell_type": "code",
   "execution_count": null,
   "id": "6f75d6c5-fc1a-41dc-902e-204a66e12e32",
   "metadata": {},
   "outputs": [],
   "source": []
  },
  {
   "cell_type": "code",
   "execution_count": null,
   "id": "3450a89c-3a51-4cc4-93c5-34385f0b6a17",
   "metadata": {},
   "outputs": [],
   "source": []
  }
 ],
 "metadata": {
  "kernelspec": {
   "display_name": "Python 3 (ipykernel)",
   "language": "python",
   "name": "python3"
  },
  "language_info": {
   "codemirror_mode": {
    "name": "ipython",
    "version": 3
   },
   "file_extension": ".py",
   "mimetype": "text/x-python",
   "name": "python",
   "nbconvert_exporter": "python",
   "pygments_lexer": "ipython3",
   "version": "3.12.4"
  }
 },
 "nbformat": 4,
 "nbformat_minor": 5
}
