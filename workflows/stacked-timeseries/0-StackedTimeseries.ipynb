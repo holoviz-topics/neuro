{
 "cells": [
  {
   "cell_type": "markdown",
   "metadata": {},
   "source": [
    "# Stacked Timeseries Viewer Workflow\n",
    "\n"
   ]
  },
  {
   "cell_type": "markdown",
   "metadata": {},
   "source": [
    "<div style=\"text-align: center;\">\n",
    "    <img src=\"./assets/231024_StackedTimeseries.png\" alt=\"StackedTimeseries preview\" width=\"450\"/>\n",
    "</div>"
   ]
  },
  {
   "cell_type": "markdown",
   "metadata": {},
   "source": [
    "## Summary\n",
    "\n",
    "This workflow is intended to demonstrate the visualization of a set of stacked timeseries with HoloViz and Bokeh tools."
   ]
  },
  {
   "cell_type": "markdown",
   "metadata": {},
   "source": [
    "## Imports and config"
   ]
  },
  {
   "cell_type": "markdown",
   "metadata": {},
   "source": [
    "<div class=\"admonition alert alert-info\">\n",
    "    <p class=\"admonition-title\" style=\"font-weight:bold\">Dependencies</p>\n",
    "    <p>This workflow requires the <a href=\"./environment.yml\">environment</a> specified in this workflow directory.</p>\n",
    "</div>\n"
   ]
  },
  {
   "cell_type": "code",
   "execution_count": null,
   "metadata": {},
   "outputs": [],
   "source": [
    "%load_ext autoreload\n",
    "%autoreload 2\n",
    "import numpy as np; np.random.seed(0)\n",
    "import pandas as pd\n",
    "from scipy.stats import zscore\n",
    "import string\n",
    "\n",
    "# Viz\n",
    "import colorcet as cc\n",
    "import holoviews as hv; hv.extension('bokeh')\n",
    "from holoviews.plotting.links import RangeToolLink\n",
    "# from holoviews.operation.datashader import rasterize\n",
    "from holoviews import Dataset\n",
    "from bokeh.models import HoverTool, WheelZoomTool\n",
    "import panel as pn; pn.extension(template='material')"
   ]
  },
  {
   "cell_type": "markdown",
   "metadata": {},
   "source": [
    "### Generate sine wave data"
   ]
  },
  {
   "cell_type": "markdown",
   "metadata": {},
   "source": [
    "To start, let's simply take some fake sine wave data of increasing frequency."
   ]
  },
  {
   "cell_type": "code",
   "execution_count": null,
   "metadata": {},
   "outputs": [],
   "source": [
    "n_channels = 25\n",
    "n_seconds = 15\n",
    "fs = 250  # Sampling frequency\n",
    "\n",
    "init_freq = 1  # Initial sine wave frequency in Hz\n",
    "freq_inc = 20/n_channels  # Frequency increment\n",
    "amplitude = 1\n",
    "\n",
    "total_samples = n_seconds * fs\n",
    "time = np.linspace(0, n_seconds, total_samples)\n",
    "channels = [f'EEG {i}' for i in range(n_channels)]\n",
    "\n",
    "data = np.array([amplitude * np.sin(2 * np.pi * (init_freq + i * freq_inc) * time)\n",
    "                 for i in range(n_channels)])\n",
    "print(f'shape: {data.shape} (n_channels, samples) ')"
   ]
  },
  {
   "cell_type": "markdown",
   "metadata": {},
   "source": [
    "## Generate random range annotations"
   ]
  },
  {
   "cell_type": "markdown",
   "metadata": {},
   "source": [
    "Now let's generate some random time-range annotations that we can overlay on our plot."
   ]
  },
  {
   "cell_type": "code",
   "execution_count": null,
   "metadata": {},
   "outputs": [],
   "source": [
    "def create_range_annotations(n_total_seconds: int, n_categories: int, \n",
    "                             n_total_annotations: int, duration: int = 1) -> pd.DataFrame:\n",
    "\n",
    "    start_times = np.sort(np.random.randint(0, n_total_seconds - duration, n_total_annotations))\n",
    "    \n",
    "    # Ensure the annotations are non-overlapping\n",
    "    for i in range(1, len(start_times)):\n",
    "        if start_times[i] < start_times[i-1] + duration:\n",
    "            start_times[i] = start_times[i-1] + duration\n",
    "    end_times = start_times + duration\n",
    "    categories = np.random.choice(list(string.ascii_uppercase)[:n_categories], n_total_annotations)\n",
    "    \n",
    "    df = pd.DataFrame({\n",
    "        'start': start_times,\n",
    "        'end': end_times,\n",
    "        'category': categories\n",
    "    })\n",
    "    df['category'] = df['category'].astype('category')\n",
    "    \n",
    "    unique_categories = df['category'].cat.categories\n",
    "    color_map = dict(zip(unique_categories, cc.glasbey[:len(unique_categories)]))\n",
    "    df['color'] = df['category'].map(color_map)\n",
    "    df['color'] = df['color'].astype('category')\n",
    "    \n",
    "    return df\n",
    "\n",
    "n_categories = 3\n",
    "n_total_annotations = 5\n",
    "annotations_df = create_range_annotations(n_seconds, n_categories, n_total_annotations)\n",
    "annotations_df.sample(5)\n"
   ]
  },
  {
   "cell_type": "markdown",
   "metadata": {},
   "source": [
    "### Visualize stacked timeseries"
   ]
  },
  {
   "cell_type": "code",
   "execution_count": null,
   "metadata": {},
   "outputs": [],
   "source": [
    "xzoom_out_extent = 2\n",
    "start_t_disp = 4.5 #time[0] # start time of initially displayed window \n",
    "max_t_disp = xzoom_out_extent # max time in seconds to initially display\n",
    "max_ch_disp = 20  # max channels to initially display\n",
    "max_y_disp = np.min((max_ch_disp - 1.5, n_channels - 1.5))\n",
    "subcoord_btm = -0.5 # auto lower xlim of first subcoord\n",
    "clim_mul = 1 # color limit multiplier.. adjusts the levels on the minimap\n",
    "\n",
    "annotation_elements = [hv.VSpan(row['start'], row['end']).opts(fill_color=row['color'], alpha=0.2, line_alpha=0) \n",
    "                       for _, row in annotations_df.iterrows()]\n",
    "annotations_overlay = hv.Overlay(annotation_elements)\n",
    "\n",
    "hover = HoverTool(tooltips=[\n",
    "    (\"Channel\", \"@channel\"),\n",
    "    (\"Time\", \"$x s\"),\n",
    "    (\"Amplitude\", \"$y µV\")])\n",
    "\n",
    "channel_curves = []\n",
    "for channel, channel_data in zip(channels, data):\n",
    "    ds = Dataset((time, channel_data, channel), [\"Time\", \"Amplitude\", \"channel\"])\n",
    "    curve = hv.Curve(ds, \"Time\", [\"Amplitude\", \"channel\"], label=f'{channel}')\n",
    "    curve.opts(color=\"black\", line_width=1, subcoordinate_y=True, tools=[hover])\n",
    "    channel_curves.append(curve)\n",
    "\n",
    "eeg_viewer = (hv.Overlay(channel_curves, kdims=\"Channel\") * annotations_overlay)\n",
    "eeg_viewer = eeg_viewer.opts(\n",
    "    xlabel=\"Time (s)\", ylabel=\"Channel\", show_legend=False,\n",
    "    padding=0, aspect=1.5, responsive=True, shared_axes=False,\n",
    "     #ylim does not work with subcoordinate_y\n",
    "    # xlim=(start_t_disp, start_t_disp+max_t_disp), ylim=(subcoord_btm, subcoord_btm+max_y_disp),\n",
    "    backend_opts={\n",
    "        \"y_range.start\": subcoord_btm, # required as long as ylim doesn't work\n",
    "        \"y_range.end\": subcoord_btm + max_y_disp, # required as long as ylim doesn't work\n",
    "        \"x_range.start\": start_t_disp,\n",
    "        \"x_range.end\": start_t_disp + max_t_disp,\n",
    "        \"x_range.bounds\": (time.min(), time.max()), # absolute outer limits on pan/zoom\n",
    "        \"y_range.bounds\": (0, len(channels)),\n",
    "        \"x_range.max_interval\": xzoom_out_extent\n",
    "    })\n",
    "\n",
    "y_positions = range(len(channels))\n",
    "yticks = [(i, ich) for i, ich in enumerate(channels)]\n",
    "z_data = zscore(data, axis=1)\n",
    "# Does not currently work with rasterize on the minimap image.\n",
    "minimap = hv.Image((time, y_positions, z_data), [\"Time (s)\", \"Channel\"], \"Amplitude (uV)\")\n",
    "minimap = minimap.opts(\n",
    "    cmap=\"RdBu_r\", colorbar=False, xlabel='',\n",
    "    alpha=.3, yticks=[yticks[0], yticks[-1]],\n",
    "    toolbar='disable', # needed to prevent zoom and pan behavior on image\n",
    "    height=120, responsive=True, default_tools=[],\n",
    "    clim=(-z_data.std()*clim_mul, z_data.std()*clim_mul))\n",
    "\n",
    "RangeToolLink(minimap, eeg_viewer, axes=[\"x\", \"y\"],\n",
    "              boundsx=(start_t_disp, start_t_disp + max_t_disp), #required for reset behavior\n",
    "              boundsy=(subcoord_btm, subcoord_btm + max_y_disp) #required for reset behavior\n",
    "             )\n",
    "\n",
    "eeg_app = pn.Column((eeg_viewer + minimap * annotations_overlay).cols(1), min_height=650).servable()\n",
    "eeg_app"
   ]
  },
  {
   "cell_type": "code",
   "execution_count": null,
   "metadata": {},
   "outputs": [],
   "source": []
  }
 ],
 "metadata": {
  "kernelspec": {
   "display_name": "Python 3 (ipykernel)",
   "language": "python",
   "name": "python3"
  },
  "language_info": {
   "codemirror_mode": {
    "name": "ipython",
    "version": 3
   },
   "file_extension": ".py",
   "mimetype": "text/x-python",
   "name": "python",
   "nbconvert_exporter": "python",
   "pygments_lexer": "ipython3",
   "version": "3.11.6"
  }
 },
 "nbformat": 4,
 "nbformat_minor": 4
}
