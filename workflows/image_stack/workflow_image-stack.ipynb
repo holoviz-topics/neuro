{
 "cells": [
  {
   "cell_type": "markdown",
   "id": "8d49711b-97f2-4b8c-97d1-5d59f00029fb",
   "metadata": {},
   "source": [
    "# Image Stack Viewer Workflow\n",
    "\n",
    "<div style=\"text-align: center;\">\n",
    "    <img src=\"./assets/230620_video-viewer.png\" alt=\"video viewer preview\" width=\"450\"/>\n",
    "</div>\n",
    "\n",
    "## Summary\n",
    "This workflow is dedicated to visualizing Miniscope calcium imaging data. It's designed for handling large datasets typical in neuroscience, especially single-photon miniscope data, providing an efficient visualization tool with features tailored to the needs of this field.\n",
    "\n",
    "## Setup and Imports\n",
    "\n",
    "<div class=\"admonition alert alert-info\">\n",
    "<p><strong> Dependencies</strong></p>\n",
    "\n",
    "This workflow notebook requires the packages specified in the [environment file](./environment.yml) in this workflow directory.\n",
    "</div>\n"
   ]
  },
  {
   "cell_type": "code",
   "execution_count": null,
   "id": "4c797384-ab66-4c34-9c62-63776baecbf8",
   "metadata": {},
   "outputs": [],
   "source": [
    "import os\n",
    "import sys\n",
    "from functools import partial\n",
    "\n",
    "import numpy as np\n",
    "import xarray as xr\n",
    "import panel as pn\n",
    "import holoviews as hv\n",
    "\n",
    "from neurodatagen.ca_imaging import simulate_miniscope_data\n",
    "from holoviews.streams import Stream\n",
    "from hvplot import xarray\n",
    "\n",
    "# Configuration\n",
    "%load_ext autoreload\n",
    "%autoreload 2\n",
    "\n",
    "# Extensions\n",
    "pn.extension(throttled=False)\n",
    "hv.extension('bokeh')"
   ]
  },
  {
   "cell_type": "markdown",
   "id": "36009870-4f51-4594-9a38-f41d61e7abe9",
   "metadata": {},
   "source": [
    "## Data Handling Overview\n",
    "\n",
    "Effective data handling is crucial for neuroscience imaging. This section outlines our approach to managing both synthetic and real data, highlighting the key differences and our strategies for processing them.\n",
    "\n",
    "\n",
    "### Generating Synthetic Data\n",
    "\n",
    "Synthetic data generation is an essential step for testing, developing, and demonstrating visualization tools. We use simulated data to mimic the properties of real miniscope data, ensuring our tools are reliable and accurate.\n",
    "\n",
    "The `simulate_miniscope_data` function used below generates synthetic calcium imaging data by simulating neural activity through spatial footprints and temporal calcium traces, while incorporating motion artifacts and realistic background noise. The function outputs a numpy array of 8-bit unsigned integers, encapsulated within an `xarray.DataArray`. This array represents the generated imaging data with dimensions corresponding to frame height, frame width, and frame number."
   ]
  },
  {
   "cell_type": "code",
   "execution_count": null,
   "id": "3a052c96-6bcf-4aaa-96ac-c02384dccc43",
   "metadata": {},
   "outputs": [],
   "source": [
    "# Constants\n",
    "NCELL = 50\n",
    "DIMS = {'height': 512, 'width': 512, 'frame': 400}\n",
    "ARR_NAME = 'sim_miniscope'\n",
    "CHK_SIZE = 200  # Chunk size of frames\n",
    "CHUNKS = {'frame': CHK_SIZE}  # Chunk by set of complete frames\n",
    "\n",
    "# Simulate miniscope data\n",
    "sim_data = simulate_miniscope_data(ncell=NCELL, dims=DIMS, arr_name=ARR_NAME, chk_size=CHK_SIZE)\n",
    "\n",
    "# Display data\n",
    "sim_data\n",
    "\n",
    "# TODO: Set chunks here\n",
    "# TODO: Add option to generate data straight to disk"
   ]
  },
  {
   "cell_type": "markdown",
   "id": "194aa85a-0214-4db7-ae16-a2acd4d675d9",
   "metadata": {},
   "source": [
    "#### Writing Data to Disk\n",
    "In neuroscience, it's very common to encounter datasets too large to fit entirely in memory. To emulate this, we write our simulated dataset to disk (even though it's not so big), adopting a strategy that allows for memory-efficient reading. This approach is crucial for managing large datasets without overwhelming your system's memory. The 'Bytes' information in the xarray output provides a useful indicator of the dataset's size, helping you to plan your data handling strategy."
   ]
  },
  {
   "cell_type": "markdown",
   "id": "7f7020bd-f4ba-4cbd-89db-8768c3307bd7",
   "metadata": {},
   "source": [
    "<div class=\"admonition alert alert-success\">\n",
    "<p><strong> Tip: </strong></p>\n",
    "\n",
    "Toggle the `WRITE_SIM`, `READ_SIM` flags below to `False` to bypass data writing/reading during repeated experimentation.\n",
    "</div>"
   ]
  },
  {
   "cell_type": "code",
   "execution_count": null,
   "id": "e87c66ae-b91b-4ec9-842f-0bed68b27f1d",
   "metadata": {},
   "outputs": [],
   "source": [
    "# Constants\n",
    "WRITE_SIM = True  # Flag to enable data writing to disk\n",
    "SIM_DPATH = '~/data/miniscope_simulated.zarr'  # Location to be stored to or loaded from\n",
    "\n",
    "# If the WRITE flag is set to True, store the data in Zarr format, suitable for large datasets\n",
    "if WRITE_SIM:\n",
    "    sim_data.to_zarr(SIM_DPATH, mode='w', consolidated=True)\n",
    "    del sim_data  # Delete the data from memory to validate reading from disk in the next step"
   ]
  },
  {
   "cell_type": "markdown",
   "id": "78b29c44-ab81-41bd-9dc5-03eaad443e61",
   "metadata": {},
   "source": [
    "#### Reading Data from Disk\n",
    "Let's read the data, emulating the situation where a dataset is too large to fit into memory."
   ]
  },
  {
   "cell_type": "code",
   "execution_count": null,
   "id": "c866b42d-ed30-4676-9d6a-4d342f0de7e6",
   "metadata": {
    "scrolled": true
   },
   "outputs": [],
   "source": [
    "# Control flag for reading the simulated data from disk\n",
    "READ_SIM = True\n",
    "\n",
    "if READ_SIM:\n",
    "    # Open the dataset from the Zarr storage\n",
    "    ldataset = xr.open_dataset(SIM_DPATH, engine='zarr', chunks=CHUNKS)\n",
    "    \n",
    "    # Access the specific data array of interest\n",
    "    data = ldataset[ARR_NAME]"
   ]
  },
  {
   "cell_type": "markdown",
   "id": "e3f3fa64-fa9a-484b-b8c4-75b77c686210",
   "metadata": {},
   "source": [
    "<div class=\"admonition alert alert-info\">\n",
    "<p><strong> Note: </strong></p>\n",
    "\n",
    "Utilizing the `chunks` parameter in `xr.open_dataset` above is crucial for efficient data handling with large datasets, as it enables Dask to process the data in manageable portions.\n",
    "</div>"
   ]
  },
  {
   "cell_type": "markdown",
   "id": "429a76db-fd75-463f-9593-4008794b33cb",
   "metadata": {},
   "source": [
    "### Working with Real Data\n",
    "\n",
    "Rea data always introduces unique challenges due to idiosyncracies of each experimental data acquisition approach. Here we detail how we adapt our workflow to efficiently process and prepare one example of real data for visualization.\n"
   ]
  },
  {
   "cell_type": "code",
   "execution_count": null,
   "id": "fae2f542-4768-437a-b97d-e10c6e0607f5",
   "metadata": {},
   "outputs": [],
   "source": [
    "# TODO: host and show access to the real demo dataset, sourced from the Minian repo.\n",
    "# The conversion from raw .avi files to the xarray/zarr format using Minian is in 231218_backup_workflow_image-stack.ipynb\n",
    "# Update this when Minian devs make a conda release for osx_arm64"
   ]
  },
  {
   "cell_type": "markdown",
   "id": "c12f479a-75db-4445-a37d-15f63354cdd5",
   "metadata": {},
   "source": [
    "## Visualization Strategies\n",
    "\n",
    "Visualizing calcium imaging data effectively is key to extracting meaningful insights. We introduce various visualization approaches to cater to different analysis needs.\n",
    "\n",
    "We will start with one-liner viewer and then proceed to a more advanced application with enhanced interactive features and exposed controls, at the expense of code complexity."
   ]
  },
  {
   "cell_type": "markdown",
   "id": "97fb3180-824a-4cd3-a14a-361e8970eda5",
   "metadata": {},
   "source": [
    "### Version 1: Basic Viewer\n",
    "\n",
    "The Basic Viewer provides a one-liner fundamental visualization interface. It's designed to offer a straightforward and clear view of imaging data, suitable for initial analyses and quick inspections."
   ]
  },
  {
   "cell_type": "markdown",
   "id": "c0026fef-d30d-4d07-adb7-37d06eea82a2",
   "metadata": {},
   "source": [
    "#### Synthetic data"
   ]
  },
  {
   "cell_type": "code",
   "execution_count": null,
   "id": "c5becf26-62bb-47c8-9dc5-974a5602bb10",
   "metadata": {},
   "outputs": [],
   "source": [
    "data.hvplot.image(groupby=\"frame\", cmap=\"Viridis\", height=400, width=400, colorbar=False)"
   ]
  },
  {
   "cell_type": "markdown",
   "id": "10715a6a-e954-41fd-86c3-e36ae4708efe",
   "metadata": {},
   "source": [
    "#### Real data"
   ]
  },
  {
   "cell_type": "code",
   "execution_count": null,
   "id": "3d29a551-5611-43b5-b980-90f6abfe59ad",
   "metadata": {},
   "outputs": [],
   "source": [
    "# TODO: Waiting on Minian to make a conda release for osx_arm64 so we can use it to show the conversion of .avi to xarray/zarr without having to rely on cloning a fork\n",
    "# real_data.hvplot.image(groupby=\"frame\", cmap=\"Viridis\", height=400, width=400, colorbar=False)"
   ]
  },
  {
   "cell_type": "markdown",
   "id": "5d4d2b1c-4051-4b87-ad20-f2272a564d7e",
   "metadata": {},
   "source": [
    "### Version 2: Advanced Viewer\n",
    "\n",
    "The Advanced Viewer builds on the Basic Viewer with added functionality:\n",
    "\n",
    "1. **Video Playback:** Features a video player widget for continuous playback, along with controls for step-by-step examination of the image stack.\n",
    "\n",
    "2. TODO: **Interactive Annotations** Enables direct annotation of regions of interest within the visual interface utilizing the HoloNote package. These are linked to timeseries plots for the annotated regions.\n",
    "\n",
    "3. **Synchronized Side Views** Provides aggregated side views synchronized with the playback of the main image stack view, facilitating examination across different dimensions and aiding in identifying temporal or spatial patterns.\n",
    "\n",
    "4. TODO **Data Intensity and Statistics** Integrates an intensity histogram for levels adjustment, alongside summary statistics that offer a quick quantitative overview of fluorescence signals.\n",
    "\n",
    "5. **Customization Capabilities:** Designed for adaptability, allowing users to tailor visualization settings for their specific data, and extensible to accommodate future developments in imaging analysis.\n",
    "\n",
    "#### Synthetic data [Advanced]"
   ]
  },
  {
   "cell_type": "code",
   "execution_count": null,
   "id": "07966e1f-ceb2-4feb-b58b-5371e87dae7f",
   "metadata": {},
   "outputs": [],
   "source": [
    "# Constants\n",
    "FRAMES_PER_SECOND = 30\n",
    "FRAMES = data.coords[\"frame\"].values\n",
    "\n",
    "# Create a video player widget\n",
    "video_player = pn.widgets.Player(\n",
    "    length=len(data.coords[\"frame\"]),\n",
    "    interval=1000 // FRAMES_PER_SECOND,  # Milliseconds\n",
    "    value=int(FRAMES.min()),\n",
    "    max_width=400,\n",
    "    max_height=90,\n",
    "    loop_policy=\"loop\",\n",
    "    sizing_mode=\"stretch_width\",\n",
    ")\n",
    "\n",
    "# Create a main plot\n",
    "main_plot = data.hvplot.image(\n",
    "    groupby=\"frame\",\n",
    "    cmap=\"Viridis\",\n",
    "    frame_height=400,\n",
    "    frame_width=400,\n",
    "    colorbar=False,\n",
    "    widgets={\"frame\": video_player},\n",
    ")\n",
    "\n",
    "# frame indicator lines on side plots\n",
    "line_opts = dict(color='red', alpha=.6, line_width=3)\n",
    "dmap_hline = hv.DynamicMap(pn.bind(lambda value: hv.HLine(value), video_player)).opts(**line_opts)\n",
    "dmap_vline = hv.DynamicMap(pn.bind(lambda value: hv.VLine(value), video_player)).opts(**line_opts)\n",
    "\n",
    "right_plot = data.max(['width']).hvplot.image(x='frame',\n",
    "    cmap=\"Viridis\",\n",
    "    frame_height=400,\n",
    "    frame_width=200,\n",
    "    colorbar=False,\n",
    "    title='_', # TODO: Fix this. See https://github.com/bokeh/bokeh/issues/13225#issuecomment-1611172355\n",
    ") * dmap_vline\n",
    "\n",
    "# TODO: Have frame progression going from main plot\n",
    "bottom_plot = data.max(['height']).hvplot.image(y='frame',\n",
    "    cmap=\"Viridis\",\n",
    "    frame_height=200,\n",
    "    frame_width=400,\n",
    "    colorbar=False,\n",
    "    # invert_yaxis=True # TODO: Fix this. See https://github.com/holoviz/holoviews/issues/5801\n",
    "    # ylim = (data.frame.size-1,0), # TODO: OR Fix this. Supposed to be a invert_yaxis workaround. See https://discourse.holoviz.org/t/hvplot-image-invert-y-axis/5625/2?u=droumis\n",
    ") * dmap_hline\n",
    "\n",
    "video_player.margin = (20, 20, 20, 70) # TODO: Fix this. Hack to center widget over main\n",
    "\n",
    "# Below, select just main_plot[0] so we can handle the widget placement explicitly\n",
    "sim_app = pn.Column(\n",
    "    video_player,\n",
    "    pn.Row(main_plot[0], right_plot),\n",
    "    bottom_plot)\n",
    "\n",
    "sim_app"
   ]
  },
  {
   "cell_type": "markdown",
   "id": "270fa3cd-1fc0-4f54-9a93-444470ac2fa2",
   "metadata": {},
   "source": [
    "#### Real data [Advanced]"
   ]
  },
  {
   "cell_type": "code",
   "execution_count": null,
   "id": "d24f0082-c21e-4a23-b944-54ea2021d5dd",
   "metadata": {},
   "outputs": [],
   "source": [
    "# TODO: Waiting on Minian to make a conda release for osx_arm64 so we can use it to show the conversion of .avi to xarray/zarr without having to rely on cloning a fork\n",
    "# The viz of raw data is in 231218_backup_workflow_image-stack.ipynb"
   ]
  },
  {
   "cell_type": "code",
   "execution_count": null,
   "id": "990a2f82-87e0-45e2-8f5f-47b9ff4bc093",
   "metadata": {},
   "outputs": [],
   "source": [
    "# TODO: Consider including additional advanced versions are in 231218_backup_workflow_image-stack.ipynb"
   ]
  },
  {
   "cell_type": "code",
   "execution_count": null,
   "id": "3450a89c-3a51-4cc4-93c5-34385f0b6a17",
   "metadata": {},
   "outputs": [],
   "source": []
  }
 ],
 "metadata": {
  "kernelspec": {
   "display_name": "Python 3 (ipykernel)",
   "language": "python",
   "name": "python3"
  },
  "language_info": {
   "codemirror_mode": {
    "name": "ipython",
    "version": 3
   },
   "file_extension": ".py",
   "mimetype": "text/x-python",
   "name": "python",
   "nbconvert_exporter": "python",
   "pygments_lexer": "ipython3",
   "version": "3.12.3"
  }
 },
 "nbformat": 4,
 "nbformat_minor": 5
}
