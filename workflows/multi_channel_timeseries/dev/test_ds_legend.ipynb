{
 "cells": [
  {
   "cell_type": "code",
   "execution_count": null,
   "id": "2ab4d105-8757-4ec2-b2c9-7adb73ac4d4e",
   "metadata": {},
   "outputs": [],
   "source": [
    "import holoviews as hv; hv.extension('bokeh')\n",
    "from holoviews.operation.datashader import rasterize, datashade, shade, inspect, inspect_points\n",
    "import panel as pn; pn.extension()\n",
    "import datashader as ds\n",
    "import numpy as np\n",
    "import string\n",
    "import colorcet as cc"
   ]
  },
  {
   "cell_type": "code",
   "execution_count": null,
   "id": "5f063056-82dd-4450-b4f9-baf7b81f1cfc",
   "metadata": {},
   "outputs": [],
   "source": [
    "color_key = list(enumerate(cc.glasbey[0:n_curves]))\n",
    "color_points = hv.NdOverlay({k: hv.Points([(0,0)], label=str(k)).opts(color=v, size=0) for k, v in color_key})"
   ]
  },
  {
   "cell_type": "code",
   "execution_count": null,
   "id": "56ee8d1c-b692-487c-b584-26a6df2e72d1",
   "metadata": {},
   "outputs": [],
   "source": [
    "color_key"
   ]
  },
  {
   "cell_type": "code",
   "execution_count": null,
   "id": "f52691a7-fd8b-44a6-8bc7-246b600a5be2",
   "metadata": {},
   "outputs": [],
   "source": [
    "hv.Curve([1,2,3], label='A').opts(tools=['hover']) * hv.Curve([3,2,3], label='B').opts(tools=['hover'])"
   ]
  },
  {
   "cell_type": "code",
   "execution_count": null,
   "id": "e4e2af86-ab89-4c81-8f8a-bd0c7a8eb50f",
   "metadata": {
    "tags": []
   },
   "outputs": [],
   "source": [
    "n_curves = 4\n",
    "\n",
    "curves = {}\n",
    "color_key = {}\n",
    "\n",
    "for i in np.arange(1,n_curves+1):\n",
    "    curves[string.ascii_uppercase[-i]] = hv.Curve(np.random.randint(10, size=10), label=string.ascii_uppercase[-i]).opts(color=cc.glasbey[-i], tools=['hover'],)\n",
    "    color_key[string.ascii_uppercase[-i]] = cc.glasbey[-i]\n",
    "\n",
    "color_points = hv.NdOverlay({k: hv.Points([(0,0)], label=str(k)).opts(color=v, size=0) for k, v in color_key.items()}).opts(legend_cols=2)\n",
    "\n",
    "orig_plot = hv.NdOverlay(curves, kdims='curve').opts(width=300, height=300, legend_cols=2, title='original')\n",
    "ds_plot = datashade(hv.NdOverlay(curves, kdims='curve'), line_width=2, cmap=cc.glasbey[:n_curves], aggregator=ds.by('curve', ds.count())).opts(tools=['hover'], title='datashade', width=300, height=300)\n",
    "r_plot = rasterize(hv.NdOverlay(curves, kdims='curve'),line_width=2, aggregator=ds.by('curve', ds.count())).opts(tools=['hover'], title='rasterize', cmap=cc.glasbey[:n_curves], width=300, height=300)\n",
    "rs_plot = shade(rasterize(hv.NdOverlay(curves, kdims='curve'), line_width=2, aggregator=ds.by('curve', ds.count())).opts(cmap=cc.glasbey[:n_curves])).opts(tools=['hover'], title='rasterize+shade', width=300, height=300)\n",
    "\n",
    "orig_plot + (ds_plot * color_points) + (r_plot * color_points) + (rs_plot * color_points)\n",
    "\n",
    "\n"
   ]
  },
  {
   "cell_type": "code",
   "execution_count": null,
   "id": "8156fad1-f045-450f-88f0-52462b8e2cdb",
   "metadata": {},
   "outputs": [],
   "source": [
    "hv.NdOverlay(curves, kdims='curve').opts(width=300, height=300, legend_cols=4, title='original')"
   ]
  },
  {
   "cell_type": "code",
   "execution_count": null,
   "id": "ff16e2b2-b8fa-4edf-9fcd-b6fc9db4cfe9",
   "metadata": {},
   "outputs": [],
   "source": [
    "hv.streams.Tap(source=points, popup=form('Tap'))"
   ]
  },
  {
   "cell_type": "code",
   "execution_count": null,
   "id": "837009dc-5423-4ace-9287-5e7cbb8e4b2a",
   "metadata": {},
   "outputs": [],
   "source": [
    "def table_df(df):\n",
    "    return pn.pane.DataFrame(df)\n",
    "\n",
    "highlighter = inspect_points.instance(streams=[hv.streams.Tap])\n",
    "\n",
    "highlight = highlighter(ds_plot).opts(color='grey', tools=[\"hover\"], marker='circle', \n",
    "                                        size=5, fill_alpha=.1, line_dash='-', line_alpha=.4)\n",
    "\n",
    "table = pn.bind(table_df, df=highlighter.param.hits)"
   ]
  },
  {
   "cell_type": "code",
   "execution_count": null,
   "id": "fd9a174d-2b77-423d-9c92-20eb86ddb9a2",
   "metadata": {},
   "outputs": [],
   "source": [
    "pn.Column((highlight * ds_plot.opts(tools=[])), table)"
   ]
  },
  {
   "cell_type": "code",
   "execution_count": null,
   "id": "fb23ec33-0158-4c12-9da0-9c7bce1c2f15",
   "metadata": {},
   "outputs": [],
   "source": [
    "import numpy as np\n",
    "import holoviews as hv\n",
    "from holoviews import streams\n",
    "hv.extension('bokeh')"
   ]
  },
  {
   "cell_type": "code",
   "execution_count": null,
   "id": "6000fbe0-ec50-4b83-9bc6-106896263b1a",
   "metadata": {},
   "outputs": [],
   "source": [
    "Y, X = (np.mgrid[0:100, 0:100]-50.)/20.\n",
    "img = hv.Image(np.sin(X**2 + Y**2))\n",
    "\n",
    "def coords(x):\n",
    "    # return pn.pane.Markdown(f'{x}, {y}')\n",
    "    return hv.Curve([x])\n",
    "\n",
    "# Declare pointer stream initializing at (0, 0) and linking to Image\n",
    "pointer = streams.Tap(x=0, source=img, popup=coords)"
   ]
  },
  {
   "cell_type": "code",
   "execution_count": null,
   "id": "d47c0c56-d138-4c89-a5a0-253c764c34fd",
   "metadata": {},
   "outputs": [],
   "source": [
    "img#.opts(tools=['hover'])"
   ]
  },
  {
   "cell_type": "code",
   "execution_count": null,
   "id": "ed948c8e-8c1b-45d3-b20c-e9c945e92d66",
   "metadata": {},
   "outputs": [],
   "source": []
  }
 ],
 "metadata": {
  "kernelspec": {
   "display_name": "Python 3 (ipykernel)",
   "language": "python",
   "name": "python3"
  },
  "language_info": {
   "codemirror_mode": {
    "name": "ipython",
    "version": 3
   },
   "file_extension": ".py",
   "mimetype": "text/x-python",
   "name": "python",
   "nbconvert_exporter": "python",
   "pygments_lexer": "ipython3",
   "version": "3.12.2"
  }
 },
 "nbformat": 4,
 "nbformat_minor": 5
}
