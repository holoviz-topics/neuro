{
 "cells": [
  {
   "cell_type": "code",
   "execution_count": null,
   "id": "34c90f3a-5484-468b-aaae-c81a56ad8773",
   "metadata": {},
   "outputs": [],
   "source": [
    "from holonote.annotate import Annotator, SQLiteDB\n",
    "import hvplot.pandas\n",
    "import pandas as pd\n",
    "import panel as pn\n",
    "pn.extension()"
   ]
  },
  {
   "cell_type": "markdown",
   "id": "b6089894-067a-4323-955c-bf526ca0bcab",
   "metadata": {},
   "source": [
    "## Load data and plot"
   ]
  },
  {
   "cell_type": "code",
   "execution_count": null,
   "id": "ae0272d2-fc03-44d9-8d21-c67ecb2306a6",
   "metadata": {},
   "outputs": [],
   "source": [
    "speed_data = pd.read_parquet(\"/Users/droumis/src/holonote/examples/assets/example.parquet\")\n",
    "curve = speed_data.hvplot(\"TIME\", \"SPEED\", responsive=True, min_height=300)\n",
    "curve"
   ]
  },
  {
   "cell_type": "markdown",
   "id": "dd9acae6-82df-4c54-ba47-2fac6b64b925",
   "metadata": {},
   "source": [
    "## Create an annotator object"
   ]
  },
  {
   "cell_type": "code",
   "execution_count": null,
   "id": "90a1c139-f248-45f2-88dc-d7f360576c54",
   "metadata": {},
   "outputs": [],
   "source": [
    "annotator = Annotator(\n",
    "    curve,\n",
    "    fields=[\"category\"],\n",
    "    connector=SQLiteDB(table_name=\"styling\"),\n",
    ")\n",
    "annotator.groupby = \"category\""
   ]
  },
  {
   "cell_type": "code",
   "execution_count": null,
   "id": "bfb0b050-9d59-46ea-b7c4-637111ca1257",
   "metadata": {},
   "outputs": [],
   "source": [
    "from holonote.app.panel import PanelWidgets\n",
    "from holonote.app.tabulator import AnnotatorTabulator\n",
    "\n",
    "annotator_widgets = pn.Column(PanelWidgets(annotator), AnnotatorTabulator(annotator))\n",
    "# could also set to pop up widget with `as_popup=True`"
   ]
  },
  {
   "cell_type": "markdown",
   "id": "a0b7b2a5-9eab-49e0-a8ca-f88581012fb7",
   "metadata": {},
   "source": [
    "## Create DF and programmatically add annotations"
   ]
  },
  {
   "cell_type": "code",
   "execution_count": null,
   "id": "a988fb4a-0198-4087-b1ce-cba94ba2dba3",
   "metadata": {},
   "outputs": [],
   "source": [
    "add_annotations_programmatically = False\n",
    "if add_annotations_programmatically:\n",
    "    start_time = pd.date_range(\"2022-06-04\", \"2022-06-22\", periods=5)\n",
    "    end_time = start_time + pd.Timedelta(days=2)\n",
    "    data = {\n",
    "        \"start_time\": start_time,\n",
    "        \"end_time\": end_time,\n",
    "        \"category\": [\"Good\", \"Check\", \"Good\", \"Bad\", \"Good\"],\n",
    "    }\n",
    "    df = pd.DataFrame(data)\n",
    "    display(df.head(3))\n",
    "    annotator.define_annotations(df, TIME=(\"start_time\", \"end_time\"))"
   ]
  },
  {
   "cell_type": "markdown",
   "id": "cc3b32a7-3012-48b9-8a2e-ec3440bf311d",
   "metadata": {},
   "source": [
    "## Display data and annoations together"
   ]
  },
  {
   "cell_type": "code",
   "execution_count": null,
   "id": "2ebb3744-241e-4bc9-8ccb-8a4e1ba96a0e",
   "metadata": {},
   "outputs": [],
   "source": [
    "pn.Row(annotator_widgets, annotator * curve)"
   ]
  },
  {
   "cell_type": "code",
   "execution_count": null,
   "id": "4e67acbb-e7ce-4f4f-9f21-2c1f8ad69b35",
   "metadata": {},
   "outputs": [],
   "source": [
    "# annotator.add_annotation(category='NoData')"
   ]
  },
  {
   "cell_type": "markdown",
   "id": "4bc37d70-1616-457a-9dcf-b6fec8fb8c64",
   "metadata": {},
   "source": [
    "## Persist annotations to disk programmatically"
   ]
  },
  {
   "cell_type": "code",
   "execution_count": null,
   "id": "103a61fa-e94b-49c0-828f-b4d0981553f0",
   "metadata": {},
   "outputs": [],
   "source": [
    "annotator.commit()"
   ]
  },
  {
   "cell_type": "code",
   "execution_count": null,
   "id": "e7118979-5c08-4f54-b628-b000cf3c803a",
   "metadata": {},
   "outputs": [],
   "source": []
  },
  {
   "cell_type": "markdown",
   "id": "443560bd-41ba-4cc2-a261-12a458e3b060",
   "metadata": {},
   "source": [
    "# 2D Map Air Tempurature Example"
   ]
  },
  {
   "cell_type": "code",
   "execution_count": null,
   "id": "9c143efb-7cae-41d2-982e-1b720585a4fa",
   "metadata": {},
   "outputs": [],
   "source": [
    "from holonote.annotate import Annotator\n",
    "from holonote.app import PanelWidgets\n",
    "import xarray as xr\n",
    "import panel as pn\n",
    "import holoviews as hv\n",
    "\n",
    "hv.extension(\"bokeh\")\n",
    "\n",
    "ds = xr.tutorial.open_dataset(\"air_temperature\")\n",
    "\n",
    "\n",
    "def plot_image(time):\n",
    "    image = hv.Image(ds.sel(time=time), [\"lon\", \"lat\"], [\"air\"]).opts(\n",
    "        cmap=\"RdBu_r\", title=time, colorbar=True, clim=(220, 340), width=500, height=300\n",
    "    )\n",
    "    return image\n",
    "\n",
    "\n",
    "def plot_timeseries_by_select(indices):\n",
    "    if indices:\n",
    "        row = annotator.df.loc[indices[0]]\n",
    "        lon1 = row[\"start[lon]\"]\n",
    "        lon2 = row[\"end[lon]\"]\n",
    "        lat1 = row[\"start[lat]\"]\n",
    "        lat2 = row[\"end[lat]\"]\n",
    "        ds_sel = ds.sel(lon=slice(lon1, lon2), lat=slice(lat2, lat1)).mean(\n",
    "            [\"lat\", \"lon\"]\n",
    "        )\n",
    "        time_series.object = hv.Curve(ds_sel[\"air\"]).opts(\n",
    "            title=f\"Time Series {lon1:.2f} {lat1:.2f} {lon2:.2f} {lat2:.2f}\", width=500\n",
    "        )\n",
    "\n",
    "\n",
    "def plot_timeseries_by_stream(bounds):\n",
    "    if not bounds:\n",
    "        lon1, lat1, lon2, lat2 = ds.lon.min(), ds.lat.min(), ds.lon.max(), ds.lat.max()\n",
    "        ds_sel = ds\n",
    "    else:\n",
    "        lon1, lat1, lon2, lat2 = bounds\n",
    "        ds_sel = ds.sel(lon=slice(lon1, lon2), lat=slice(lat2, lat1))\n",
    "    time_series.object = hv.Curve(ds_sel[\"air\"].mean([\"lat\", \"lon\"])).opts(\n",
    "        title=f\"Time Series {lon1:.2f} {lat1:.2f} {lon2:.2f} {lat2:.2f}\", width=500\n",
    "    )\n",
    "\n",
    "\n",
    "times = ds.time.dt.strftime(\"%Y-%m-%d %H:%M\").values.tolist()\n",
    "\n",
    "# start annotation\n",
    "annotator = Annotator({\"lon\": float, \"lat\": float}, fields=[\"Description\", \"Time\", \"Z\"])\n",
    "annotator_widgets = PanelWidgets(\n",
    "    annotator, field_values={\"Time\": times, \"Z\": 100}, as_popup=True\n",
    ")\n",
    "\n",
    "# make image dependent on the selected time\n",
    "time_input = annotator_widgets.fields_widgets[1]\n",
    "time_input.value = times[0]\n",
    "image = hv.DynamicMap(pn.bind(plot_image, time_input))\n",
    "\n",
    "time_series = pn.pane.HoloViews()\n",
    "\n",
    "# update plot time when a new box is SELECTED\n",
    "pn.bind(plot_timeseries_by_select, annotator.param.selected_indices, watch=True)\n",
    "\n",
    "# update plot time when a new box is CREATED\n",
    "display = annotator.get_display(\"lat\", \"lon\")\n",
    "box_stream = display._edit_streams[0]  # to make public later\n",
    "box_stream.source = image\n",
    "pn.bind(plot_timeseries_by_stream, box_stream.param.bounds, watch=True)\n",
    "\n",
    "# layout\n",
    "pn.Row(annotator_widgets, pn.Column(annotator * image, time_series))\n"
   ]
  },
  {
   "cell_type": "code",
   "execution_count": null,
   "id": "1b9dbadd-9dff-4c7f-9839-25863a6a4265",
   "metadata": {},
   "outputs": [],
   "source": []
  },
  {
   "cell_type": "markdown",
   "id": "145fe6d7-2717-4f01-b836-15f5fce41058",
   "metadata": {},
   "source": [
    "# Simple Example without Table"
   ]
  },
  {
   "cell_type": "code",
   "execution_count": null,
   "id": "4efedb97-f382-45ac-8603-a99a390b2842",
   "metadata": {},
   "outputs": [],
   "source": [
    "import hvplot.pandas\n",
    "import pandas as pd\n",
    "from holonote.annotate import Annotator, SQLiteDB\n",
    "from holonote.app import PanelWidgets\n",
    "import panel as pn\n",
    "\n",
    "# Setup\n",
    "speed_data = pd.read_parquet(\"/Users/droumis/src/holonote/examples/assets/example.parquet\")\n",
    "curve = speed_data.hvplot(\"TIME\", \"SPEED\")\n",
    "\n",
    "annotator = Annotator(\n",
    "    curve,\n",
    "    fields=[\"category\"],\n",
    "    connector=SQLiteDB(table_name=\"styling\"),\n",
    ")\n",
    "\n",
    "start_time = pd.date_range(\"2022-06-04\", \"2022-06-22\", periods=5)\n",
    "end_time = start_time + pd.Timedelta(days=2)\n",
    "data = {\n",
    "    \"start_time\": start_time,\n",
    "    \"end_time\": end_time,\n",
    "    \"category\": [\"A\", \"B\", \"A\", \"C\", \"B\"],\n",
    "}\n",
    "annotator.define_annotations(pd.DataFrame(data), TIME=(\"start_time\", \"end_time\"))\n",
    "\n",
    "# News stuff\n",
    "annotator.groupby = \"category\"\n",
    "pn.Row(PanelWidgets(annotator), annotator * curve)"
   ]
  },
  {
   "cell_type": "markdown",
   "id": "00f28241-3480-4e5c-bdf1-30a62f8e44e0",
   "metadata": {},
   "source": [
    "# Copy Paste Example "
   ]
  },
  {
   "cell_type": "code",
   "execution_count": null,
   "id": "efca937c-dbba-4ef4-9508-665c3b544f7b",
   "metadata": {},
   "outputs": [],
   "source": [
    "import hvplot.pandas\n",
    "import pandas as pd\n",
    "from holonote.annotate import Annotator, SQLiteDB\n",
    "from holonote.app import PanelWidgets\n",
    "import panel as pn\n",
    "from holonote.app.tabulator import AnnotatorTabulator\n",
    "\n",
    "# Setup\n",
    "speed_data = pd.read_parquet(\"/Users/droumis/src/holonote/examples/assets/example.parquet\")\n",
    "curve = speed_data.hvplot(\"TIME\", \"SPEED\")\n",
    "\n",
    "annotator = Annotator(\n",
    "    curve,\n",
    "    fields=[\"category\"],\n",
    "    connector=SQLiteDB(table_name=\"styling\"),\n",
    ")\n",
    "\n",
    "start_time = pd.date_range(\"2022-06-04\", \"2022-06-22\", periods=5)\n",
    "end_time = start_time + pd.Timedelta(days=2)\n",
    "data = {\n",
    "    \"start_time\": start_time,\n",
    "    \"end_time\": end_time,\n",
    "    \"category\": [\"A\", \"B\", \"A\", \"C\", \"B\"],\n",
    "}\n",
    "annotator.define_annotations(pd.DataFrame(data), TIME=(\"start_time\", \"end_time\"))\n",
    "\n",
    "annotator.groupby = \"category\"\n",
    "annotator_widgets = pn.Column(PanelWidgets(annotator), AnnotatorTabulator(annotator))\n",
    "pn.Row(annotator_widgets, annotator * curve)"
   ]
  },
  {
   "cell_type": "code",
   "execution_count": null,
   "id": "030c1bd8-6d74-4ad8-a667-b1d6e6ccd504",
   "metadata": {},
   "outputs": [],
   "source": []
  }
 ],
 "metadata": {
  "kernelspec": {
   "display_name": "Python 3 (ipykernel)",
   "language": "python",
   "name": "python3"
  },
  "language_info": {
   "codemirror_mode": {
    "name": "ipython",
    "version": 3
   },
   "file_extension": ".py",
   "mimetype": "text/x-python",
   "name": "python",
   "nbconvert_exporter": "python",
   "pygments_lexer": "ipython3",
   "version": "3.12.3"
  }
 },
 "nbformat": 4,
 "nbformat_minor": 5
}
