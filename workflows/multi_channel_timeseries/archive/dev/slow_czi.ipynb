{
 "cells": [
  {
   "cell_type": "code",
   "execution_count": null,
   "metadata": {},
   "outputs": [],
   "source": [
    "import numpy as np\n",
    "import xarray as xr\n",
    "import holoviews as hv\n",
    "from bokeh.models import HoverTool\n",
    "\n",
    "hv.extension(\"bokeh\")"
   ]
  },
  {
   "cell_type": "code",
   "execution_count": null,
   "metadata": {},
   "outputs": [],
   "source": [
    "n_channels, n_seconds, fs = 25, 30, 512\n",
    "\n",
    "data = np.random.random((n_channels, 15360))\n",
    "time = np.arange(n_seconds * fs) / fs\n",
    "channels = [f\"EEG {n+1:02d}\" for n in range(n_channels)]\n",
    "offset = np.std(data) * 6\n",
    "\n",
    "hover = HoverTool(\n",
    "    tooltips=[(\"Channel\", \"@channel\"), (\"Time\", \"$x s\"), (\"Amplitude\", \"@original_amplitude µV\")]\n",
    ")\n",
    "shared_opts = dict(color=\"black\", line_width=1, tools=[hover, \"xwheel_zoom\"], shared_axes=False)"
   ]
  },
  {
   "cell_type": "code",
   "execution_count": null,
   "metadata": {},
   "outputs": [],
   "source": [
    "# Overlay\n",
    "\n",
    "channel_curves = []\n",
    "for i, channel_data in enumerate(data):\n",
    "    offset_data = channel_data + (i * offset)\n",
    "    ds = hv.Dataset(\n",
    "        (time, offset_data, channel_data, channels[i]),\n",
    "        [\"Time\", \"Amplitude\", \"original_amplitude\", \"channel\"],\n",
    "    )\n",
    "    channel_curves.append(\n",
    "        hv.Curve(ds, \"Time\", [\"Amplitude\", \"original_amplitude\", \"channel\"]).opts(**shared_opts)\n",
    "    )\n",
    "\n",
    "plot1 = hv.Overlay(channel_curves, kdims=\"Channel\")\n",
    "type(plot1)"
   ]
  },
  {
   "cell_type": "code",
   "execution_count": null,
   "metadata": {},
   "outputs": [],
   "source": [
    "# NdOverlay\n",
    "data2 = data + (np.arange(len(data))[:, np.newaxis] * offset)\n",
    "\n",
    "xds = xr.Dataset(\n",
    "    coords={\"channel\": channels, \"Time\": time},\n",
    "    data_vars={\n",
    "        \"Amplitude\": ((\"channel\", \"Time\"), data2),\n",
    "        # \"original_amplitude\": ((\"channel\", \"Time\"), data),\n",
    "    },\n",
    ")\n",
    "\n",
    "plot2 = (\n",
    "    hv.Dataset(xds)\n",
    "    .to(hv.Curve, groupby=\"channel\")\n",
    "    .overlay()\n",
    "    .opts(hv.opts.Curve(**shared_opts))\n",
    ").opts(tools=[hover], show_legend=False)\n",
    "type(plot2)"
   ]
  },
  {
   "cell_type": "code",
   "execution_count": null,
   "metadata": {},
   "outputs": [],
   "source": [
    "(plot1 + plot2).opts(shared_axes=False)"
   ]
  }
 ],
 "metadata": {
  "language_info": {
   "name": "python",
   "pygments_lexer": "ipython3"
  }
 },
 "nbformat": 4,
 "nbformat_minor": 4
}
