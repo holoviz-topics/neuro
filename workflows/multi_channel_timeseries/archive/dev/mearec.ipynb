{
 "cells": [
  {
   "cell_type": "code",
   "execution_count": null,
   "id": "29ee2684-09bb-493e-bb8f-00b185ce0940",
   "metadata": {},
   "outputs": [],
   "source": [
    "!conda list holoviews"
   ]
  },
  {
   "cell_type": "code",
   "execution_count": null,
   "id": "11b3b3ca-6692-4532-903c-991bf5551f5e",
   "metadata": {},
   "outputs": [],
   "source": [
    "from scipy.stats import zscore\n",
    "import h5py\n",
    "\n",
    "import holoviews as hv; hv.extension('bokeh')\n",
    "from holoviews.plotting.links import RangeToolLink\n",
    "from holoviews.operation.datashader import rasterize\n",
    "from bokeh.models import HoverTool\n",
    "\n",
    "filename = '/Users/droumis/src/MEArec/notebooks/data/recording_neuropixels_10s_384ch.h5'\n",
    "f = h5py.File(filename, \"r\")\n",
    "\n",
    "n_sample_chans = 40\n",
    "n_sample_times = 25000 # sampling frequency is 25 kHz\n",
    "clim_mul = 2\n",
    "\n",
    "# main plot\n",
    "hover = HoverTool(tooltips=[\n",
    "    (\"Channel\", \"@channel\"),\n",
    "    (\"Time\", \"$x s\"),\n",
    "    (\"Amplitude\", \"$y µV\")])\n",
    "\n",
    "time = f['timestamps'][:n_sample_times]\n",
    "data = f['recordings'][:n_sample_times,:n_sample_chans].T\n",
    "\n",
    "f.close()\n",
    "\n",
    "channels = [f'ch{i}' for i in range(n_sample_chans)]\n",
    "channels = channels[:n_sample_chans]\n",
    "\n",
    "channel_curves = []\n",
    "for i, channel in enumerate(channels):\n",
    "    ds = hv.Dataset((time, data[i,:], channel), [\"Time\", \"Amplitude\", \"channel\"])\n",
    "    curve = hv.Curve(ds, \"Time\", [\"Amplitude\", \"channel\"], label=f'{channel}')\n",
    "    curve.opts(color=\"black\", line_width=1, subcoordinate_y=True, subcoordinate_scale=3, tools=[hover])\n",
    "    channel_curves.append(curve)\n",
    "\n",
    "curves = hv.Overlay(channel_curves, kdims=\"Channel\")\n",
    "\n",
    "curves = curves.opts(\n",
    "    xlabel=\"Time (s)\", ylabel=\"Channel\", show_legend=False,\n",
    "    padding=0, aspect=1.5, responsive=True, shared_axes=False, framewise=False)\n",
    "\n",
    "# minimap\n",
    "y_positions = range(len(channels))\n",
    "yticks = [(i, ich) for i, ich in enumerate(channels)]\n",
    "z_data = zscore(data, axis=1)\n",
    "\n",
    "minimap = rasterize(hv.Image((time, y_positions, z_data), [\"Time (s)\", \"Channel\"], \"Amplitude (uV)\"))\n",
    "minimap = minimap.opts(\n",
    "    cmap=\"RdBu_r\", colorbar=False, xlabel='', yticks=[yticks[0], yticks[-1]], toolbar='disable',\n",
    "    height=120, responsive=True, clim=(-z_data.std()*clim_mul, z_data.std()*clim_mul))\n",
    "\n",
    "RangeToolLink(minimap, curves, axes=[\"x\", \"y\"],\n",
    "              boundsx=(.1, .3),\n",
    "              boundsy=(10, 30))\n",
    "\n",
    "(curves + minimap).cols(1)"
   ]
  },
  {
   "cell_type": "code",
   "execution_count": null,
   "id": "c2421201-bbf9-448b-ab94-7d97ea139bc8",
   "metadata": {},
   "outputs": [],
   "source": []
  }
 ],
 "metadata": {
  "kernelspec": {
   "display_name": "Python 3 (ipykernel)",
   "language": "python",
   "name": "python3"
  },
  "language_info": {
   "codemirror_mode": {
    "name": "ipython",
    "version": 3
   },
   "file_extension": ".py",
   "mimetype": "text/x-python",
   "name": "python",
   "nbconvert_exporter": "python",
   "pygments_lexer": "ipython3",
   "version": "3.11.6"
  }
 },
 "nbformat": 4,
 "nbformat_minor": 5
}
