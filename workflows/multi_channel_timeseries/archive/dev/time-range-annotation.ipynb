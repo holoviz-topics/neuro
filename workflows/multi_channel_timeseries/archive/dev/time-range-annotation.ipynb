{
 "cells": [
  {
   "cell_type": "markdown",
   "id": "946cac3d-a9ae-4b59-b429-b0ea93357fc9",
   "metadata": {},
   "source": [
    "# Time Range Annotation"
   ]
  },
  {
   "cell_type": "code",
   "execution_count": null,
   "id": "c7d23b24-720f-49c5-8ac1-6680be3c117e",
   "metadata": {},
   "outputs": [],
   "source": [
    "%load_ext autoreload\n",
    "%autoreload 2\n",
    "\n",
    "import numpy as np; np.random.seed(0)\n",
    "import pandas as pd\n",
    "from scipy.stats import zscore\n",
    "import string\n",
    "\n",
    "import colorcet as cc\n",
    "import holoviews as hv; hv.extension('bokeh')\n",
    "from holoviews.plotting.links import RangeToolLink\n",
    "from holoviews.operation.datashader import rasterize\n",
    "from holoviews import Dataset\n",
    "from bokeh.models import HoverTool\n",
    "from holonote.annotate import Annotator\n",
    "from holonote.app import PanelWidgets\n",
    "import panel as pn\n",
    "pn.extension('tabulator')"
   ]
  },
  {
   "cell_type": "markdown",
   "id": "9b82ee6d-156d-4587-9b1e-3d75f052d3c3",
   "metadata": {},
   "source": [
    "## Create Multi-Channel Timeseries Plot"
   ]
  },
  {
   "cell_type": "markdown",
   "id": "0fc2d4be-d69b-490d-a378-bcd9b0e9944b",
   "metadata": {},
   "source": [
    "We'll use the the [small-data approach](./small_multi-chan-ts.ipynb), but the annotations should work with any of the demonstrated approaches."
   ]
  },
  {
   "cell_type": "markdown",
   "id": "3b47646e-0f6f-4014-9971-b09c1acc93b1",
   "metadata": {},
   "source": [
    "### Generate fake data"
   ]
  },
  {
   "cell_type": "code",
   "execution_count": null,
   "id": "23056c00-1eb5-4365-b6ab-ba5e8c42eb03",
   "metadata": {},
   "outputs": [],
   "source": [
    "n_channels = 8\n",
    "n_seconds = 300\n",
    "fs = 256  # Sampling frequency\n",
    "\n",
    "init_freq = .01  # Initial sine wave frequency in Hz\n",
    "freq_inc = 2/n_channels  # Frequency increment\n",
    "amplitude = 1\n",
    "\n",
    "total_samples = n_seconds * fs\n",
    "time = np.linspace(0, n_seconds, total_samples)\n",
    "channels = [f'CH {i}' for i in range(n_channels)]\n",
    "groups = ['EEG'] * (n_channels // 2) + ['MEG'] * (n_channels - n_channels // 2)\n",
    "\n",
    "data = np.array([amplitude * np.sin(2 * np.pi * (init_freq + i * freq_inc) * time)\n",
    "                 for i in range(n_channels)])\n",
    "print(f'shape: {data.shape} (n_channels, samples) ')"
   ]
  },
  {
   "cell_type": "markdown",
   "id": "f67e5f59-77fd-4f64-9d98-3334576a4b15",
   "metadata": {},
   "source": [
    "### Create Plot"
   ]
  },
  {
   "cell_type": "code",
   "execution_count": null,
   "id": "d2f93794-8f3e-4b2c-8c19-dcdb1bf9989f",
   "metadata": {},
   "outputs": [],
   "source": [
    "time_dim = hv.Dimension('Time', unit='s')\n",
    "amplitude_dim = hv.Dimension('Amplitude', unit='µV')\n",
    "\n",
    "curves = []\n",
    "for group, channel, channel_data in zip(groups, channels, data):\n",
    "    ds = Dataset((time, channel_data), [time_dim, amplitude_dim])\n",
    "    curve = hv.Curve(ds, time_dim, amplitude_dim, group=group, label=f'{channel}')\n",
    "    curve.opts(\n",
    "        subcoordinate_y=True,\n",
    "        subcoordinate_scale=.75,\n",
    "        color=\"black\",\n",
    "        line_width=1,\n",
    "        tools=['hover'],\n",
    "        hover_tooltips=[(\"Group\", \"$group\"), (\"Channel\", \"$label\"), \"Time\", \"Amplitude\"],\n",
    "        apply_hard_bounds=True,\n",
    "        )\n",
    "    curves.append(curve)\n",
    "\n",
    "curves_overlay = hv.Overlay(curves, kdims=[\"Channel\", time_dim])\n",
    "\n",
    "curves_overlay = curves_overlay.opts(\n",
    "    xlabel=\"Time (s)\",\n",
    "    ylabel=\"Channel\",\n",
    "    show_legend=False,\n",
    "    padding=0,\n",
    "    responsive=True,\n",
    "    shared_axes=False,\n",
    "    min_height=400,\n",
    ")\n",
    "\n",
    "# Minimap\n",
    "y_positions = range(len(channels))\n",
    "yticks = [(i, ich) for i, ich in enumerate(channels)]\n",
    "z_data = zscore(data, axis=1)\n",
    "minimap = rasterize(hv.Image((time, y_positions, z_data), [time_dim, \"Channel\"], amplitude_dim))\n",
    "minimap = minimap.opts(\n",
    "    cmap=\"RdBu_r\",\n",
    "    colorbar=False,\n",
    "    xlabel='',\n",
    "    alpha=0.5,\n",
    "    yticks=[yticks[0], yticks[-1]],\n",
    "    height=150,\n",
    "    responsive=True,\n",
    "    default_tools=[],\n",
    "    shared_axes=False,\n",
    ")\n",
    "\n",
    "# Link the curves plot to minimap\n",
    "link = RangeToolLink(minimap, curves_overlay, axes=[\"x\", \"y\"],\n",
    "              boundsy=(-.5, 3.5),\n",
    "              boundsx=(0, time[len(time)//3])\n",
    "             )\n",
    "\n",
    "plot = (curves_overlay + minimap).cols(1)\n"
   ]
  },
  {
   "cell_type": "markdown",
   "id": "4daf2b40-7b00-4644-8258-208d3bd7a904",
   "metadata": {},
   "source": [
    "## Time-Range Annotation"
   ]
  },
  {
   "cell_type": "markdown",
   "id": "23883ada-66b2-49bb-a55a-d83e5493a15d",
   "metadata": {},
   "source": [
    "### Create fake time range annotations"
   ]
  },
  {
   "cell_type": "code",
   "execution_count": null,
   "id": "f894500b-0224-49be-a737-f105f7757938",
   "metadata": {},
   "outputs": [],
   "source": [
    "def create_range_annotations(n_total_seconds: int, n_categories: int, \n",
    "                             n_total_annotations: int, duration: int = 1) -> pd.DataFrame:\n",
    "\n",
    "    \n",
    "    start_times = np.sort(np.random.randint(0, n_total_seconds - duration, n_total_annotations))\n",
    "    \n",
    "    # Ensure the annotations are non-overlapping\n",
    "    for i in range(1, len(start_times)):\n",
    "        if start_times[i] < start_times[i-1] + duration:\n",
    "            start_times[i] = start_times[i-1] + duration\n",
    "    end_times = start_times + duration\n",
    "    categories = np.random.choice(list(string.ascii_uppercase)[:n_categories], n_total_annotations)\n",
    "    \n",
    "    df = pd.DataFrame({\n",
    "        'start': start_times,\n",
    "        'end': end_times,\n",
    "        'category': categories\n",
    "    })\n",
    "    df['category'] = df['category'].astype('category')\n",
    "    df = df.sort_values('start')\n",
    "    return df\n",
    "\n",
    "np.random.seed(3)\n",
    "n_categories = 4\n",
    "n_total_annotations = 50\n",
    "annotations_df = create_range_annotations(n_seconds, n_categories, n_total_annotations)\n",
    "unique_categories = list(annotations_df['category'].unique()) + ['other']\n",
    "unique_categories.sort()\n",
    "print(unique_categories)\n",
    "annotations_df.head()"
   ]
  },
  {
   "cell_type": "markdown",
   "id": "8c62bff0-0bb2-4ba0-b9f0-5aabcf119581",
   "metadata": {},
   "source": [
    "## Create and Populate Annotator Instance"
   ]
  },
  {
   "cell_type": "markdown",
   "id": "2063aa3f-dae4-42da-8d70-5a5c527504af",
   "metadata": {},
   "source": [
    "First, define the Annotator instance. We'll specify the primary annotation 'Time' range type as float and then list the field we want to include, 'category'"
   ]
  },
  {
   "cell_type": "code",
   "execution_count": null,
   "id": "5a87a642-b62b-487c-be0d-692be2d0f812",
   "metadata": {},
   "outputs": [],
   "source": [
    "annotator = Annotator({\"Time\": float}, fields=[\"category\"])\n",
    "print('spec:', annotator.spec)\n",
    "print('fields:', annotator.fields)"
   ]
  },
  {
   "cell_type": "markdown",
   "id": "5db6b232-49f5-46e5-a69e-c79d7790987c",
   "metadata": {},
   "source": [
    "Next, we'll add our fake annotations to the annotator table"
   ]
  },
  {
   "cell_type": "code",
   "execution_count": null,
   "id": "a7d2f2f6-fe1c-41bc-96cc-af8ee385089d",
   "metadata": {},
   "outputs": [],
   "source": [
    "annotator.define_annotations(annotations_df, Time=(\"start\", \"end\"))\n",
    "annotator.df.head()"
   ]
  },
  {
   "cell_type": "markdown",
   "id": "45c52b60-5f20-4a0b-a6eb-f5140fff9ca6",
   "metadata": {},
   "source": [
    "## Define styling"
   ]
  },
  {
   "cell_type": "markdown",
   "id": "2af0341d-b5af-45e1-8731-ecde4a3872b4",
   "metadata": {},
   "source": [
    "Groupby the `category` to apply default colors per category"
   ]
  },
  {
   "cell_type": "code",
   "execution_count": null,
   "id": "0b8714a8-e1b8-41f3-a8f5-9c1d26eb5b31",
   "metadata": {},
   "outputs": [],
   "source": [
    "annotator.groupby = \"category\""
   ]
  },
  {
   "cell_type": "markdown",
   "id": "a247fe4c-273e-4c37-ab6b-6a45962e118b",
   "metadata": {},
   "source": [
    "Alternatively, we can explicitly map colors to categories"
   ]
  },
  {
   "cell_type": "code",
   "execution_count": null,
   "id": "e9395e9b-0913-47f8-bcec-2fadceda9731",
   "metadata": {},
   "outputs": [],
   "source": [
    "color_map = dict(zip(unique_categories, cc.glasbey[:len(unique_categories)]))\n",
    "annotator.style.color = hv.dim(\"category\").categorize(categories=color_map, default=\"grey\")\n",
    "annotator.style.color"
   ]
  },
  {
   "cell_type": "markdown",
   "id": "d6856cbf-bb2d-4f45-ba53-3214d4fbe630",
   "metadata": {},
   "source": [
    "## Create Widgets"
   ]
  },
  {
   "cell_type": "code",
   "execution_count": null,
   "id": "516a898e-e526-459f-84c5-ceb3be67e240",
   "metadata": {},
   "outputs": [],
   "source": [
    "annotator.style.edit_color = \"grey\""
   ]
  },
  {
   "cell_type": "code",
   "execution_count": null,
   "id": "0913716d-b994-4a93-850b-ac27dadf78ed",
   "metadata": {
    "tags": []
   },
   "outputs": [],
   "source": [
    "widget_select = pn.widgets.MultiSelect(value=unique_categories, options=unique_categories,)\n",
    "annotator.visible = widget_select\n",
    "annotator_tools = pn.panel(PanelWidgets(annotator, {\"category\": unique_categories}))"
   ]
  },
  {
   "cell_type": "code",
   "execution_count": null,
   "id": "eb8e697e-98b3-49dc-ab02-5ecafaf3bb0c",
   "metadata": {
    "tags": []
   },
   "outputs": [],
   "source": [
    "df = annotator.df.rename(columns={'start[Time]': 'start', 'end[Time]': 'end'}).reset_index(drop=True)\n",
    "hn_tabulator = pn.widgets.Tabulator(df,\n",
    "                     pagination='local',\n",
    "                     page_size=10,\n",
    "                     layout='fit_columns',\n",
    "                     editors={'index': None,\n",
    "                              'category': {'type': 'list', 'valuesLookup': True},\n",
    "                              'start': {'type': 'float'},\n",
    "                              'end': {'type': 'float'},\n",
    "                             },\n",
    "                    sizing_mode='stretch_width',\n",
    "                    header_align='center',\n",
    "                    text_align='center',  \n",
    "                    )"
   ]
  },
  {
   "cell_type": "code",
   "execution_count": null,
   "id": "4b4faf24-7f69-40c9-b302-cdedc5efa2aa",
   "metadata": {},
   "outputs": [],
   "source": [
    "show_hide = ('Show/Hide',\n",
    "     pn.Column(\n",
    "         widget_select,\n",
    "     ))\n",
    "\n",
    "table = ('Table',\n",
    "     pn.Column(\n",
    "         pn.Row(\n",
    "             pn.widgets.Select(name='Select all of', value=unique_categories[0], options=unique_categories, width=100),\n",
    "             pn.widgets.Button(name='Deselect', icon='deselect', button_type='primary', align='end'),\n",
    "         ),\n",
    "         hn_tabulator,\n",
    "         pn.Row(\n",
    "             pn.widgets.Button(name='Delete', icon='skull', button_type='danger', align='end'),\n",
    "             pn.widgets.Button(name='Edit', icon='category', button_type='warning', align='end', \n",
    "                               description='pop up modal to edit category of selected rows')\n",
    "         )\n",
    "     ))\n",
    "\n",
    "create_new = ('Create New',\n",
    "     pn.Column(\n",
    "         pn.widgets.Select(name='category', value=unique_categories[0], options=unique_categories),\n",
    "         pn.Row(\n",
    "             pn.widgets.FloatInput(name='start', width=80),\n",
    "             pn.widgets.FloatInput(name='end', width=80),\n",
    "             pn.widgets.Button(name='Add', width=80, align='end', icon='hand-click', button_type='primary')\n",
    "         ),\n",
    "     ))\n",
    "\n",
    "save_revert = ('Save/Revert',\n",
    "     pn.Column(\n",
    "         pn.pane.Alert('⚠ There are unsaved changes', alert_type='warning', stylesheets=[':host(.alert) { padding: 0.1rem 1.25rem;}']),\n",
    "         pn.Row(\n",
    "             pn.widgets.Button(name='Save Changes', icon='device-floppy', button_type='success', align='end'),\n",
    "             pn.widgets.Button(name='Revert Changes', icon='arrow-back-up', button_type='warning', align='end')\n",
    "         )\n",
    "     ))\n",
    "\n",
    "old_gui = ('Old GUI',\n",
    "     pn.Column(\n",
    "         annotator_tools,\n",
    "     ))"
   ]
  },
  {
   "cell_type": "code",
   "execution_count": null,
   "id": "66c464e2-87e8-45b9-aedd-03fa7c8d3d6d",
   "metadata": {},
   "outputs": [],
   "source": [
    "widgets = pn.WidgetBox(\n",
    "    pn.pane.Markdown('## HoloNote', align='center'),\n",
    "    pn.Tabs(('Time', pn.Accordion(show_hide, table, create_new, save_revert, old_gui, sizing_mode='stretch_width', active=[0,1,2,3]))),\n",
    ")"
   ]
  },
  {
   "cell_type": "markdown",
   "id": "6b1a7b72-a368-4248-a183-27e5b474a3d8",
   "metadata": {},
   "source": [
    "## Display Widgets with Plot"
   ]
  },
  {
   "cell_type": "markdown",
   "id": "56619b1f-f8e6-48a9-a1bf-649a7ca98604",
   "metadata": {},
   "source": [
    "Demetris\n",
    "- Reselecting the pan tool activates it.. box select is shadow-activated at first. Open holoviews/holonote issue.\n",
    "- why does including the minimap limit the height of the subcoord plot? File holoviews issue\n",
    "- Why can't we edit the start/end cells as floats? File panel issue\n",
    "- Why can't we see the tabulator page buttons in the served app? could try reducing the font size, otherwise file issue\n",
    "- File simon's issues as holonote issues.\n",
    "- add the Annotate1D one to the batch issue for this sprint.\n",
    "  \n",
    "Simon:\n",
    "- Add coloring to widget_select (annotator.visible widget)\n",
    "- pin color to category, rather than being based on which are initially displayed\n",
    "- kdims: avoid use of `get_element`. we should be able to just `app * annotator`, matching kdims.\n",
    "- overlay opts: Why do we have to re-apply some the opts to the new composite curves overlay but not the minimap? replacing annotations_overlay with `dmap = (hv.DynamicMap(lambda: hv.Curve([])))` replicates the issue. Might be related to holoviews #5441\n",
    "- Create functional Annotate1D batch app in Holonote based on this widget mockup. including:\n",
    "  - synced updates with the tabulator table (adding, editing, deleting annotations)\n",
    "  - indicator of uncommitted changes (e.g. color or mark the uncommited rows of the table)"
   ]
  },
  {
   "cell_type": "code",
   "execution_count": null,
   "id": "eeeecdb2",
   "metadata": {},
   "outputs": [],
   "source": [
    "app_w_annotations = pn.Column((annotator * plot).cols(1), min_height=500)\n",
    "app_w_annotations\n"
   ]
  },
  {
   "cell_type": "code",
   "execution_count": null,
   "id": "a3316ec4-6a7b-42de-be2e-d08201eb68cc",
   "metadata": {},
   "outputs": [],
   "source": [
    "# annotations_overlay = annotator.get_element(\"Time\").opts(show_legend=False, responsive=True)\n",
    "\n",
    "# curves_annotations = (curves_overlay * annotations_overlay).opts(\n",
    "#     ylabel=\"Channel\",\n",
    "#     show_legend=False,\n",
    "#     responsive=True,\n",
    "# )\n",
    "\n",
    "# with https://github.com/holoviz/holonote/pull/98 we can do this instead of the above:\n",
    "app_w_annotations = pn.Column((annotator * plot).cols(1), min_height=500)\n",
    "\n",
    "# app_w_annotations = pn.Column((curves_annotations + minimap * annotations_overlay).cols(1), min_height=800)\n",
    "widget_app_annotations = pn.Row(pn.Column(widgets, width=300, margin=(40,10)), app_w_annotations)\n",
    "widget_app_annotations"
   ]
  },
  {
   "cell_type": "markdown",
   "id": "a5eb7dd1-939b-46c1-9db5-d737a1290794",
   "metadata": {},
   "source": [
    "## Served app"
   ]
  },
  {
   "cell_type": "markdown",
   "id": "e36404d4-f643-43a3-942c-8ded4adb6ac5",
   "metadata": {},
   "source": [
    "TODO: how to fit the tabulator table in the sidebar of the served app"
   ]
  },
  {
   "cell_type": "code",
   "execution_count": null,
   "id": "725fbc96-d1b9-41c7-945b-2dfdfaca1043",
   "metadata": {},
   "outputs": [],
   "source": [
    "template = pn.template.BootstrapTemplate(\n",
    "    title='Multi-Channel Timeseries App - Time Annotations ',\n",
    "    main = [app_w_annotations],\n",
    "    sidebar=[widgets],\n",
    ")\n",
    "template.servable();"
   ]
  },
  {
   "cell_type": "code",
   "execution_count": null,
   "id": "d3188638-7d51-4960-9347-40a61ef5fedb",
   "metadata": {},
   "outputs": [],
   "source": []
  },
  {
   "cell_type": "code",
   "execution_count": null,
   "id": "a93f4c4c-667e-4a53-a925-23481c34ba24",
   "metadata": {},
   "outputs": [],
   "source": []
  }
 ],
 "metadata": {
  "kernelspec": {
   "display_name": "Python 3 (ipykernel)",
   "language": "python",
   "name": "python3"
  },
  "language_info": {
   "codemirror_mode": {
    "name": "ipython",
    "version": 3
   },
   "file_extension": ".py",
   "mimetype": "text/x-python",
   "name": "python",
   "nbconvert_exporter": "python",
   "pygments_lexer": "ipython3",
   "version": "3.12.2"
  }
 },
 "nbformat": 4,
 "nbformat_minor": 5
}
