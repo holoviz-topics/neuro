{
 "cells": [
  {
   "cell_type": "code",
   "execution_count": 2,
   "id": "1138c10d-97ad-4676-982c-7dc6724d5494",
   "metadata": {},
   "outputs": [],
   "source": [
    "import MEArec as mr\n",
    "default_info, mearec_home = mr.get_default_config()\n",
    "cell_folder = default_info['cell_models_folder']"
   ]
  },
  {
   "cell_type": "code",
   "execution_count": 3,
   "id": "b39d6759-5362-48fa-8f30-98925e24de9d",
   "metadata": {},
   "outputs": [
    {
     "data": {
      "text/plain": [
       "{'cell_models_folder': '/Users/droumis/.config/mearec/1.9.0/cell_models/bbp',\n",
       " 'recordings_folder': '/Users/droumis/.config/mearec/1.9.0/recordings',\n",
       " 'recordings_params': '/Users/droumis/.config/mearec/1.9.0/default_params/recordings_params.yaml',\n",
       " 'templates_folder': '/Users/droumis/.config/mearec/1.9.0/templates',\n",
       " 'templates_params': '/Users/droumis/.config/mearec/1.9.0/default_params/templates_params.yaml'}"
      ]
     },
     "execution_count": 3,
     "metadata": {},
     "output_type": "execute_result"
    }
   ],
   "source": [
    "default_info['templates_folder']"
   ]
  },
  {
   "cell_type": "code",
   "execution_count": null,
   "id": "79263ae1-a17b-4544-8707-59bf4f967e60",
   "metadata": {},
   "outputs": [],
   "source": [
    "template_params = mr.get_default_templates_params()\n",
    "template_params['n'] = 10\n",
    "template_params['probe'] = 'Neuronexus-32'\n",
    "tempgen = mr.gen_templates(cell_models_folder=cell_folder, params=template_params, n_jobs=1)"
   ]
  },
  {
   "cell_type": "code",
   "execution_count": 6,
   "id": "9146d633-3813-4496-8343-6cba35f8d955",
   "metadata": {},
   "outputs": [
    {
     "name": "stdout",
     "output_type": "stream",
     "text": [
      "mkdir: /Users/droumis/.config/mearec/1.9.0/templates: No such file or directory\n"
     ]
    }
   ],
   "source": [
    "!mkdir /Users/droumis/.config/mearec/1.9.0/templates/intracellular"
   ]
  },
  {
   "cell_type": "code",
   "execution_count": null,
   "id": "7dcb06a4-9b8c-4b15-9568-cff0c7c8f21d",
   "metadata": {},
   "outputs": [],
   "source": []
  },
  {
   "cell_type": "code",
   "execution_count": null,
   "id": "5428dd1d-6b4f-40c7-8b9b-dbb59e9515bb",
   "metadata": {},
   "outputs": [],
   "source": []
  },
  {
   "cell_type": "code",
   "execution_count": 11,
   "id": "853f1e5f-35df-40e4-8f77-862c47ea22a3",
   "metadata": {},
   "outputs": [
    {
     "name": "stdout",
     "output_type": "stream",
     "text": [
      "{'cell_models_folder': '/Users/droumis/.config/mearec/1.9.0/cell_models/bbp',\n",
      " 'recordings_folder': '/Users/droumis/.config/mearec/1.9.0/recordings',\n",
      " 'recordings_params': '/Users/droumis/.config/mearec/1.9.0/default_params/recordings_params.yaml',\n",
      " 'templates_folder': '/Users/droumis/.config/mearec/1.9.0/templates',\n",
      " 'templates_params': '/Users/droumis/.config/mearec/1.9.0/default_params/templates_params.yaml'}\n"
     ]
    }
   ],
   "source": [
    "templates_params = mr.get_default_templates_params()\n",
    "cell_models_folder = mr.get_default_cell_models_folder()"
   ]
  },
  {
   "cell_type": "code",
   "execution_count": 5,
   "id": "5be7dd1d-8ac0-46ee-aa6d-5957005dd71a",
   "metadata": {},
   "outputs": [
    {
     "name": "stdout",
     "output_type": "stream",
     "text": [
      "'/Users/droumis/.config/mearec/1.9.0/cell_models/bbp'\n"
     ]
    }
   ],
   "source": [
    "pprint(cell_models_folder)"
   ]
  },
  {
   "cell_type": "code",
   "execution_count": 7,
   "id": "9e4810e6-347a-4faf-84f7-3eea927de787",
   "metadata": {},
   "outputs": [
    {
     "name": "stdout",
     "output_type": "stream",
     "text": [
      "{'beta_distr_params': [1.5, 5],\n",
      " 'check_eap_shape': True,\n",
      " 'check_for_drift_amp': False,\n",
      " 'cut_out': [2, 5],\n",
      " 'delay': 10,\n",
      " 'drift_steps': 31,\n",
      " 'drift_within_bounds': False,\n",
      " 'drift_xlim': [-10, 10],\n",
      " 'drift_ylim': [-10, 10],\n",
      " 'drift_zlim': [30, 80],\n",
      " 'drifting': False,\n",
      " 'dt': 0.03125,\n",
      " 'max_drift': 100,\n",
      " 'max_iterations': 1000,\n",
      " 'min_amp': 30,\n",
      " 'min_drift': 30,\n",
      " 'n': 50,\n",
      " 'ncontacts': 10,\n",
      " 'offset': 0,\n",
      " 'overhang': 30,\n",
      " 'probe': 'Neuronexus-32',\n",
      " 'rot': 'physrot',\n",
      " 'seed': None,\n",
      " 'sim_time': 1,\n",
      " 'target_spikes': [3, 50],\n",
      " 'timeout': None,\n",
      " 'weights': [0.25, 1.75],\n",
      " 'x_distr': 'uniform',\n",
      " 'xlim': [10, 80],\n",
      " 'ylim': None,\n",
      " 'zlim': None}\n"
     ]
    }
   ],
   "source": [
    "pprint(templates_params)"
   ]
  },
  {
   "cell_type": "code",
   "execution_count": 8,
   "id": "20f09002-2d6c-4091-9885-8efa5c4c48ed",
   "metadata": {},
   "outputs": [],
   "source": [
    "templates_params['probe'] = 'Neuropixels-384'\n",
    "templates_params['n'] = 300"
   ]
  },
  {
   "cell_type": "code",
   "execution_count": 9,
   "id": "d0868a06-f292-4286-b85a-cf695df1dd39",
   "metadata": {},
   "outputs": [
    {
     "data": {
      "text/plain": [
       "\u001b[0;31mSignature:\u001b[0m\n",
       "\u001b[0mmr\u001b[0m\u001b[0;34m.\u001b[0m\u001b[0mgen_templates\u001b[0m\u001b[0;34m(\u001b[0m\u001b[0;34m\u001b[0m\n",
       "\u001b[0;34m\u001b[0m    \u001b[0mcell_models_folder\u001b[0m\u001b[0;34m,\u001b[0m\u001b[0;34m\u001b[0m\n",
       "\u001b[0;34m\u001b[0m    \u001b[0mparams\u001b[0m\u001b[0;34m=\u001b[0m\u001b[0;32mNone\u001b[0m\u001b[0;34m,\u001b[0m\u001b[0;34m\u001b[0m\n",
       "\u001b[0;34m\u001b[0m    \u001b[0mtemplates_tmp_folder\u001b[0m\u001b[0;34m=\u001b[0m\u001b[0;32mNone\u001b[0m\u001b[0;34m,\u001b[0m\u001b[0;34m\u001b[0m\n",
       "\u001b[0;34m\u001b[0m    \u001b[0mtempgen\u001b[0m\u001b[0;34m=\u001b[0m\u001b[0;32mNone\u001b[0m\u001b[0;34m,\u001b[0m\u001b[0;34m\u001b[0m\n",
       "\u001b[0;34m\u001b[0m    \u001b[0mintraonly\u001b[0m\u001b[0;34m=\u001b[0m\u001b[0;32mFalse\u001b[0m\u001b[0;34m,\u001b[0m\u001b[0;34m\u001b[0m\n",
       "\u001b[0;34m\u001b[0m    \u001b[0mparallel\u001b[0m\u001b[0;34m=\u001b[0m\u001b[0;32mTrue\u001b[0m\u001b[0;34m,\u001b[0m\u001b[0;34m\u001b[0m\n",
       "\u001b[0;34m\u001b[0m    \u001b[0mn_jobs\u001b[0m\u001b[0;34m=\u001b[0m\u001b[0;32mNone\u001b[0m\u001b[0;34m,\u001b[0m\u001b[0;34m\u001b[0m\n",
       "\u001b[0;34m\u001b[0m    \u001b[0mjoblib_backend\u001b[0m\u001b[0;34m=\u001b[0m\u001b[0;34m'loky'\u001b[0m\u001b[0;34m,\u001b[0m\u001b[0;34m\u001b[0m\n",
       "\u001b[0;34m\u001b[0m    \u001b[0mrecompile\u001b[0m\u001b[0;34m=\u001b[0m\u001b[0;32mFalse\u001b[0m\u001b[0;34m,\u001b[0m\u001b[0;34m\u001b[0m\n",
       "\u001b[0;34m\u001b[0m    \u001b[0mdelete_tmp\u001b[0m\u001b[0;34m=\u001b[0m\u001b[0;32mTrue\u001b[0m\u001b[0;34m,\u001b[0m\u001b[0;34m\u001b[0m\n",
       "\u001b[0;34m\u001b[0m    \u001b[0mverbose\u001b[0m\u001b[0;34m=\u001b[0m\u001b[0;32mTrue\u001b[0m\u001b[0;34m,\u001b[0m\u001b[0;34m\u001b[0m\n",
       "\u001b[0;34m\u001b[0m\u001b[0;34m)\u001b[0m\u001b[0;34m\u001b[0m\u001b[0;34m\u001b[0m\u001b[0m\n",
       "\u001b[0;31mDocstring:\u001b[0m\n",
       "Parameters\n",
       "----------\n",
       "cell_models_folder : str\n",
       "    path to folder containing cell models\n",
       "params : str or dict\n",
       "    Path to parameters yaml file or parameters dictionary\n",
       "templates_tmp_folder: str\n",
       "    Path to temporary folder where templates are temporarily saved\n",
       "tempgen :  TemplateGenerator\n",
       "    If a TemplateGenerator is passed, the cell types, locations, and rotations of the templates will be set using\n",
       "    the provided templates\n",
       "intraonly : bool\n",
       "    if True, only intracellular simulation is run\n",
       "parallel : bool\n",
       "    if True, multi-threading is used\n",
       "n_jobs: int\n",
       "    Number of jobs to run in parallel (If None all cpus are used)\n",
       "joblib_backend: str\n",
       "    The joblib backend to use when n_jobs > 1 (default 'loky')\n",
       "recompile: bool\n",
       "    If True, cell models are recompiled\n",
       "delete_tmp :\n",
       "    if True, the temporary files are deleted\n",
       "verbose : bool, or int\n",
       "    If True, the output is verbose (1). If verbose is 2, every step produces an output\n",
       "\n",
       "Returns\n",
       "-------\n",
       "TemplateGenerator\n",
       "    Generated template generator object\n",
       "\u001b[0;31mFile:\u001b[0m      ~/src/MEArec/src/MEArec/generation_tools.py\n",
       "\u001b[0;31mType:\u001b[0m      function"
      ]
     },
     "metadata": {},
     "output_type": "display_data"
    }
   ],
   "source": [
    "tempgen = mr.gen_templates?\n"
   ]
  },
  {
   "cell_type": "code",
   "execution_count": 10,
   "id": "58f259f3-bcd0-4fb9-a936-d19a944b383b",
   "metadata": {
    "collapsed": true,
    "jupyter": {
     "outputs_hidden": true
    }
   },
   "outputs": [
    {
     "name": "stdout",
     "output_type": "stream",
     "text": [
      "Compiling NEURON models\n",
      "Setting n_jobs to 10 CPUs\n",
      "Running with 10 jobs\n"
     ]
    },
    {
     "name": "stderr",
     "output_type": "stream",
     "text": [
      "sh: nrnivmodl: command not found\n"
     ]
    },
    {
     "name": "stdout",
     "output_type": "stream",
     "text": [
      "Starting simulation 1/13 - cell: L5_BP_bAC217_1\n",
      "\n",
      "Starting simulation 2/13 - cell: L5_BTC_bAC217_1\n",
      "\n",
      "Starting simulation 6/13 - cell: L5_MC_bAC217_1\n",
      "\n",
      "Starting simulation 11/13 - cell: L5_TTPC1_cADpyr232_1\n",
      "\n",
      "Starting simulation 4/13 - cell: L5_DBC_bAC217_1\n",
      "\n",
      "Starting simulation 12/13 - cell: L5_TTPC2_cADpyr232_1\n",
      "\n",
      "Starting simulation 13/13 - cell: L5_UTPC_cADpyr232_1\n",
      "\n",
      "Starting simulation 8/13 - cell: L5_NGC_bNAC219_1\n",
      "\n",
      "Starting simulation 3/13 - cell: L5_ChC_cACint209_1\n",
      "\n",
      "Starting simulation 5/13 - cell: L5_LBC_bAC217_1\n",
      "\n",
      "Starting simulation 9/13 - cell: L5_SBC_bNAC219_1\n",
      "\n",
      "Starting simulation 7/13 - cell: L5_NBC_bAC217_1\n",
      "\n"
     ]
    },
    {
     "name": "stderr",
     "output_type": "stream",
     "text": [
      "Fatal Python error: init_sys_streams: can't initialize sys standard streams\n",
      "Python runtime state: core initialized\n",
      "OSError: [Errno 9] Bad file descriptor\n",
      "\n",
      "Current thread 0x00000001e559a080 (most recent call first):\n",
      "  <no Python frame>\n",
      "Fatal Python error: init_sys_streams: can't initialize sys standard streams\n",
      "Python runtime state: core initialized\n",
      "OSError: [Errno 9] Bad file descriptor\n",
      "\n",
      "Current thread 0x00000001e559a080 (most recent call first):\n",
      "  <no Python frame>\n",
      "Fatal Python error: init_sys_streams: can't initialize sys standard streams\n",
      "Python runtime state: core initialized\n",
      "OSError: [Errno 9] Bad file descriptor\n",
      "\n",
      "Current thread 0x00000001e559a080 (most recent call first):\n",
      "  <no Python frame>\n",
      "Fatal Python error: init_sys_streams: can't initialize sys standard streams\n",
      "Python runtime state: core initialized\n",
      "OSError: [Errno 9] Bad file descriptor\n",
      "\n",
      "Current thread 0x00000001e559a080 (most recent call first):\n",
      "  <no Python frame>\n",
      "Fatal Python error: init_sys_streams: can't initialize sys standard streams\n",
      "Python runtime state: core initialized\n",
      "OSError: [Errno 9] Bad file descriptor\n",
      "\n",
      "Current thread 0x00000001e559a080 (most recent call first):\n",
      "  <no Python frame>\n",
      "Fatal Python error: init_sys_streams: can't initialize sys standard streams\n",
      "Python runtime state: core initialized\n",
      "OSError: [Errno 9] Bad file descriptor\n",
      "\n",
      "Current thread 0x00000001e559a080 (most recent call first):\n",
      "  <no Python frame>\n",
      "Fatal Python error: init_sys_streams: can't initialize sys standard streams\n",
      "Python runtime state: core initialized\n",
      "OSError: [Errno 9] Bad file descriptor\n",
      "\n",
      "Current thread 0x00000001e559a080 (most recent call first):\n",
      "  <no Python frame>\n",
      "Fatal Python error: init_sys_streams: can't initialize sys standard streams\n",
      "Python runtime state: core initialized\n",
      "OSError: [Errno 9] Bad file descriptor\n",
      "\n",
      "Current thread 0x00000001e559a080 (most recent call first):\n",
      "  <no Python frame>\n",
      "Fatal Python error: init_sys_streams: can't initialize sys standard streams\n",
      "Python runtime state: core initialized\n",
      "OSError: [Errno 9] Bad file descriptor\n",
      "\n",
      "Current thread 0x00000001e559a080 (most recent call first):\n",
      "  <no Python frame>\n",
      "Fatal Python error: init_sys_streams: can't initialize sys standard streams\n",
      "Python runtime state: core initialized\n",
      "OSError: [Errno 9] Bad file descriptor\n",
      "\n",
      "Current thread 0x00000001e559a080 (most recent call first):\n",
      "  <no Python frame>\n",
      "Fatal Python error: init_sys_streams: can't initialize sys standard streams\n",
      "Python runtime state: core initialized\n",
      "OSError: [Errno 9] Bad file descriptor\n",
      "\n",
      "Current thread 0x00000001e559a080 (most recent call first):\n",
      "  <no Python frame>\n",
      "Fatal Python error: init_sys_streams: can't initialize sys standard streams\n",
      "Python runtime state: core initialized\n",
      "OSError: [Errno 9] Bad file descriptor\n",
      "\n",
      "Current thread 0x00000001e559a080 (most recent call first):\n",
      "  <no Python frame>\n",
      "Fatal Python error: init_sys_streams: can't initialize sys standard streams\n",
      "Python runtime state: core initialized\n",
      "OSError: [Errno 9] Bad file descriptor\n",
      "\n",
      "Current thread 0x00000001e559a080 (most recent call first):\n",
      "  <no Python frame>\n"
     ]
    },
    {
     "name": "stdout",
     "output_type": "stream",
     "text": [
      "Starting simulation 10/13 - cell: L5_STPC_cADpyr232_1\n",
      "\n"
     ]
    },
    {
     "ename": "FileNotFoundError",
     "evalue": "[Errno 2] No such file or directory: '/Users/droumis/.config/mearec/1.9.0/templates/intracellular/intra_params.yaml'",
     "output_type": "error",
     "traceback": [
      "\u001b[0;31m---------------------------------------------------------------------------\u001b[0m",
      "\u001b[0;31mFileNotFoundError\u001b[0m                         Traceback (most recent call last)",
      "Cell \u001b[0;32mIn[10], line 1\u001b[0m\n\u001b[0;32m----> 1\u001b[0m tempgen \u001b[38;5;241m=\u001b[39m \u001b[43mmr\u001b[49m\u001b[38;5;241;43m.\u001b[39;49m\u001b[43mgen_templates\u001b[49m\u001b[43m(\u001b[49m\u001b[43mcell_models_folder\u001b[49m\u001b[38;5;241;43m=\u001b[39;49m\u001b[43mcell_models_folder\u001b[49m\u001b[43m,\u001b[49m\u001b[43m \u001b[49m\u001b[43mparams\u001b[49m\u001b[38;5;241;43m=\u001b[39;49m\u001b[43mtemplates_params\u001b[49m\u001b[43m,\u001b[49m\u001b[43m \u001b[49m\u001b[43mverbose\u001b[49m\u001b[38;5;241;43m=\u001b[39;49m\u001b[38;5;28;43;01mTrue\u001b[39;49;00m\u001b[43m)\u001b[49m\n",
      "File \u001b[0;32m~/src/MEArec/src/MEArec/generation_tools.py:286\u001b[0m, in \u001b[0;36mgen_templates\u001b[0;34m(cell_models_folder, params, templates_tmp_folder, tempgen, intraonly, parallel, n_jobs, joblib_backend, recompile, delete_tmp, verbose)\u001b[0m\n\u001b[1;32m    271\u001b[0m         os\u001b[38;5;241m.\u001b[39mmakedirs(templates_tmp_folder)\n\u001b[1;32m    273\u001b[0m tempgen \u001b[38;5;241m=\u001b[39m TemplateGenerator(\n\u001b[1;32m    274\u001b[0m     cell_models_folder\u001b[38;5;241m=\u001b[39mcell_models_folder,\n\u001b[1;32m    275\u001b[0m     params\u001b[38;5;241m=\u001b[39mparams_dict,\n\u001b[0;32m   (...)\u001b[0m\n\u001b[1;32m    284\u001b[0m     verbose\u001b[38;5;241m=\u001b[39mverbose,\n\u001b[1;32m    285\u001b[0m )\n\u001b[0;32m--> 286\u001b[0m \u001b[43mtempgen\u001b[49m\u001b[38;5;241;43m.\u001b[39;49m\u001b[43mgenerate_templates\u001b[49m\u001b[43m(\u001b[49m\u001b[43m)\u001b[49m\n\u001b[1;32m    288\u001b[0m \u001b[38;5;28;01mreturn\u001b[39;00m tempgen\n",
      "File \u001b[0;32m~/src/MEArec/src/MEArec/generators/templategenerator.py:320\u001b[0m, in \u001b[0;36mTemplateGenerator.generate_templates\u001b[0;34m(self)\u001b[0m\n\u001b[1;32m    318\u001b[0m \u001b[38;5;28;01mif\u001b[39;00m params_file\u001b[38;5;241m.\u001b[39mis_file():\n\u001b[1;32m    319\u001b[0m     params_file\u001b[38;5;241m.\u001b[39munlink()\n\u001b[0;32m--> 320\u001b[0m \u001b[38;5;28;01mwith\u001b[39;00m \u001b[43mparams_file\u001b[49m\u001b[38;5;241;43m.\u001b[39;49m\u001b[43mopen\u001b[49m\u001b[43m(\u001b[49m\u001b[38;5;124;43m\"\u001b[39;49m\u001b[38;5;124;43mw\u001b[39;49m\u001b[38;5;124;43m\"\u001b[39;49m\u001b[43m)\u001b[49m \u001b[38;5;28;01mas\u001b[39;00m f:\n\u001b[1;32m    321\u001b[0m     yaml\u001b[38;5;241m.\u001b[39mdump(intra_params, f)\n\u001b[1;32m    322\u001b[0m \u001b[38;5;28;01mif\u001b[39;00m \u001b[38;5;28mself\u001b[39m\u001b[38;5;241m.\u001b[39m_verbose:\n",
      "File \u001b[0;32m~/opt/miniconda3/envs/neuro-stackedtimeseries/lib/python3.11/pathlib.py:1044\u001b[0m, in \u001b[0;36mPath.open\u001b[0;34m(self, mode, buffering, encoding, errors, newline)\u001b[0m\n\u001b[1;32m   1042\u001b[0m \u001b[38;5;28;01mif\u001b[39;00m \u001b[38;5;124m\"\u001b[39m\u001b[38;5;124mb\u001b[39m\u001b[38;5;124m\"\u001b[39m \u001b[38;5;129;01mnot\u001b[39;00m \u001b[38;5;129;01min\u001b[39;00m mode:\n\u001b[1;32m   1043\u001b[0m     encoding \u001b[38;5;241m=\u001b[39m io\u001b[38;5;241m.\u001b[39mtext_encoding(encoding)\n\u001b[0;32m-> 1044\u001b[0m \u001b[38;5;28;01mreturn\u001b[39;00m \u001b[43mio\u001b[49m\u001b[38;5;241;43m.\u001b[39;49m\u001b[43mopen\u001b[49m\u001b[43m(\u001b[49m\u001b[38;5;28;43mself\u001b[39;49m\u001b[43m,\u001b[49m\u001b[43m \u001b[49m\u001b[43mmode\u001b[49m\u001b[43m,\u001b[49m\u001b[43m \u001b[49m\u001b[43mbuffering\u001b[49m\u001b[43m,\u001b[49m\u001b[43m \u001b[49m\u001b[43mencoding\u001b[49m\u001b[43m,\u001b[49m\u001b[43m \u001b[49m\u001b[43merrors\u001b[49m\u001b[43m,\u001b[49m\u001b[43m \u001b[49m\u001b[43mnewline\u001b[49m\u001b[43m)\u001b[49m\n",
      "\u001b[0;31mFileNotFoundError\u001b[0m: [Errno 2] No such file or directory: '/Users/droumis/.config/mearec/1.9.0/templates/intracellular/intra_params.yaml'"
     ]
    }
   ],
   "source": [
    "tempgen = mr.gen_templates(cell_models_folder=cell_models_folder, params=templates_params, verbose=True)\n"
   ]
  },
  {
   "cell_type": "code",
   "execution_count": null,
   "id": "9e5c6af2-6652-45c7-be9a-c3bf0a355d7b",
   "metadata": {},
   "outputs": [],
   "source": []
  }
 ],
 "metadata": {
  "kernelspec": {
   "display_name": "Python 3 (ipykernel)",
   "language": "python",
   "name": "python3"
  },
  "language_info": {
   "codemirror_mode": {
    "name": "ipython",
    "version": 3
   },
   "file_extension": ".py",
   "mimetype": "text/x-python",
   "name": "python",
   "nbconvert_exporter": "python",
   "pygments_lexer": "ipython3",
   "version": "3.11.6"
  }
 },
 "nbformat": 4,
 "nbformat_minor": 5
}
