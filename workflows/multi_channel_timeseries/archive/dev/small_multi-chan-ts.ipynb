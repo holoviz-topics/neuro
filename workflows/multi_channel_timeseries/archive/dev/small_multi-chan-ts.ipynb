{
 "cells": [
  {
   "cell_type": "markdown",
   "metadata": {},
   "source": [
    "# Small Datasets - Multi-Channel Timeseries with Numpy"
   ]
  },
  {
   "cell_type": "markdown",
   "metadata": {},
   "source": [
    "TODO create banner image\n",
    "![]()"
   ]
  },
  {
   "cell_type": "markdown",
   "metadata": {},
   "source": [
    "TODO: find and use a real EMG or EKG dataset"
   ]
  },
  {
   "cell_type": "markdown",
   "metadata": {},
   "source": [
    "---"
   ]
  },
  {
   "cell_type": "markdown",
   "metadata": {},
   "source": [
    "## Overview"
   ]
  },
  {
   "cell_type": "markdown",
   "metadata": {},
   "source": [
    "<div class=\"admonition alert alert-info\">\n",
    "    <p class=\"admonition-title\" style=\"font-weight:bold\"> Visit the Index Page </p>\n",
    "    This workflow example is part of set of related workflows. If you haven't already, visit the <a href=\"/index.html\">index</a> page for an introduction and guidance on choosing the appropriate workflow.\n",
    "</div>"
   ]
  },
  {
   "cell_type": "markdown",
   "metadata": {},
   "source": [
    "The intended use-case for this workflow is to browse and annotate multi-channel timeseries data from an [electrophysiological](https://en.wikipedia.org/wiki/Electrophysiology) recording session.\n",
    "\n",
    "TODO: write overview specific to smaller dataset situations"
   ]
  },
  {
   "cell_type": "markdown",
   "metadata": {},
   "source": [
    "## Prerequisites and Resources\n",
    "\n",
    "| Topic | Type | Notes |\n",
    "| --- | --- | --- |\n",
    "| [Intro and Guidance](./index.ipynb) | Prerequisite | Background |\n",
    "| [Time Range Annotation](./time_range_annotation.ipynb) | Next Step | Display and edit time ranges |\n",
    "| [Medium Dataset Workflow](./medium_multi-chan-ts.ipynb) | Alternative | Use Pandas and downsample |\n",
    "| [Larger Dataset Workflow](./large_multi-chan-ts.ipynb) | Alternative | Use dynamic data chunking |"
   ]
  },
  {
   "cell_type": "markdown",
   "metadata": {},
   "source": [
    "---"
   ]
  },
  {
   "cell_type": "markdown",
   "metadata": {},
   "source": [
    "## Imports and Configuration"
   ]
  },
  {
   "cell_type": "code",
   "execution_count": null,
   "metadata": {},
   "outputs": [],
   "source": [
    "import numpy as np\n",
    "\n",
    "import colorcet as cc\n",
    "import holoviews as hv\n",
    "from holoviews.plotting.links import RangeToolLink\n",
    "from holoviews.operation.datashader import rasterize\n",
    "from bokeh.models import HoverTool\n",
    "import panel as pn\n",
    "\n",
    "pn.extension()\n",
    "hv.extension('bokeh')\n",
    "np.random.seed(0)"
   ]
  },
  {
   "cell_type": "markdown",
   "metadata": {},
   "source": [
    "## Generate a Small Fake Dataset"
   ]
  },
  {
   "cell_type": "markdown",
   "metadata": {},
   "source": [
    "TODO: replace with a small real EMG dataset"
   ]
  },
  {
   "cell_type": "code",
   "execution_count": null,
   "metadata": {},
   "outputs": [],
   "source": [
    "n_channels = 6\n",
    "n_seconds = 300\n",
    "sampling_rate = 128\n",
    "\n",
    "initial_frequency = .01\n",
    "frequency_increment = 2/n_channels\n",
    "amplitude = 1\n",
    "\n",
    "total_samples = n_seconds * sampling_rate\n",
    "time = np.linspace(0, n_seconds, total_samples)\n",
    "\n",
    "# Let's just name our channels 'CH 0', 'CH 1', ...\n",
    "channels = [f'CH {i}' for i in range(n_channels)]\n",
    "\n",
    "# We'll also add a grouping to our channels\n",
    "groups = ['EEG'] * (n_channels // 2) + ['MEG'] * (n_channels - n_channels // 2)\n",
    "\n",
    "data = np.array([amplitude * np.sin(2 * np.pi * (initial_frequency + i * frequency_increment) * time)\n",
    "                 for i in range(n_channels)])\n",
    "\n",
    "print(f'shape: {data.shape} (n_channels, samples) ')"
   ]
  },
  {
   "cell_type": "markdown",
   "metadata": {},
   "source": [
    "## Visualize multi-channel timeseries"
   ]
  },
  {
   "cell_type": "code",
   "execution_count": null,
   "metadata": {},
   "outputs": [],
   "source": [
    "# TODO: different groups would have different units so need to change the amplitude dim"
   ]
  },
  {
   "cell_type": "code",
   "execution_count": null,
   "metadata": {},
   "outputs": [],
   "source": [
    "\n",
    "time_dim = hv.Dimension('Time', unit='s')\n",
    "amplitude_dim = hv.Dimension('Amplitude', unit='µV')\n",
    "\n",
    "# Create curves overlay plot\n",
    "curves = []\n",
    "for group, channel, channel_data in zip(groups, channels, data):\n",
    "    ds = hv.Dataset((time, channel_data), [time_dim, amplitude_dim])\n",
    "    curve = hv.Curve(ds, time_dim, amplitude_dim, group=group, label=f'{channel}')\n",
    "    curve.opts(\n",
    "        subcoordinate_y=True,\n",
    "        subcoordinate_scale=.75,\n",
    "        color=\"black\",\n",
    "        line_width=1,\n",
    "        tools=['hover'],\n",
    "        hover_tooltips=[(\"Type\", \"$group\"), (\"Channel\", \"$label\"), \"Time\", \"Amplitude\"],\n",
    "        )\n",
    "    curves.append(curve)\n",
    "\n",
    "curves_overlay = hv.Overlay(curves, kdims=\"Channel\")\n",
    "\n",
    "# set opts on overlay, including group-wise coloring\n",
    "color_map = dict(zip(set(groups), cc.b_glasbey_bw_minc_20[::-1][:len(set(groups))]))\n",
    "group_color_opts = [hv.opts.Curve(grp, color=grpclr) for grp, grpclr in color_map.items()]\n",
    "curves_overlay = curves_overlay.opts(\n",
    "    *group_color_opts,\n",
    "    hv.opts.Overlay(\n",
    "    xlabel=\"Time (s)\", ylabel=\"Channel\", show_legend=False,\n",
    "    padding=0, aspect=1.5, responsive=True, shared_axes=False, framewise=False, min_height=100,)\n",
    ")\n",
    "\n",
    "# Create minimap\n",
    "y_positions = range(len(channels))\n",
    "yticks = [(i, ich) for i, ich in enumerate(channels)]\n",
    "z_data = zscore(data, axis=1)\n",
    "minimap = rasterize(hv.Image((time, y_positions, z_data), [\"Time (s)\", \"Channel\"], \"Amplitude (uV)\"))\n",
    "minimap = minimap.opts(\n",
    "    cmap=\"RdBu_r\",\n",
    "    colorbar=False,\n",
    "    xlabel='',\n",
    "    alpha=0.5,\n",
    "    yticks=[yticks[0], yticks[-1]],\n",
    "    toolbar='disable',\n",
    "    height=120,\n",
    "    responsive=True,\n",
    "    default_tools=[],\n",
    "    )\n",
    "\n",
    "# Link minimap widget to curves overlay plot\n",
    "RangeToolLink(minimap, curves_overlay, axes=[\"x\", \"y\"],\n",
    "              boundsx=(0, time[len(time)//3]) # initial range of the minimap\n",
    "             )\n",
    "\n",
    "app = pn.Column((curves_overlay + minimap).cols(1), min_height=500).servable()\n",
    "app\n"
   ]
  },
  {
   "cell_type": "markdown",
   "metadata": {},
   "source": [
    "## Complete Code for Application"
   ]
  },
  {
   "cell_type": "code",
   "execution_count": null,
   "metadata": {},
   "outputs": [],
   "source": [
    "n_channels = 6\n",
    "n_seconds = 300\n",
    "sampling_rate = 128\n",
    "\n",
    "initial_frequency = .01\n",
    "frequency_increment = 2/n_channels\n",
    "amplitude = 1\n",
    "\n",
    "total_samples = n_seconds * sampling_rate\n",
    "time = np.linspace(0, n_seconds, total_samples)\n",
    "\n",
    "channels = [f'CH {i}' for i in range(n_channels)]\n",
    "groups = ['EEG'] * (n_channels // 2) + ['MEG'] * (n_channels - n_channels // 2)\n",
    "data = np.array([amplitude * np.sin(2 * np.pi * (initial_frequency + i * frequency_increment) * time)\n",
    "                 for i in range(n_channels)])\n",
    "\n",
    "time_dim = hv.Dimension('Time', unit='s')\n",
    "amplitude_dim = hv.Dimension('Amplitude', unit='µV')\n",
    "\n",
    "# set group colors\n",
    "color_map = dict(zip(set(groups), cc.b_glasbey_bw_minc_20[::-1][:len(set(groups))]))\n",
    "group_color_opts = [hv.opts.Curve(grp, color=grpclr) for grp, grpclr in color_map.items()]\n",
    "\n",
    "# Create curves overlay plot\n",
    "curves = []\n",
    "for group, channel, channel_data in zip(groups, channels, data):\n",
    "    ds = hv.Dataset((time, channel_data), [time_dim, amplitude_dim])\n",
    "    curve = hv.Curve(ds, time_dim, amplitude_dim, group=group, label=f'{channel}')\n",
    "    curve.opts(\n",
    "        subcoordinate_y=True,\n",
    "        subcoordinate_scale=.75,\n",
    "        color=\"black\",\n",
    "        line_width=1,\n",
    "        tools=['hover'],\n",
    "        hover_tooltips=[(\"Group\", \"$group\"), (\"Channel\", \"$label\"), \"Time\", \"Amplitude\"],\n",
    "        )\n",
    "    curves.append(curve)\n",
    "\n",
    "curves_overlay = hv.Overlay(curves, \"Channel\")\n",
    "\n",
    "curves_overlay = curves_overlay.opts(\n",
    "    *group_color_opts,\n",
    "    hv.opts.Overlay(\n",
    "    xlabel=\"Time (s)\", ylabel=\"Channel\", show_legend=False,\n",
    "    padding=0, aspect=1.5, responsive=True, shared_axes=False, framewise=False, min_height=100,)\n",
    ")\n",
    "\n",
    "# Create minimap\n",
    "y_positions = range(len(channels))\n",
    "yticks = [(i, ich) for i, ich in enumerate(channels)]\n",
    "z_data = zscore(data, axis=1)\n",
    "minimap = hv.Image((time, y_positions, z_data), [\"Time (s)\", \"Channel\"], \"Amplitude (uV)\")\n",
    "minimap = minimap.opts(\n",
    "    cmap=\"RdBu_r\",\n",
    "    colorbar=False,\n",
    "    xlabel='',\n",
    "    alpha=0.5,\n",
    "    yticks=[yticks[0], yticks[-1]],\n",
    "    toolbar='disable',\n",
    "    height=120,\n",
    "    responsive=True,\n",
    "    default_tools=[],\n",
    "    )\n",
    "\n",
    "# Link minimap widget to curves overlay plot\n",
    "RangeToolLink(minimap, curves_overlay, axes=[\"x\", \"y\"],\n",
    "              boundsy=(-.5, 5.5),\n",
    "              boundsx=(0, time[len(time)//3])\n",
    "             )\n",
    "\n",
    "app = pn.Column((curves_overlay + minimap).cols(1), min_height=500).servable()\n",
    "app\n"
   ]
  },
  {
   "cell_type": "markdown",
   "metadata": {},
   "source": [
    "## Summary\n",
    "\n",
    "### What's next?"
   ]
  },
  {
   "cell_type": "markdown",
   "metadata": {},
   "source": []
  }
 ],
 "metadata": {
  "kernelspec": {
   "display_name": "Python 3 (ipykernel)",
   "language": "python",
   "name": "python3"
  },
  "language_info": {
   "codemirror_mode": {
    "name": "ipython",
    "version": 3
   },
   "file_extension": ".py",
   "mimetype": "text/x-python",
   "name": "python",
   "nbconvert_exporter": "python",
   "pygments_lexer": "ipython3",
   "version": "3.12.2"
  }
 },
 "nbformat": 4,
 "nbformat_minor": 4
}
